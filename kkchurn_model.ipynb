{
 "cells": [
  {
   "cell_type": "code",
   "execution_count": 1,
   "metadata": {},
   "outputs": [],
   "source": [
    "import numpy as np\n",
    "import csv"
   ]
  },
  {
   "cell_type": "markdown",
   "metadata": {},
   "source": [
    "## KKChurn model \n",
    "### Team members: Lorena Mejía, Alfredo Carrillo and Ricardo Figueroa"
   ]
  },
  {
   "cell_type": "code",
   "execution_count": 2,
   "metadata": {},
   "outputs": [],
   "source": [
    "# Definimos función para importar datos\n",
    "def import_csv(file):\n",
    "    temp_data = []\n",
    "    with open(file,'rt', encoding='ASCII') as csvfile: \n",
    "        reader = csv.reader(csvfile, delimiter=',', quotechar='|') \n",
    "        for row in reader:\n",
    "            temp_data.append(row)\n",
    "    temp_data = np.array(temp_data)\n",
    "    return(temp_data)"
   ]
  },
  {
   "cell_type": "code",
   "execution_count": 3,
   "metadata": {},
   "outputs": [],
   "source": [
    "# Definimos una función para limpiar los datos del train y test data\n",
    "def limpiar_train_test(np_array):\n",
    "    np_array = np.array([[np_array[i][0].replace(\"=\", \"\"), np_array[i][1]] for i in range(len(np_array))])\n",
    "    return(np_array)"
   ]
  },
  {
   "cell_type": "code",
   "execution_count": null,
   "metadata": {},
   "outputs": [],
   "source": [
    "# importamos a un arreglo los datos de train.csv\n",
    "train_data = limpiar_train_test(import_csv('./data/train.csv'))\n",
    "# importamos a un arreglo los datos de train_2.csv, que es parte del refresh que se hizo sobre los datos\n",
    "train_data_v2 = limpiar_train_test(import_csv('./data/churn_comp_refresh/train_v2.csv'))\n",
    "# importamos a un arreglo los datos de submission_zero.csv\n",
    "sample_submission_zero = limpiar_train_test(import_csv('./data/sample_submission_zero.csv'))\n",
    "# importamos a un arreglo los datos de submission_v2.csv, que es parte del refresh que se hizo sobre los datos\n",
    "sample_submission_v2 = limpiar_train_test(import_csv('./data/churn_comp_refresh/sample_submission_v2.csv'))"
   ]
  },
  {
   "cell_type": "markdown",
   "metadata": {},
   "source": [
    "### Train y Test Data\n",
    "La información que viene en los archivos train.csv y sample_submission contiene el \"id\" de usuario en la primera columna y en la segunda columna, se incluye un indicador sobre el status de \"churn\" del usuario, es decir, si el valor es igual a 1, entonces el usuario decidió cancelar la suscripción al servicio dentro de los 30 días de prueba, 0 es el contrario del indicador."
   ]
  },
  {
   "cell_type": "code",
   "execution_count": null,
   "metadata": {},
   "outputs": [],
   "source": [
    "        "
   ]
  },
  {
   "cell_type": "code",
   "execution_count": null,
   "metadata": {},
   "outputs": [],
   "source": []
  },
  {
   "cell_type": "code",
   "execution_count": null,
   "metadata": {},
   "outputs": [],
   "source": []
  },
  {
   "cell_type": "code",
   "execution_count": null,
   "metadata": {},
   "outputs": [],
   "source": []
  },
  {
   "cell_type": "code",
   "execution_count": null,
   "metadata": {},
   "outputs": [],
   "source": []
  },
  {
   "cell_type": "code",
   "execution_count": null,
   "metadata": {},
   "outputs": [],
   "source": []
  },
  {
   "cell_type": "code",
   "execution_count": null,
   "metadata": {},
   "outputs": [],
   "source": []
  },
  {
   "cell_type": "code",
   "execution_count": null,
   "metadata": {},
   "outputs": [],
   "source": []
  },
  {
   "cell_type": "code",
   "execution_count": null,
   "metadata": {},
   "outputs": [],
   "source": []
  },
  {
   "cell_type": "code",
   "execution_count": null,
   "metadata": {},
   "outputs": [],
   "source": []
  },
  {
   "cell_type": "code",
   "execution_count": null,
   "metadata": {},
   "outputs": [],
   "source": []
  },
  {
   "cell_type": "code",
   "execution_count": null,
   "metadata": {},
   "outputs": [],
   "source": []
  },
  {
   "cell_type": "code",
   "execution_count": null,
   "metadata": {},
   "outputs": [],
   "source": []
  }
 ],
 "metadata": {
  "kernelspec": {
   "display_name": "Python 3",
   "language": "python",
   "name": "python3"
  },
  "language_info": {
   "codemirror_mode": {
    "name": "ipython",
    "version": 3
   },
   "file_extension": ".py",
   "mimetype": "text/x-python",
   "name": "python",
   "nbconvert_exporter": "python",
   "pygments_lexer": "ipython3",
   "version": "3.5.2"
  }
 },
 "nbformat": 4,
 "nbformat_minor": 2
}
