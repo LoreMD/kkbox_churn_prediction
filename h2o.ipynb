{
 "cells": [
  {
   "cell_type": "code",
   "execution_count": 22,
   "metadata": {},
   "outputs": [],
   "source": [
    "import h2o\n",
    "from h2o.estimators.gbm import H2OGradientBoostingEstimator"
   ]
  },
  {
   "cell_type": "code",
   "execution_count": 23,
   "metadata": {},
   "outputs": [
    {
     "name": "stdout",
     "output_type": "stream",
     "text": [
      "Checking whether there is an H2O instance running at http://localhost:54321. connected.\n"
     ]
    },
    {
     "data": {
      "text/html": [
       "<div style=\"overflow:auto\"><table style=\"width:50%\"><tr><td>H2O cluster uptime:</td>\n",
       "<td>30 mins 17 secs</td></tr>\n",
       "<tr><td>H2O cluster timezone:</td>\n",
       "<td>America/Mexico_City</td></tr>\n",
       "<tr><td>H2O data parsing timezone:</td>\n",
       "<td>UTC</td></tr>\n",
       "<tr><td>H2O cluster version:</td>\n",
       "<td>3.22.0.2</td></tr>\n",
       "<tr><td>H2O cluster version age:</td>\n",
       "<td>24 days </td></tr>\n",
       "<tr><td>H2O cluster name:</td>\n",
       "<td>H2O_from_python_ricardo_6hrbik</td></tr>\n",
       "<tr><td>H2O cluster total nodes:</td>\n",
       "<td>1</td></tr>\n",
       "<tr><td>H2O cluster free memory:</td>\n",
       "<td>1.532 Gb</td></tr>\n",
       "<tr><td>H2O cluster total cores:</td>\n",
       "<td>4</td></tr>\n",
       "<tr><td>H2O cluster allowed cores:</td>\n",
       "<td>4</td></tr>\n",
       "<tr><td>H2O cluster status:</td>\n",
       "<td>locked, healthy</td></tr>\n",
       "<tr><td>H2O connection url:</td>\n",
       "<td>http://localhost:54321</td></tr>\n",
       "<tr><td>H2O connection proxy:</td>\n",
       "<td>None</td></tr>\n",
       "<tr><td>H2O internal security:</td>\n",
       "<td>False</td></tr>\n",
       "<tr><td>H2O API Extensions:</td>\n",
       "<td>XGBoost, Algos, AutoML, Core V3, Core V4</td></tr>\n",
       "<tr><td>Python version:</td>\n",
       "<td>3.5.2 final</td></tr></table></div>"
      ],
      "text/plain": [
       "--------------------------  ----------------------------------------\n",
       "H2O cluster uptime:         30 mins 17 secs\n",
       "H2O cluster timezone:       America/Mexico_City\n",
       "H2O data parsing timezone:  UTC\n",
       "H2O cluster version:        3.22.0.2\n",
       "H2O cluster version age:    24 days\n",
       "H2O cluster name:           H2O_from_python_ricardo_6hrbik\n",
       "H2O cluster total nodes:    1\n",
       "H2O cluster free memory:    1.532 Gb\n",
       "H2O cluster total cores:    4\n",
       "H2O cluster allowed cores:  4\n",
       "H2O cluster status:         locked, healthy\n",
       "H2O connection url:         http://localhost:54321\n",
       "H2O connection proxy:\n",
       "H2O internal security:      False\n",
       "H2O API Extensions:         XGBoost, Algos, AutoML, Core V3, Core V4\n",
       "Python version:             3.5.2 final\n",
       "--------------------------  ----------------------------------------"
      ]
     },
     "metadata": {},
     "output_type": "display_data"
    }
   ],
   "source": [
    "h2o.init()"
   ]
  },
  {
   "cell_type": "code",
   "execution_count": 24,
   "metadata": {},
   "outputs": [
    {
     "name": "stdout",
     "output_type": "stream",
     "text": [
      "Parse progress: |█████████████████████████████████████████████████████████| 100%\n"
     ]
    }
   ],
   "source": [
    "airlines = h2o.import_file(\"https://s3.amazonaws.com/h2o-public-test-data/smalldata/airlines/allyears2k_headers.zip\")"
   ]
  },
  {
   "cell_type": "code",
   "execution_count": 25,
   "metadata": {},
   "outputs": [],
   "source": [
    "airlines[\"Year\"]=airlines[\"Year\"].asfactor()\n",
    "airlines[\"Month\"]=airlines[\"Month\"].asfactor()\n",
    "airlines[\"DayOfWeek\"]=airlines[\"DayOfWeek\"].asfactor()\n",
    "airlines[\"Cancelled\"]=airlines[\"Cancelled\"].asfactor()\n",
    "airlines[\"FlightNum\"]=airlines[\"FlightNum\"].asfactor()"
   ]
  },
  {
   "cell_type": "code",
   "execution_count": 26,
   "metadata": {},
   "outputs": [],
   "source": [
    "predictors = [\"Origin\", \"Dest\", \"Year\", \"UniqueCarrier\", \"DayOfWeek\", \"Month\", \"Distance\", \"FlightNum\"]\n",
    "response = \"IsDepDelayed\""
   ]
  },
  {
   "cell_type": "code",
   "execution_count": 27,
   "metadata": {},
   "outputs": [],
   "source": [
    "train, valid = airlines.split_frame(ratios = [0.8], seed=1234)"
   ]
  },
  {
   "cell_type": "code",
   "execution_count": 28,
   "metadata": {},
   "outputs": [],
   "source": [
    "bin_num = [8,16,32,64,128,256,512,1024,2048,4096]\n",
    "label = [\"8\",\"16\",\"32\",\"64\",\"128\",\"256\",\"512\",\"1024\",\"2048\",\"4096\"]"
   ]
  },
  {
   "cell_type": "code",
   "execution_count": 29,
   "metadata": {},
   "outputs": [
    {
     "name": "stdout",
     "output_type": "stream",
     "text": [
      "gbm Model Build progress: |███████████████████████████████████████████████| 100%\n",
      "gbm Model Build progress: |███████████████████████████████████████████████| 100%\n",
      "gbm Model Build progress: |███████████████████████████████████████████████| 100%\n",
      "gbm Model Build progress: |███████████████████████████████████████████████| 100%\n",
      "gbm Model Build progress: |███████████████████████████████████████████████| 100%\n",
      "gbm Model Build progress: |███████████████████████████████████████████████| 100%\n",
      "gbm Model Build progress: |███████████████████████████████████████████████| 100%\n",
      "gbm Model Build progress: |███████████████████████████████████████████████| 100%\n",
      "gbm Model Build progress: |███████████████████████████████████████████████| 100%\n",
      "gbm Model Build progress: |███████████████████████████████████████████████| 100%\n"
     ]
    }
   ],
   "source": [
    "for key, num in enumerate(bin_num):\n",
    "    airlines_gbm = H2OGradientBoostingEstimator(nbins_cats = num, seed=1234)\n",
    "    airlines_gbm.train(x=predictors, y=response, training_frame=train, validation_frame=valid)"
   ]
  },
  {
   "cell_type": "code",
   "execution_count": 30,
   "metadata": {
    "scrolled": true
   },
   "outputs": [
    {
     "name": "stdout",
     "output_type": "stream",
     "text": [
      "4096 training score 0.8592868257955105\n",
      "4096 validation score 0.7309097636276833\n"
     ]
    }
   ],
   "source": [
    "print(label[key], 'training score', airlines_gbm.auc(train=True))\n",
    "print(label[key], 'validation score', airlines_gbm.auc(valid=True))"
   ]
  },
  {
   "cell_type": "code",
   "execution_count": 31,
   "metadata": {},
   "outputs": [
    {
     "name": "stdout",
     "output_type": "stream",
     "text": [
      "Parse progress: |█████████████████████████████████████████████████████████| 100%\n"
     ]
    }
   ],
   "source": [
    "spotify = h2o.import_file(\"s3://proyectomineria/data/consolidated_train_table/part-00000-acf23e82-8c41-458f-9399-57e2a260de4b-c000.csv\")"
   ]
  },
  {
   "cell_type": "code",
   "execution_count": 32,
   "metadata": {},
   "outputs": [],
   "source": [
    "spotify[\"is_churn\"] = spotify[\"is_churn\"].asfactor()\n",
    "spotify[\"gender\"] = spotify[\"gender\"].asfactor()"
   ]
  },
  {
   "cell_type": "code",
   "execution_count": 35,
   "metadata": {},
   "outputs": [
    {
     "data": {
      "text/html": [
       "<table>\n",
       "<thead>\n",
       "<tr><th>msno                                        </th><th style=\"text-align: right;\">  is_churn</th><th style=\"text-align: right;\">  city</th><th style=\"text-align: right;\">  bd</th><th>gender  </th><th style=\"text-align: right;\">  registered_via</th><th>registered_init_time    </th><th style=\"text-align: right;\">       date</th><th style=\"text-align: right;\">  num_25</th><th style=\"text-align: right;\">  num_50</th><th style=\"text-align: right;\">  num_75</th><th style=\"text-align: right;\">  num_985</th><th style=\"text-align: right;\">  num_100</th><th style=\"text-align: right;\">  num_unq</th><th style=\"text-align: right;\">  total_secs</th><th style=\"text-align: right;\">  payment_method_id</th><th style=\"text-align: right;\">  payment_plan_days</th><th style=\"text-align: right;\">  plan_list_price</th><th style=\"text-align: right;\">  actual_amount_paid</th><th style=\"text-align: right;\">  is_auto_renew</th><th style=\"text-align: right;\">  transaction_date</th><th style=\"text-align: right;\">  membership_expire_date</th><th style=\"text-align: right;\">  is_cancel</th></tr>\n",
       "</thead>\n",
       "<tbody>\n",
       "<tr><td>++4RuqBw0Ss6bQU4oMxaRlbBPoWzoEiIZaxPM04Y4+U=</td><td style=\"text-align: right;\">         0</td><td style=\"text-align: right;\">     1</td><td style=\"text-align: right;\">   0</td><td>        </td><td style=\"text-align: right;\">               7</td><td>2014-07-14T00:00:00.000Z</td><td style=\"text-align: right;\">1.48398e+09</td><td style=\"text-align: right;\"> 5.73333</td><td style=\"text-align: right;\">0.933333</td><td style=\"text-align: right;\">0.733333</td><td style=\"text-align: right;\"> 0.666667</td><td style=\"text-align: right;\">  6.46667</td><td style=\"text-align: right;\">  13.0667</td><td style=\"text-align: right;\">     1978.66</td><td style=\"text-align: right;\">               41  </td><td style=\"text-align: right;\">                 30</td><td style=\"text-align: right;\">            149  </td><td style=\"text-align: right;\">               149  </td><td style=\"text-align: right;\">              1</td><td style=\"text-align: right;\">       1.48162e+09</td><td style=\"text-align: right;\">                     nan</td><td style=\"text-align: right;\">        0  </td></tr>\n",
       "<tr><td>+/namlXq+u3izRjHCFJV4MgqcXcLidZYszVsROOq/y4=</td><td style=\"text-align: right;\">         0</td><td style=\"text-align: right;\">    15</td><td style=\"text-align: right;\">  31</td><td>male    </td><td style=\"text-align: right;\">               9</td><td>2006-06-03T00:00:00.000Z</td><td style=\"text-align: right;\">1.48755e+09</td><td style=\"text-align: right;\">29.1333 </td><td style=\"text-align: right;\">1.26667 </td><td style=\"text-align: right;\">1.4     </td><td style=\"text-align: right;\"> 1.26667 </td><td style=\"text-align: right;\"> 33.6    </td><td style=\"text-align: right;\">  61.1333</td><td style=\"text-align: right;\">     9395.27</td><td style=\"text-align: right;\">               34  </td><td style=\"text-align: right;\">                 30</td><td style=\"text-align: right;\">            149  </td><td style=\"text-align: right;\">               149  </td><td style=\"text-align: right;\">              1</td><td style=\"text-align: right;\">       1.48311e+09</td><td style=\"text-align: right;\">                     nan</td><td style=\"text-align: right;\">        0  </td></tr>\n",
       "<tr><td>+0/X9tkmyHyet9X80G6GTrDFHnJqvai8d1ZPhayT0os=</td><td style=\"text-align: right;\">         0</td><td style=\"text-align: right;\">     9</td><td style=\"text-align: right;\">  31</td><td>male    </td><td style=\"text-align: right;\">               9</td><td>2004-03-30T00:00:00.000Z</td><td style=\"text-align: right;\">1.48764e+09</td><td style=\"text-align: right;\">12.4667 </td><td style=\"text-align: right;\">1.86667 </td><td style=\"text-align: right;\">1.06667 </td><td style=\"text-align: right;\"> 3.26667 </td><td style=\"text-align: right;\"> 67.8    </td><td style=\"text-align: right;\">  19.8667</td><td style=\"text-align: right;\">    17219   </td><td style=\"text-align: right;\">               34  </td><td style=\"text-align: right;\">                 30</td><td style=\"text-align: right;\">            149  </td><td style=\"text-align: right;\">               149  </td><td style=\"text-align: right;\">              1</td><td style=\"text-align: right;\">       1.48311e+09</td><td style=\"text-align: right;\">                     nan</td><td style=\"text-align: right;\">        0  </td></tr>\n",
       "<tr><td>+09YGn842g6h2EZUXe0VWeC4bBoCbDGfUboitc0vIHw=</td><td style=\"text-align: right;\">         0</td><td style=\"text-align: right;\">    15</td><td style=\"text-align: right;\">  29</td><td>male    </td><td style=\"text-align: right;\">               9</td><td>2008-03-22T00:00:00.000Z</td><td style=\"text-align: right;\">1.48751e+09</td><td style=\"text-align: right;\"> 2.33333</td><td style=\"text-align: right;\">0.6     </td><td style=\"text-align: right;\">0.333333</td><td style=\"text-align: right;\"> 0.666667</td><td style=\"text-align: right;\"> 33      </td><td style=\"text-align: right;\">  27.8   </td><td style=\"text-align: right;\">     8571.42</td><td style=\"text-align: right;\">               34  </td><td style=\"text-align: right;\">                 30</td><td style=\"text-align: right;\">            149  </td><td style=\"text-align: right;\">               149  </td><td style=\"text-align: right;\">              1</td><td style=\"text-align: right;\">       1.48311e+09</td><td style=\"text-align: right;\">                     nan</td><td style=\"text-align: right;\">        0  </td></tr>\n",
       "<tr><td>+0RJtbyhoPAHPa+34MkYcE2Ox0cjMgJOTXMXVBYgkJE=</td><td style=\"text-align: right;\">         1</td><td style=\"text-align: right;\">    13</td><td style=\"text-align: right;\">  29</td><td>female  </td><td style=\"text-align: right;\">               3</td><td>2012-06-12T00:00:00.000Z</td><td style=\"text-align: right;\">1.48615e+09</td><td style=\"text-align: right;\"> 2.4    </td><td style=\"text-align: right;\">0.866667</td><td style=\"text-align: right;\">0.866667</td><td style=\"text-align: right;\"> 1.33333 </td><td style=\"text-align: right;\"> 18.2    </td><td style=\"text-align: right;\">  20.5333</td><td style=\"text-align: right;\">     4813.96</td><td style=\"text-align: right;\">               32  </td><td style=\"text-align: right;\">                410</td><td style=\"text-align: right;\">           1788  </td><td style=\"text-align: right;\">              1788  </td><td style=\"text-align: right;\">              0</td><td style=\"text-align: right;\">       1.45273e+09</td><td style=\"text-align: right;\">                     nan</td><td style=\"text-align: right;\">        0  </td></tr>\n",
       "<tr><td>+0jTOa6KGPk1vtNTwRDMZc/McUo41AeuwV3ndo54Y+Q=</td><td style=\"text-align: right;\">         0</td><td style=\"text-align: right;\">     5</td><td style=\"text-align: right;\">  24</td><td>female  </td><td style=\"text-align: right;\">               9</td><td>2014-03-20T00:00:00.000Z</td><td style=\"text-align: right;\">1.48739e+09</td><td style=\"text-align: right;\">10.7333 </td><td style=\"text-align: right;\">4.4     </td><td style=\"text-align: right;\">0.933333</td><td style=\"text-align: right;\"> 0.533333</td><td style=\"text-align: right;\"> 19.6    </td><td style=\"text-align: right;\">  30.9333</td><td style=\"text-align: right;\">     5353.78</td><td style=\"text-align: right;\">               23  </td><td style=\"text-align: right;\">                 30</td><td style=\"text-align: right;\">            149  </td><td style=\"text-align: right;\">               149  </td><td style=\"text-align: right;\">              1</td><td style=\"text-align: right;\">       1.4805e+09 </td><td style=\"text-align: right;\">                     nan</td><td style=\"text-align: right;\">        0  </td></tr>\n",
       "<tr><td>+0l+FDuhyjaZnu0APnrg5L9QqgaRw4RmdQMvqOtKDmU=</td><td style=\"text-align: right;\">         0</td><td style=\"text-align: right;\">    13</td><td style=\"text-align: right;\">  32</td><td>male    </td><td style=\"text-align: right;\">               3</td><td>2015-03-16T00:00:00.000Z</td><td style=\"text-align: right;\">1.48743e+09</td><td style=\"text-align: right;\">12.3333 </td><td style=\"text-align: right;\">1.6     </td><td style=\"text-align: right;\">1.66667 </td><td style=\"text-align: right;\"> 0.933333</td><td style=\"text-align: right;\"> 40.6    </td><td style=\"text-align: right;\">  46.6667</td><td style=\"text-align: right;\">    10597.8 </td><td style=\"text-align: right;\">               37  </td><td style=\"text-align: right;\">                 30</td><td style=\"text-align: right;\">            149  </td><td style=\"text-align: right;\">               149  </td><td style=\"text-align: right;\">              1</td><td style=\"text-align: right;\">       1.48257e+09</td><td style=\"text-align: right;\">                     nan</td><td style=\"text-align: right;\">        0  </td></tr>\n",
       "<tr><td>+0l/WkoOIugT69NYawwewSLZjIJ17kHIpDdWqcp53RI=</td><td style=\"text-align: right;\">         0</td><td style=\"text-align: right;\">     5</td><td style=\"text-align: right;\">   0</td><td>        </td><td style=\"text-align: right;\">               3</td><td>2013-02-27T00:00:00.000Z</td><td style=\"text-align: right;\">1.48656e+09</td><td style=\"text-align: right;\"> 1      </td><td style=\"text-align: right;\">0.4     </td><td style=\"text-align: right;\">0.333333</td><td style=\"text-align: right;\"> 0.133333</td><td style=\"text-align: right;\"> 21.5333 </td><td style=\"text-align: right;\">  20.6667</td><td style=\"text-align: right;\">     5413.59</td><td style=\"text-align: right;\">               40  </td><td style=\"text-align: right;\">                 30</td><td style=\"text-align: right;\">            149  </td><td style=\"text-align: right;\">               149  </td><td style=\"text-align: right;\">              1</td><td style=\"text-align: right;\">       1.48302e+09</td><td style=\"text-align: right;\">                     nan</td><td style=\"text-align: right;\">        0.2</td></tr>\n",
       "<tr><td>+2Df04hr61UUJijMM2xR97gtoQWWDJpnJVKQ7VMYN9o=</td><td style=\"text-align: right;\">         0</td><td style=\"text-align: right;\">     6</td><td style=\"text-align: right;\">  31</td><td>female  </td><td style=\"text-align: right;\">               9</td><td>2008-04-17T00:00:00.000Z</td><td style=\"text-align: right;\">1.48764e+09</td><td style=\"text-align: right;\"> 1.26667</td><td style=\"text-align: right;\">0.466667</td><td style=\"text-align: right;\">0.333333</td><td style=\"text-align: right;\"> 1.86667 </td><td style=\"text-align: right;\">281.667  </td><td style=\"text-align: right;\">  15     </td><td style=\"text-align: right;\">    48663   </td><td style=\"text-align: right;\">               36.4</td><td style=\"text-align: right;\">                 30</td><td style=\"text-align: right;\">            167.6</td><td style=\"text-align: right;\">               167.6</td><td style=\"text-align: right;\">              1</td><td style=\"text-align: right;\">       1.48131e+09</td><td style=\"text-align: right;\">                     nan</td><td style=\"text-align: right;\">        0.2</td></tr>\n",
       "<tr><td>+2eLsQv6T46iKwO+m+r6OFI2X3Oc9dGBMdti2COAe4w=</td><td style=\"text-align: right;\">         0</td><td style=\"text-align: right;\">     1</td><td style=\"text-align: right;\">   0</td><td>        </td><td style=\"text-align: right;\">               7</td><td>2012-12-17T00:00:00.000Z</td><td style=\"text-align: right;\">1.48719e+09</td><td style=\"text-align: right;\"> 8.93333</td><td style=\"text-align: right;\">2.73333 </td><td style=\"text-align: right;\">1.33333 </td><td style=\"text-align: right;\"> 3       </td><td style=\"text-align: right;\"> 11.4    </td><td style=\"text-align: right;\">  23.2667</td><td style=\"text-align: right;\">     3921.46</td><td style=\"text-align: right;\">               41  </td><td style=\"text-align: right;\">                 30</td><td style=\"text-align: right;\">             99  </td><td style=\"text-align: right;\">                99  </td><td style=\"text-align: right;\">              1</td><td style=\"text-align: right;\">       1.47938e+09</td><td style=\"text-align: right;\">                     nan</td><td style=\"text-align: right;\">        0  </td></tr>\n",
       "</tbody>\n",
       "</table>"
      ]
     },
     "metadata": {},
     "output_type": "display_data"
    },
    {
     "data": {
      "text/plain": []
     },
     "execution_count": 35,
     "metadata": {},
     "output_type": "execute_result"
    }
   ],
   "source": [
    "spotify"
   ]
  },
  {
   "cell_type": "code",
   "execution_count": 36,
   "metadata": {},
   "outputs": [],
   "source": [
    "predictors = [\"city\", \"bd\", \"gender\", \"registered_via\", \"registered_init_time\", \"date\", \"num_25\", \"num_50\", \"num_75\", \"num_985\", \"num_100\", \"num_unq\", \"total_secs\",\"payment_method_id\", \"payment_plan_days\", \"plan_list_price\", \"actual_amount_paid\", \"is_auto_renew\", \"transaction_date\", \"is_cancel\"] \n",
    "response = \"is_churn\""
   ]
  },
  {
   "cell_type": "code",
   "execution_count": 37,
   "metadata": {},
   "outputs": [],
   "source": [
    "train, valid = spotify.split_frame(ratios = [0.8], seed=1234)"
   ]
  },
  {
   "cell_type": "code",
   "execution_count": 38,
   "metadata": {},
   "outputs": [],
   "source": [
    "bin_num = [8,16,32,64,128,256,512,1024,2048,4096]\n",
    "label = [\"8\",\"16\",\"32\",\"64\",\"128\",\"256\",\"512\",\"1024\",\"2048\",\"4096\"]"
   ]
  },
  {
   "cell_type": "code",
   "execution_count": 40,
   "metadata": {},
   "outputs": [
    {
     "name": "stdout",
     "output_type": "stream",
     "text": [
      "gbm Model Build progress: |███████████████████████████████████████████████| 100%\n",
      "gbm Model Build progress: |███████████████████████████████████████████████| 100%\n",
      "gbm Model Build progress: |███████████████████████████████████████████████| 100%\n",
      "gbm Model Build progress: |███████████████████████████████████████████████| 100%\n",
      "gbm Model Build progress: |████████████████████████████████████████████████| 100%\n",
      "gbm Model Build progress: |███████████████████████████████████████████████| 100%\n",
      "gbm Model Build progress: |███████████████████████████████████████████████| 100%\n",
      "gbm Model Build progress: |████████████████████████████████████████████████| 100%\n",
      "gbm Model Build progress: |███████████████████████████████████████████████| 100%\n",
      "gbm Model Build progress: |███████████████████████████████████████████████| 100%\n"
     ]
    }
   ],
   "source": [
    "for key, num in enumerate(bin_num):\n",
    "    spotify_gbm = H2OGradientBoostingEstimator(nbins_cats = num, seed=1234)\n",
    "    spotify_gbm.train(x=predictors, y=response, training_frame=train, validation_frame=valid)"
   ]
  },
  {
   "cell_type": "code",
   "execution_count": 41,
   "metadata": {},
   "outputs": [
    {
     "name": "stdout",
     "output_type": "stream",
     "text": [
      "4096 training score 0.9762370190185906\n",
      "4096 validation score 0.9710165838848582\n"
     ]
    }
   ],
   "source": [
    "print(label[key], 'training score', spotify_gbm.auc(train=True))\n",
    "print(label[key], 'validation score', spotify_gbm.auc(valid=True))"
   ]
  },
  {
   "cell_type": "code",
   "execution_count": null,
   "metadata": {},
   "outputs": [],
   "source": []
  },
  {
   "cell_type": "code",
   "execution_count": null,
   "metadata": {},
   "outputs": [],
   "source": []
  },
  {
   "cell_type": "code",
   "execution_count": null,
   "metadata": {},
   "outputs": [],
   "source": []
  },
  {
   "cell_type": "code",
   "execution_count": null,
   "metadata": {},
   "outputs": [],
   "source": []
  }
 ],
 "metadata": {
  "kernelspec": {
   "display_name": "Python 3",
   "language": "python",
   "name": "python3"
  },
  "language_info": {
   "codemirror_mode": {
    "name": "ipython",
    "version": 3
   },
   "file_extension": ".py",
   "mimetype": "text/x-python",
   "name": "python",
   "nbconvert_exporter": "python",
   "pygments_lexer": "ipython3",
   "version": "3.5.2"
  }
 },
 "nbformat": 4,
 "nbformat_minor": 2
}
