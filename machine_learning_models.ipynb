{
 "cells": [
  {
   "cell_type": "code",
   "execution_count": 1,
   "metadata": {},
   "outputs": [],
   "source": [
    "import h2o\n",
    "from h2o.estimators.gbm import H2OGradientBoostingEstimator\n",
    "from h2o.estimators.random_forest import H2ORandomForestEstimator\n",
    "import numpy as np\n",
    "import pandas as pd"
   ]
  },
  {
   "cell_type": "code",
   "execution_count": 2,
   "metadata": {},
   "outputs": [
    {
     "name": "stdout",
     "output_type": "stream",
     "text": [
      "Checking whether there is an H2O instance running at http://localhost:54321..... not found.\n",
      "Attempting to start a local H2O server...\n",
      "  Java Version: java version \"1.8.0_181\"; Java(TM) SE Runtime Environment (build 1.8.0_181-b13); Java HotSpot(TM) 64-Bit Server VM (build 25.181-b13, mixed mode)\n",
      "  Starting server from /home/ricardo/.local/lib/python3.5/site-packages/h2o/backend/bin/h2o.jar\n",
      "  Ice root: /tmp/tmpsaji9ik5\n",
      "  JVM stdout: /tmp/tmpsaji9ik5/h2o_ricardo_started_from_python.out\n",
      "  JVM stderr: /tmp/tmpsaji9ik5/h2o_ricardo_started_from_python.err\n",
      "  Server is running at http://127.0.0.1:54321\n",
      "Connecting to H2O server at http://127.0.0.1:54321... successful.\n"
     ]
    },
    {
     "data": {
      "text/html": [
       "<div style=\"overflow:auto\"><table style=\"width:50%\"><tr><td>H2O cluster uptime:</td>\n",
       "<td>03 secs</td></tr>\n",
       "<tr><td>H2O cluster timezone:</td>\n",
       "<td>America/Mexico_City</td></tr>\n",
       "<tr><td>H2O data parsing timezone:</td>\n",
       "<td>UTC</td></tr>\n",
       "<tr><td>H2O cluster version:</td>\n",
       "<td>3.22.0.2</td></tr>\n",
       "<tr><td>H2O cluster version age:</td>\n",
       "<td>26 days </td></tr>\n",
       "<tr><td>H2O cluster name:</td>\n",
       "<td>H2O_from_python_ricardo_atrc1f</td></tr>\n",
       "<tr><td>H2O cluster total nodes:</td>\n",
       "<td>1</td></tr>\n",
       "<tr><td>H2O cluster free memory:</td>\n",
       "<td>1.707 Gb</td></tr>\n",
       "<tr><td>H2O cluster total cores:</td>\n",
       "<td>4</td></tr>\n",
       "<tr><td>H2O cluster allowed cores:</td>\n",
       "<td>4</td></tr>\n",
       "<tr><td>H2O cluster status:</td>\n",
       "<td>accepting new members, healthy</td></tr>\n",
       "<tr><td>H2O connection url:</td>\n",
       "<td>http://127.0.0.1:54321</td></tr>\n",
       "<tr><td>H2O connection proxy:</td>\n",
       "<td>None</td></tr>\n",
       "<tr><td>H2O internal security:</td>\n",
       "<td>False</td></tr>\n",
       "<tr><td>H2O API Extensions:</td>\n",
       "<td>XGBoost, Algos, AutoML, Core V3, Core V4</td></tr>\n",
       "<tr><td>Python version:</td>\n",
       "<td>3.5.2 final</td></tr></table></div>"
      ],
      "text/plain": [
       "--------------------------  ----------------------------------------\n",
       "H2O cluster uptime:         03 secs\n",
       "H2O cluster timezone:       America/Mexico_City\n",
       "H2O data parsing timezone:  UTC\n",
       "H2O cluster version:        3.22.0.2\n",
       "H2O cluster version age:    26 days\n",
       "H2O cluster name:           H2O_from_python_ricardo_atrc1f\n",
       "H2O cluster total nodes:    1\n",
       "H2O cluster free memory:    1.707 Gb\n",
       "H2O cluster total cores:    4\n",
       "H2O cluster allowed cores:  4\n",
       "H2O cluster status:         accepting new members, healthy\n",
       "H2O connection url:         http://127.0.0.1:54321\n",
       "H2O connection proxy:\n",
       "H2O internal security:      False\n",
       "H2O API Extensions:         XGBoost, Algos, AutoML, Core V3, Core V4\n",
       "Python version:             3.5.2 final\n",
       "--------------------------  ----------------------------------------"
      ]
     },
     "metadata": {},
     "output_type": "display_data"
    }
   ],
   "source": [
    "h2o.init()"
   ]
  },
  {
   "cell_type": "code",
   "execution_count": 3,
   "metadata": {},
   "outputs": [
    {
     "name": "stdout",
     "output_type": "stream",
     "text": [
      "Parse progress: |█████████████████████████████████████████████████████████| 100%\n"
     ]
    }
   ],
   "source": [
    "spotify = h2o.import_file(\"s3://proyectomineria/data/consolidated_train_table/part-00000-acf23e82-8c41-458f-9399-57e2a260de4b-c000.csv\")"
   ]
  },
  {
   "cell_type": "code",
   "execution_count": 4,
   "metadata": {},
   "outputs": [],
   "source": [
    "spotify[\"is_churn\"] = spotify[\"is_churn\"].asfactor()\n",
    "spotify[\"gender\"] = spotify[\"gender\"].asfactor()"
   ]
  },
  {
   "cell_type": "code",
   "execution_count": 5,
   "metadata": {},
   "outputs": [
    {
     "data": {
      "text/html": [
       "<table>\n",
       "<thead>\n",
       "<tr><th>msno                                        </th><th style=\"text-align: right;\">  is_churn</th><th style=\"text-align: right;\">  city</th><th style=\"text-align: right;\">  bd</th><th>gender  </th><th style=\"text-align: right;\">  registered_via</th><th>registered_init_time    </th><th style=\"text-align: right;\">       date</th><th style=\"text-align: right;\">  num_25</th><th style=\"text-align: right;\">  num_50</th><th style=\"text-align: right;\">  num_75</th><th style=\"text-align: right;\">  num_985</th><th style=\"text-align: right;\">  num_100</th><th style=\"text-align: right;\">  num_unq</th><th style=\"text-align: right;\">  total_secs</th><th style=\"text-align: right;\">  payment_method_id</th><th style=\"text-align: right;\">  payment_plan_days</th><th style=\"text-align: right;\">  plan_list_price</th><th style=\"text-align: right;\">  actual_amount_paid</th><th style=\"text-align: right;\">  is_auto_renew</th><th style=\"text-align: right;\">  transaction_date</th><th style=\"text-align: right;\">  membership_expire_date</th><th style=\"text-align: right;\">  is_cancel</th></tr>\n",
       "</thead>\n",
       "<tbody>\n",
       "<tr><td>++4RuqBw0Ss6bQU4oMxaRlbBPoWzoEiIZaxPM04Y4+U=</td><td style=\"text-align: right;\">         0</td><td style=\"text-align: right;\">     1</td><td style=\"text-align: right;\">   0</td><td>        </td><td style=\"text-align: right;\">               7</td><td>2014-07-14T00:00:00.000Z</td><td style=\"text-align: right;\">1.48398e+09</td><td style=\"text-align: right;\"> 5.73333</td><td style=\"text-align: right;\">0.933333</td><td style=\"text-align: right;\">0.733333</td><td style=\"text-align: right;\"> 0.666667</td><td style=\"text-align: right;\">  6.46667</td><td style=\"text-align: right;\">  13.0667</td><td style=\"text-align: right;\">     1978.66</td><td style=\"text-align: right;\">               41  </td><td style=\"text-align: right;\">                 30</td><td style=\"text-align: right;\">            149  </td><td style=\"text-align: right;\">               149  </td><td style=\"text-align: right;\">              1</td><td style=\"text-align: right;\">       1.48162e+09</td><td style=\"text-align: right;\">                     nan</td><td style=\"text-align: right;\">        0  </td></tr>\n",
       "<tr><td>+/namlXq+u3izRjHCFJV4MgqcXcLidZYszVsROOq/y4=</td><td style=\"text-align: right;\">         0</td><td style=\"text-align: right;\">    15</td><td style=\"text-align: right;\">  31</td><td>male    </td><td style=\"text-align: right;\">               9</td><td>2006-06-03T00:00:00.000Z</td><td style=\"text-align: right;\">1.48755e+09</td><td style=\"text-align: right;\">29.1333 </td><td style=\"text-align: right;\">1.26667 </td><td style=\"text-align: right;\">1.4     </td><td style=\"text-align: right;\"> 1.26667 </td><td style=\"text-align: right;\"> 33.6    </td><td style=\"text-align: right;\">  61.1333</td><td style=\"text-align: right;\">     9395.27</td><td style=\"text-align: right;\">               34  </td><td style=\"text-align: right;\">                 30</td><td style=\"text-align: right;\">            149  </td><td style=\"text-align: right;\">               149  </td><td style=\"text-align: right;\">              1</td><td style=\"text-align: right;\">       1.48311e+09</td><td style=\"text-align: right;\">                     nan</td><td style=\"text-align: right;\">        0  </td></tr>\n",
       "<tr><td>+0/X9tkmyHyet9X80G6GTrDFHnJqvai8d1ZPhayT0os=</td><td style=\"text-align: right;\">         0</td><td style=\"text-align: right;\">     9</td><td style=\"text-align: right;\">  31</td><td>male    </td><td style=\"text-align: right;\">               9</td><td>2004-03-30T00:00:00.000Z</td><td style=\"text-align: right;\">1.48764e+09</td><td style=\"text-align: right;\">12.4667 </td><td style=\"text-align: right;\">1.86667 </td><td style=\"text-align: right;\">1.06667 </td><td style=\"text-align: right;\"> 3.26667 </td><td style=\"text-align: right;\"> 67.8    </td><td style=\"text-align: right;\">  19.8667</td><td style=\"text-align: right;\">    17219   </td><td style=\"text-align: right;\">               34  </td><td style=\"text-align: right;\">                 30</td><td style=\"text-align: right;\">            149  </td><td style=\"text-align: right;\">               149  </td><td style=\"text-align: right;\">              1</td><td style=\"text-align: right;\">       1.48311e+09</td><td style=\"text-align: right;\">                     nan</td><td style=\"text-align: right;\">        0  </td></tr>\n",
       "<tr><td>+09YGn842g6h2EZUXe0VWeC4bBoCbDGfUboitc0vIHw=</td><td style=\"text-align: right;\">         0</td><td style=\"text-align: right;\">    15</td><td style=\"text-align: right;\">  29</td><td>male    </td><td style=\"text-align: right;\">               9</td><td>2008-03-22T00:00:00.000Z</td><td style=\"text-align: right;\">1.48751e+09</td><td style=\"text-align: right;\"> 2.33333</td><td style=\"text-align: right;\">0.6     </td><td style=\"text-align: right;\">0.333333</td><td style=\"text-align: right;\"> 0.666667</td><td style=\"text-align: right;\"> 33      </td><td style=\"text-align: right;\">  27.8   </td><td style=\"text-align: right;\">     8571.42</td><td style=\"text-align: right;\">               34  </td><td style=\"text-align: right;\">                 30</td><td style=\"text-align: right;\">            149  </td><td style=\"text-align: right;\">               149  </td><td style=\"text-align: right;\">              1</td><td style=\"text-align: right;\">       1.48311e+09</td><td style=\"text-align: right;\">                     nan</td><td style=\"text-align: right;\">        0  </td></tr>\n",
       "<tr><td>+0RJtbyhoPAHPa+34MkYcE2Ox0cjMgJOTXMXVBYgkJE=</td><td style=\"text-align: right;\">         1</td><td style=\"text-align: right;\">    13</td><td style=\"text-align: right;\">  29</td><td>female  </td><td style=\"text-align: right;\">               3</td><td>2012-06-12T00:00:00.000Z</td><td style=\"text-align: right;\">1.48615e+09</td><td style=\"text-align: right;\"> 2.4    </td><td style=\"text-align: right;\">0.866667</td><td style=\"text-align: right;\">0.866667</td><td style=\"text-align: right;\"> 1.33333 </td><td style=\"text-align: right;\"> 18.2    </td><td style=\"text-align: right;\">  20.5333</td><td style=\"text-align: right;\">     4813.96</td><td style=\"text-align: right;\">               32  </td><td style=\"text-align: right;\">                410</td><td style=\"text-align: right;\">           1788  </td><td style=\"text-align: right;\">              1788  </td><td style=\"text-align: right;\">              0</td><td style=\"text-align: right;\">       1.45273e+09</td><td style=\"text-align: right;\">                     nan</td><td style=\"text-align: right;\">        0  </td></tr>\n",
       "<tr><td>+0jTOa6KGPk1vtNTwRDMZc/McUo41AeuwV3ndo54Y+Q=</td><td style=\"text-align: right;\">         0</td><td style=\"text-align: right;\">     5</td><td style=\"text-align: right;\">  24</td><td>female  </td><td style=\"text-align: right;\">               9</td><td>2014-03-20T00:00:00.000Z</td><td style=\"text-align: right;\">1.48739e+09</td><td style=\"text-align: right;\">10.7333 </td><td style=\"text-align: right;\">4.4     </td><td style=\"text-align: right;\">0.933333</td><td style=\"text-align: right;\"> 0.533333</td><td style=\"text-align: right;\"> 19.6    </td><td style=\"text-align: right;\">  30.9333</td><td style=\"text-align: right;\">     5353.78</td><td style=\"text-align: right;\">               23  </td><td style=\"text-align: right;\">                 30</td><td style=\"text-align: right;\">            149  </td><td style=\"text-align: right;\">               149  </td><td style=\"text-align: right;\">              1</td><td style=\"text-align: right;\">       1.4805e+09 </td><td style=\"text-align: right;\">                     nan</td><td style=\"text-align: right;\">        0  </td></tr>\n",
       "<tr><td>+0l+FDuhyjaZnu0APnrg5L9QqgaRw4RmdQMvqOtKDmU=</td><td style=\"text-align: right;\">         0</td><td style=\"text-align: right;\">    13</td><td style=\"text-align: right;\">  32</td><td>male    </td><td style=\"text-align: right;\">               3</td><td>2015-03-16T00:00:00.000Z</td><td style=\"text-align: right;\">1.48743e+09</td><td style=\"text-align: right;\">12.3333 </td><td style=\"text-align: right;\">1.6     </td><td style=\"text-align: right;\">1.66667 </td><td style=\"text-align: right;\"> 0.933333</td><td style=\"text-align: right;\"> 40.6    </td><td style=\"text-align: right;\">  46.6667</td><td style=\"text-align: right;\">    10597.8 </td><td style=\"text-align: right;\">               37  </td><td style=\"text-align: right;\">                 30</td><td style=\"text-align: right;\">            149  </td><td style=\"text-align: right;\">               149  </td><td style=\"text-align: right;\">              1</td><td style=\"text-align: right;\">       1.48257e+09</td><td style=\"text-align: right;\">                     nan</td><td style=\"text-align: right;\">        0  </td></tr>\n",
       "<tr><td>+0l/WkoOIugT69NYawwewSLZjIJ17kHIpDdWqcp53RI=</td><td style=\"text-align: right;\">         0</td><td style=\"text-align: right;\">     5</td><td style=\"text-align: right;\">   0</td><td>        </td><td style=\"text-align: right;\">               3</td><td>2013-02-27T00:00:00.000Z</td><td style=\"text-align: right;\">1.48656e+09</td><td style=\"text-align: right;\"> 1      </td><td style=\"text-align: right;\">0.4     </td><td style=\"text-align: right;\">0.333333</td><td style=\"text-align: right;\"> 0.133333</td><td style=\"text-align: right;\"> 21.5333 </td><td style=\"text-align: right;\">  20.6667</td><td style=\"text-align: right;\">     5413.59</td><td style=\"text-align: right;\">               40  </td><td style=\"text-align: right;\">                 30</td><td style=\"text-align: right;\">            149  </td><td style=\"text-align: right;\">               149  </td><td style=\"text-align: right;\">              1</td><td style=\"text-align: right;\">       1.48302e+09</td><td style=\"text-align: right;\">                     nan</td><td style=\"text-align: right;\">        0.2</td></tr>\n",
       "<tr><td>+2Df04hr61UUJijMM2xR97gtoQWWDJpnJVKQ7VMYN9o=</td><td style=\"text-align: right;\">         0</td><td style=\"text-align: right;\">     6</td><td style=\"text-align: right;\">  31</td><td>female  </td><td style=\"text-align: right;\">               9</td><td>2008-04-17T00:00:00.000Z</td><td style=\"text-align: right;\">1.48764e+09</td><td style=\"text-align: right;\"> 1.26667</td><td style=\"text-align: right;\">0.466667</td><td style=\"text-align: right;\">0.333333</td><td style=\"text-align: right;\"> 1.86667 </td><td style=\"text-align: right;\">281.667  </td><td style=\"text-align: right;\">  15     </td><td style=\"text-align: right;\">    48663   </td><td style=\"text-align: right;\">               36.4</td><td style=\"text-align: right;\">                 30</td><td style=\"text-align: right;\">            167.6</td><td style=\"text-align: right;\">               167.6</td><td style=\"text-align: right;\">              1</td><td style=\"text-align: right;\">       1.48131e+09</td><td style=\"text-align: right;\">                     nan</td><td style=\"text-align: right;\">        0.2</td></tr>\n",
       "<tr><td>+2eLsQv6T46iKwO+m+r6OFI2X3Oc9dGBMdti2COAe4w=</td><td style=\"text-align: right;\">         0</td><td style=\"text-align: right;\">     1</td><td style=\"text-align: right;\">   0</td><td>        </td><td style=\"text-align: right;\">               7</td><td>2012-12-17T00:00:00.000Z</td><td style=\"text-align: right;\">1.48719e+09</td><td style=\"text-align: right;\"> 8.93333</td><td style=\"text-align: right;\">2.73333 </td><td style=\"text-align: right;\">1.33333 </td><td style=\"text-align: right;\"> 3       </td><td style=\"text-align: right;\"> 11.4    </td><td style=\"text-align: right;\">  23.2667</td><td style=\"text-align: right;\">     3921.46</td><td style=\"text-align: right;\">               41  </td><td style=\"text-align: right;\">                 30</td><td style=\"text-align: right;\">             99  </td><td style=\"text-align: right;\">                99  </td><td style=\"text-align: right;\">              1</td><td style=\"text-align: right;\">       1.47938e+09</td><td style=\"text-align: right;\">                     nan</td><td style=\"text-align: right;\">        0  </td></tr>\n",
       "</tbody>\n",
       "</table>"
      ]
     },
     "metadata": {},
     "output_type": "display_data"
    },
    {
     "data": {
      "text/plain": []
     },
     "execution_count": 5,
     "metadata": {},
     "output_type": "execute_result"
    }
   ],
   "source": [
    "spotify"
   ]
  },
  {
   "cell_type": "code",
   "execution_count": 6,
   "metadata": {},
   "outputs": [],
   "source": [
    "predictors = [\"city\", \"gender\", \"registered_via\", \"registered_init_time\", \"date\", \"num_25\", \"num_50\", \"num_75\", \"num_985\", \"num_100\", \"num_unq\", \"total_secs\",\"payment_method_id\", \"payment_plan_days\", \"plan_list_price\", \"actual_amount_paid\", \"is_auto_renew\", \"transaction_date\", \"is_cancel\"] \n",
    "response = \"is_churn\""
   ]
  },
  {
   "cell_type": "code",
   "execution_count": 7,
   "metadata": {},
   "outputs": [],
   "source": [
    "train, valid = spotify.split_frame(ratios = [0.8], seed=1234)"
   ]
  },
  {
   "cell_type": "code",
   "execution_count": 8,
   "metadata": {},
   "outputs": [],
   "source": [
    "bin_num = [8,16,32,64,128,256,512,1024,2048,4096]\n",
    "label = [\"8\",\"16\",\"32\",\"64\",\"128\",\"256\",\"512\",\"1024\",\"2048\",\"4096\"]"
   ]
  },
  {
   "cell_type": "markdown",
   "metadata": {},
   "source": [
    "### Gradient Boosting Machine"
   ]
  },
  {
   "cell_type": "markdown",
   "metadata": {},
   "source": [
    "Gradient Boosting Machine (GBM) is a forward learning ensemble method. The guiding heuristic is that good predictive results can be obtained through increasingly refined approximations. H2O's GBM sequentially builds regression trees on all the features of the data set ina fully distributed way- each tree built in parallel. In some way, this model learns from the errors of the previous trees."
   ]
  },
  {
   "cell_type": "code",
   "execution_count": 9,
   "metadata": {},
   "outputs": [
    {
     "name": "stdout",
     "output_type": "stream",
     "text": [
      "gbm Model Build progress: |███████████████████████████████████████████████| 100%\n",
      "gbm Model Build progress: |███████████████████████████████████████████████| 100%\n",
      "gbm Model Build progress: |███████████████████████████████████████████████| 100%\n",
      "gbm Model Build progress: |███████████████████████████████████████████████| 100%\n",
      "gbm Model Build progress: |███████████████████████████████████████████████| 100%\n",
      "gbm Model Build progress: |███████████████████████████████████████████████| 100%\n",
      "gbm Model Build progress: |███████████████████████████████████████████████| 100%\n",
      "gbm Model Build progress: |███████████████████████████████████████████████| 100%\n",
      "gbm Model Build progress: |███████████████████████████████████████████████| 100%\n",
      "gbm Model Build progress: |███████████████████████████████████████████████| 100%\n"
     ]
    }
   ],
   "source": [
    "for key, num in enumerate(bin_num):\n",
    "    spotify_gbm = H2OGradientBoostingEstimator(nbins_cats = num, seed=1234)\n",
    "    spotify_gbm.train(x=predictors, y=response, training_frame=train, validation_frame=valid)"
   ]
  },
  {
   "cell_type": "code",
   "execution_count": 10,
   "metadata": {},
   "outputs": [
    {
     "name": "stdout",
     "output_type": "stream",
     "text": [
      "4096 training score 0.976811171802014\n",
      "4096 validation score 0.9713729284966914\n"
     ]
    }
   ],
   "source": [
    "print(label[key], 'training score', spotify_gbm.auc(train=True))\n",
    "print(label[key], 'validation score', spotify_gbm.auc(valid=True))"
   ]
  },
  {
   "cell_type": "code",
   "execution_count": 11,
   "metadata": {},
   "outputs": [
    {
     "name": "stdout",
     "output_type": "stream",
     "text": [
      "gbm prediction progress: |████████████████████████████████████████████████| 100%\n"
     ]
    }
   ],
   "source": [
    "final_gbm_predictions = spotify_gbm.predict(valid[1:])"
   ]
  },
  {
   "cell_type": "code",
   "execution_count": 12,
   "metadata": {},
   "outputs": [
    {
     "data": {
      "text/html": [
       "<table>\n",
       "<thead>\n",
       "<tr><th style=\"text-align: right;\">  predict</th><th style=\"text-align: right;\">      p0</th><th style=\"text-align: right;\">        p1</th></tr>\n",
       "</thead>\n",
       "<tbody>\n",
       "<tr><td style=\"text-align: right;\">        0</td><td style=\"text-align: right;\">0.996169</td><td style=\"text-align: right;\">0.00383067</td></tr>\n",
       "<tr><td style=\"text-align: right;\">        0</td><td style=\"text-align: right;\">0.995891</td><td style=\"text-align: right;\">0.00410929</td></tr>\n",
       "<tr><td style=\"text-align: right;\">        0</td><td style=\"text-align: right;\">0.995197</td><td style=\"text-align: right;\">0.00480288</td></tr>\n",
       "<tr><td style=\"text-align: right;\">        0</td><td style=\"text-align: right;\">0.966933</td><td style=\"text-align: right;\">0.0330673 </td></tr>\n",
       "<tr><td style=\"text-align: right;\">        1</td><td style=\"text-align: right;\">0.201176</td><td style=\"text-align: right;\">0.798824  </td></tr>\n",
       "<tr><td style=\"text-align: right;\">        0</td><td style=\"text-align: right;\">0.997387</td><td style=\"text-align: right;\">0.00261345</td></tr>\n",
       "<tr><td style=\"text-align: right;\">        0</td><td style=\"text-align: right;\">0.862844</td><td style=\"text-align: right;\">0.137156  </td></tr>\n",
       "<tr><td style=\"text-align: right;\">        0</td><td style=\"text-align: right;\">0.769958</td><td style=\"text-align: right;\">0.230042  </td></tr>\n",
       "<tr><td style=\"text-align: right;\">        0</td><td style=\"text-align: right;\">0.996278</td><td style=\"text-align: right;\">0.00372208</td></tr>\n",
       "<tr><td style=\"text-align: right;\">        0</td><td style=\"text-align: right;\">0.997261</td><td style=\"text-align: right;\">0.00273875</td></tr>\n",
       "</tbody>\n",
       "</table>"
      ]
     },
     "metadata": {},
     "output_type": "display_data"
    },
    {
     "data": {
      "text/plain": []
     },
     "execution_count": 12,
     "metadata": {},
     "output_type": "execute_result"
    }
   ],
   "source": [
    "final_gbm_predictions[:]"
   ]
  },
  {
   "cell_type": "markdown",
   "metadata": {},
   "source": [
    "Now we are going to modify the model to try to use only data from the user logs. Transactions data has a very different time frame. And data from members is static."
   ]
  },
  {
   "cell_type": "code",
   "execution_count": 13,
   "metadata": {},
   "outputs": [
    {
     "name": "stdout",
     "output_type": "stream",
     "text": [
      "Parse progress: |█████████████████████████████████████████████████████████| 100%\n"
     ]
    }
   ],
   "source": [
    "spotify1 = h2o.import_file(\"s3://proyectomineria/data/consolidated_train_table/part-00000-acf23e82-8c41-458f-9399-57e2a260de4b-c000.csv\")"
   ]
  },
  {
   "cell_type": "code",
   "execution_count": 14,
   "metadata": {},
   "outputs": [],
   "source": [
    "spotify1[\"is_churn\"] = spotify1[\"is_churn\"].asfactor()"
   ]
  },
  {
   "cell_type": "code",
   "execution_count": 15,
   "metadata": {},
   "outputs": [],
   "source": [
    "predictors1 = [\"date\", \"num_25\", \"num_50\", \"num_75\", \"num_985\", \"num_100\", \"num_unq\", \"total_secs\"] \n",
    "response1 = \"is_churn\""
   ]
  },
  {
   "cell_type": "code",
   "execution_count": 16,
   "metadata": {},
   "outputs": [],
   "source": [
    "train1, valid1 = spotify1.split_frame(ratios = [0.8], seed=1234)"
   ]
  },
  {
   "cell_type": "code",
   "execution_count": 17,
   "metadata": {},
   "outputs": [],
   "source": [
    "bin_num1 = [8,16,32,64,128,256,512,1024,2048,4096]\n",
    "label1 = [\"8\",\"16\",\"32\",\"64\",\"128\",\"256\",\"512\",\"1024\",\"2048\",\"4096\"]"
   ]
  },
  {
   "cell_type": "code",
   "execution_count": 18,
   "metadata": {},
   "outputs": [
    {
     "name": "stdout",
     "output_type": "stream",
     "text": [
      "gbm Model Build progress: |███████████████████████████████████████████████| 100%\n",
      "gbm Model Build progress: |███████████████████████████████████████████████| 100%\n",
      "gbm Model Build progress: |███████████████████████████████████████████████| 100%\n",
      "gbm Model Build progress: |███████████████████████████████████████████████| 100%\n",
      "gbm Model Build progress: |███████████████████████████████████████████████| 100%\n",
      "gbm Model Build progress: |███████████████████████████████████████████████| 100%\n",
      "gbm Model Build progress: |███████████████████████████████████████████████| 100%\n",
      "gbm Model Build progress: |███████████████████████████████████████████████| 100%\n",
      "gbm Model Build progress: |███████████████████████████████████████████████| 100%\n",
      "gbm Model Build progress: |███████████████████████████████████████████████| 100%\n"
     ]
    }
   ],
   "source": [
    "for key, num in enumerate(bin_num1):\n",
    "    spotify_gbm1 = H2OGradientBoostingEstimator(nbins_cats = num, seed=1234)\n",
    "    spotify_gbm1.train(x=predictors1, y=response1, training_frame=train1, validation_frame=valid1)"
   ]
  },
  {
   "cell_type": "code",
   "execution_count": 19,
   "metadata": {},
   "outputs": [
    {
     "name": "stdout",
     "output_type": "stream",
     "text": [
      "4096 training score 0.698655270278644\n",
      "4096 validation score 0.6912409028948672\n"
     ]
    }
   ],
   "source": [
    "print(label[key], 'training score', spotify_gbm1.auc(train=True))\n",
    "print(label[key], 'validation score', spotify_gbm1.auc(valid=True))"
   ]
  },
  {
   "cell_type": "markdown",
   "metadata": {},
   "source": [
    "Although this model has a greater error it is also more useful because tracks the user recent behavior."
   ]
  },
  {
   "cell_type": "markdown",
   "metadata": {},
   "source": [
    "### Distributed Random Forest"
   ]
  },
  {
   "cell_type": "markdown",
   "metadata": {},
   "source": [
    "Distributed Random Forest (DRF) is a powerful classification and regression tool. When given a set of data, DRF generates a forest of classification or regression trees, rather than a single classification or regression tree. Each of these trees is a weak learner built on a subset of rows and columns. More trees will reduce the variance. Both classification and regression take the average prediction over all of their trees to make a final prediction, whether predicting for a class or numeric value."
   ]
  },
  {
   "cell_type": "code",
   "execution_count": 20,
   "metadata": {},
   "outputs": [],
   "source": [
    "rf_v1 = H2ORandomForestEstimator(\n",
    "    model_id=\"rf_covType_v1\",\n",
    "    ntrees=200,\n",
    "    stopping_rounds=2,\n",
    "    score_each_iteration=True,\n",
    "seed=1000000)"
   ]
  },
  {
   "cell_type": "code",
   "execution_count": 21,
   "metadata": {},
   "outputs": [
    {
     "name": "stdout",
     "output_type": "stream",
     "text": [
      "drf Model Build progress: |███████████████████████████████████████████████| 100%\n"
     ]
    }
   ],
   "source": [
    "rf_v1.train(x=predictors, y=response, training_frame=train, validation_frame=valid)"
   ]
  },
  {
   "cell_type": "code",
   "execution_count": 22,
   "metadata": {},
   "outputs": [
    {
     "data": {
      "text/html": [
       "<div>\n",
       "<style scoped>\n",
       "    .dataframe tbody tr th:only-of-type {\n",
       "        vertical-align: middle;\n",
       "    }\n",
       "\n",
       "    .dataframe tbody tr th {\n",
       "        vertical-align: top;\n",
       "    }\n",
       "\n",
       "    .dataframe thead th {\n",
       "        text-align: right;\n",
       "    }\n",
       "</style>\n",
       "<table border=\"1\" class=\"dataframe\">\n",
       "  <thead>\n",
       "    <tr style=\"text-align: right;\">\n",
       "      <th></th>\n",
       "      <th></th>\n",
       "      <th>timestamp</th>\n",
       "      <th>duration</th>\n",
       "      <th>number_of_trees</th>\n",
       "      <th>training_rmse</th>\n",
       "      <th>training_logloss</th>\n",
       "      <th>training_auc</th>\n",
       "      <th>training_pr_auc</th>\n",
       "      <th>training_lift</th>\n",
       "      <th>training_classification_error</th>\n",
       "      <th>validation_rmse</th>\n",
       "      <th>validation_logloss</th>\n",
       "      <th>validation_auc</th>\n",
       "      <th>validation_pr_auc</th>\n",
       "      <th>validation_lift</th>\n",
       "      <th>validation_classification_error</th>\n",
       "    </tr>\n",
       "  </thead>\n",
       "  <tbody>\n",
       "    <tr>\n",
       "      <th>0</th>\n",
       "      <td></td>\n",
       "      <td>2018-12-18 12:03:50</td>\n",
       "      <td>0.016 sec</td>\n",
       "      <td>0.0</td>\n",
       "      <td>NaN</td>\n",
       "      <td>NaN</td>\n",
       "      <td>NaN</td>\n",
       "      <td>NaN</td>\n",
       "      <td>NaN</td>\n",
       "      <td>NaN</td>\n",
       "      <td>NaN</td>\n",
       "      <td>NaN</td>\n",
       "      <td>NaN</td>\n",
       "      <td>NaN</td>\n",
       "      <td>NaN</td>\n",
       "      <td>NaN</td>\n",
       "    </tr>\n",
       "    <tr>\n",
       "      <th>1</th>\n",
       "      <td></td>\n",
       "      <td>2018-12-18 12:03:50</td>\n",
       "      <td>0.981 sec</td>\n",
       "      <td>1.0</td>\n",
       "      <td>0.227669</td>\n",
       "      <td>1.523522</td>\n",
       "      <td>0.798407</td>\n",
       "      <td>0.169438</td>\n",
       "      <td>9.211052</td>\n",
       "      <td>0.055617</td>\n",
       "      <td>0.227365</td>\n",
       "      <td>1.517085</td>\n",
       "      <td>0.797626</td>\n",
       "      <td>0.168610</td>\n",
       "      <td>9.094388</td>\n",
       "      <td>0.054459</td>\n",
       "    </tr>\n",
       "    <tr>\n",
       "      <th>2</th>\n",
       "      <td></td>\n",
       "      <td>2018-12-18 12:03:51</td>\n",
       "      <td>1.551 sec</td>\n",
       "      <td>2.0</td>\n",
       "      <td>0.218741</td>\n",
       "      <td>1.253010</td>\n",
       "      <td>0.787966</td>\n",
       "      <td>0.200050</td>\n",
       "      <td>9.385622</td>\n",
       "      <td>0.054728</td>\n",
       "      <td>0.196285</td>\n",
       "      <td>0.583053</td>\n",
       "      <td>0.866890</td>\n",
       "      <td>0.373463</td>\n",
       "      <td>11.433029</td>\n",
       "      <td>0.057349</td>\n",
       "    </tr>\n",
       "    <tr>\n",
       "      <th>3</th>\n",
       "      <td></td>\n",
       "      <td>2018-12-18 12:03:52</td>\n",
       "      <td>2.057 sec</td>\n",
       "      <td>3.0</td>\n",
       "      <td>0.214341</td>\n",
       "      <td>1.119995</td>\n",
       "      <td>0.814802</td>\n",
       "      <td>0.235330</td>\n",
       "      <td>9.591126</td>\n",
       "      <td>0.057697</td>\n",
       "      <td>0.186320</td>\n",
       "      <td>0.361566</td>\n",
       "      <td>0.913646</td>\n",
       "      <td>0.481753</td>\n",
       "      <td>12.235982</td>\n",
       "      <td>0.045662</td>\n",
       "    </tr>\n",
       "    <tr>\n",
       "      <th>4</th>\n",
       "      <td></td>\n",
       "      <td>2018-12-18 12:03:52</td>\n",
       "      <td>2.526 sec</td>\n",
       "      <td>4.0</td>\n",
       "      <td>0.209565</td>\n",
       "      <td>0.942319</td>\n",
       "      <td>0.835633</td>\n",
       "      <td>0.289562</td>\n",
       "      <td>9.827775</td>\n",
       "      <td>0.055687</td>\n",
       "      <td>0.181875</td>\n",
       "      <td>0.242142</td>\n",
       "      <td>0.933719</td>\n",
       "      <td>0.568774</td>\n",
       "      <td>13.084951</td>\n",
       "      <td>0.045853</td>\n",
       "    </tr>\n",
       "    <tr>\n",
       "      <th>5</th>\n",
       "      <td></td>\n",
       "      <td>2018-12-18 12:03:53</td>\n",
       "      <td>3.022 sec</td>\n",
       "      <td>5.0</td>\n",
       "      <td>0.207588</td>\n",
       "      <td>0.745359</td>\n",
       "      <td>0.844578</td>\n",
       "      <td>0.346388</td>\n",
       "      <td>9.913552</td>\n",
       "      <td>0.056094</td>\n",
       "      <td>0.180970</td>\n",
       "      <td>0.169229</td>\n",
       "      <td>0.940811</td>\n",
       "      <td>0.633732</td>\n",
       "      <td>12.873991</td>\n",
       "      <td>0.048042</td>\n",
       "    </tr>\n",
       "    <tr>\n",
       "      <th>6</th>\n",
       "      <td></td>\n",
       "      <td>2018-12-18 12:03:53</td>\n",
       "      <td>3.594 sec</td>\n",
       "      <td>6.0</td>\n",
       "      <td>0.203492</td>\n",
       "      <td>0.644184</td>\n",
       "      <td>0.860318</td>\n",
       "      <td>0.380434</td>\n",
       "      <td>10.260552</td>\n",
       "      <td>0.055432</td>\n",
       "      <td>0.178770</td>\n",
       "      <td>0.147094</td>\n",
       "      <td>0.949699</td>\n",
       "      <td>0.660755</td>\n",
       "      <td>12.778007</td>\n",
       "      <td>0.048467</td>\n",
       "    </tr>\n",
       "    <tr>\n",
       "      <th>7</th>\n",
       "      <td></td>\n",
       "      <td>2018-12-18 12:03:54</td>\n",
       "      <td>4.249 sec</td>\n",
       "      <td>7.0</td>\n",
       "      <td>0.199184</td>\n",
       "      <td>0.551303</td>\n",
       "      <td>0.873043</td>\n",
       "      <td>0.415153</td>\n",
       "      <td>10.621417</td>\n",
       "      <td>0.058472</td>\n",
       "      <td>0.176712</td>\n",
       "      <td>0.133014</td>\n",
       "      <td>0.954687</td>\n",
       "      <td>0.681003</td>\n",
       "      <td>13.096247</td>\n",
       "      <td>0.044324</td>\n",
       "    </tr>\n",
       "    <tr>\n",
       "      <th>8</th>\n",
       "      <td></td>\n",
       "      <td>2018-12-18 12:03:55</td>\n",
       "      <td>5.305 sec</td>\n",
       "      <td>8.0</td>\n",
       "      <td>0.196447</td>\n",
       "      <td>0.495156</td>\n",
       "      <td>0.884656</td>\n",
       "      <td>0.440040</td>\n",
       "      <td>10.765676</td>\n",
       "      <td>0.053510</td>\n",
       "      <td>0.175579</td>\n",
       "      <td>0.128331</td>\n",
       "      <td>0.956034</td>\n",
       "      <td>0.695068</td>\n",
       "      <td>13.631497</td>\n",
       "      <td>0.045981</td>\n",
       "    </tr>\n",
       "    <tr>\n",
       "      <th>9</th>\n",
       "      <td></td>\n",
       "      <td>2018-12-18 12:03:56</td>\n",
       "      <td>6.092 sec</td>\n",
       "      <td>9.0</td>\n",
       "      <td>0.194783</td>\n",
       "      <td>0.430545</td>\n",
       "      <td>0.892602</td>\n",
       "      <td>0.465450</td>\n",
       "      <td>10.927244</td>\n",
       "      <td>0.052962</td>\n",
       "      <td>0.175817</td>\n",
       "      <td>0.124522</td>\n",
       "      <td>0.957061</td>\n",
       "      <td>0.693029</td>\n",
       "      <td>13.238735</td>\n",
       "      <td>0.043070</td>\n",
       "    </tr>\n",
       "    <tr>\n",
       "      <th>10</th>\n",
       "      <td></td>\n",
       "      <td>2018-12-18 12:03:56</td>\n",
       "      <td>6.630 sec</td>\n",
       "      <td>10.0</td>\n",
       "      <td>0.191647</td>\n",
       "      <td>0.372024</td>\n",
       "      <td>0.902919</td>\n",
       "      <td>0.493770</td>\n",
       "      <td>11.331150</td>\n",
       "      <td>0.051899</td>\n",
       "      <td>0.174714</td>\n",
       "      <td>0.118057</td>\n",
       "      <td>0.958798</td>\n",
       "      <td>0.702958</td>\n",
       "      <td>13.572882</td>\n",
       "      <td>0.044324</td>\n",
       "    </tr>\n",
       "    <tr>\n",
       "      <th>11</th>\n",
       "      <td></td>\n",
       "      <td>2018-12-18 12:03:57</td>\n",
       "      <td>7.195 sec</td>\n",
       "      <td>11.0</td>\n",
       "      <td>0.189196</td>\n",
       "      <td>0.325901</td>\n",
       "      <td>0.911982</td>\n",
       "      <td>0.519141</td>\n",
       "      <td>11.618770</td>\n",
       "      <td>0.051087</td>\n",
       "      <td>0.174002</td>\n",
       "      <td>0.115753</td>\n",
       "      <td>0.959918</td>\n",
       "      <td>0.707595</td>\n",
       "      <td>13.385667</td>\n",
       "      <td>0.043665</td>\n",
       "    </tr>\n",
       "    <tr>\n",
       "      <th>12</th>\n",
       "      <td></td>\n",
       "      <td>2018-12-18 12:03:57</td>\n",
       "      <td>7.845 sec</td>\n",
       "      <td>12.0</td>\n",
       "      <td>0.187028</td>\n",
       "      <td>0.289661</td>\n",
       "      <td>0.919932</td>\n",
       "      <td>0.540348</td>\n",
       "      <td>12.125004</td>\n",
       "      <td>0.050715</td>\n",
       "      <td>0.173391</td>\n",
       "      <td>0.114834</td>\n",
       "      <td>0.960739</td>\n",
       "      <td>0.713615</td>\n",
       "      <td>13.609114</td>\n",
       "      <td>0.042730</td>\n",
       "    </tr>\n",
       "    <tr>\n",
       "      <th>13</th>\n",
       "      <td></td>\n",
       "      <td>2018-12-18 12:03:58</td>\n",
       "      <td>8.395 sec</td>\n",
       "      <td>13.0</td>\n",
       "      <td>0.185121</td>\n",
       "      <td>0.260266</td>\n",
       "      <td>0.926846</td>\n",
       "      <td>0.563945</td>\n",
       "      <td>12.349941</td>\n",
       "      <td>0.049933</td>\n",
       "      <td>0.173013</td>\n",
       "      <td>0.113429</td>\n",
       "      <td>0.961222</td>\n",
       "      <td>0.716941</td>\n",
       "      <td>13.631497</td>\n",
       "      <td>0.041880</td>\n",
       "    </tr>\n",
       "    <tr>\n",
       "      <th>14</th>\n",
       "      <td></td>\n",
       "      <td>2018-12-18 12:03:58</td>\n",
       "      <td>8.956 sec</td>\n",
       "      <td>14.0</td>\n",
       "      <td>0.183871</td>\n",
       "      <td>0.239783</td>\n",
       "      <td>0.932048</td>\n",
       "      <td>0.578219</td>\n",
       "      <td>12.421268</td>\n",
       "      <td>0.049157</td>\n",
       "      <td>0.172346</td>\n",
       "      <td>0.111413</td>\n",
       "      <td>0.962216</td>\n",
       "      <td>0.721716</td>\n",
       "      <td>13.760096</td>\n",
       "      <td>0.042751</td>\n",
       "    </tr>\n",
       "    <tr>\n",
       "      <th>15</th>\n",
       "      <td></td>\n",
       "      <td>2018-12-18 12:03:59</td>\n",
       "      <td>9.643 sec</td>\n",
       "      <td>15.0</td>\n",
       "      <td>0.182337</td>\n",
       "      <td>0.215372</td>\n",
       "      <td>0.937168</td>\n",
       "      <td>0.594457</td>\n",
       "      <td>12.712771</td>\n",
       "      <td>0.051118</td>\n",
       "      <td>0.171916</td>\n",
       "      <td>0.108522</td>\n",
       "      <td>0.963131</td>\n",
       "      <td>0.725135</td>\n",
       "      <td>13.824395</td>\n",
       "      <td>0.040690</td>\n",
       "    </tr>\n",
       "    <tr>\n",
       "      <th>16</th>\n",
       "      <td></td>\n",
       "      <td>2018-12-18 12:04:00</td>\n",
       "      <td>10.212 sec</td>\n",
       "      <td>16.0</td>\n",
       "      <td>0.181595</td>\n",
       "      <td>0.197492</td>\n",
       "      <td>0.940455</td>\n",
       "      <td>0.608717</td>\n",
       "      <td>12.915204</td>\n",
       "      <td>0.050870</td>\n",
       "      <td>0.171783</td>\n",
       "      <td>0.107500</td>\n",
       "      <td>0.964804</td>\n",
       "      <td>0.729558</td>\n",
       "      <td>13.760096</td>\n",
       "      <td>0.042942</td>\n",
       "    </tr>\n",
       "    <tr>\n",
       "      <th>17</th>\n",
       "      <td></td>\n",
       "      <td>2018-12-18 12:04:00</td>\n",
       "      <td>10.804 sec</td>\n",
       "      <td>17.0</td>\n",
       "      <td>0.180702</td>\n",
       "      <td>0.186241</td>\n",
       "      <td>0.943266</td>\n",
       "      <td>0.620058</td>\n",
       "      <td>13.010252</td>\n",
       "      <td>0.050009</td>\n",
       "      <td>0.171154</td>\n",
       "      <td>0.106059</td>\n",
       "      <td>0.965834</td>\n",
       "      <td>0.734507</td>\n",
       "      <td>13.856545</td>\n",
       "      <td>0.040796</td>\n",
       "    </tr>\n",
       "    <tr>\n",
       "      <th>18</th>\n",
       "      <td></td>\n",
       "      <td>2018-12-18 12:04:01</td>\n",
       "      <td>11.402 sec</td>\n",
       "      <td>18.0</td>\n",
       "      <td>0.179975</td>\n",
       "      <td>0.175935</td>\n",
       "      <td>0.945035</td>\n",
       "      <td>0.628416</td>\n",
       "      <td>13.222901</td>\n",
       "      <td>0.049291</td>\n",
       "      <td>0.171133</td>\n",
       "      <td>0.105404</td>\n",
       "      <td>0.965950</td>\n",
       "      <td>0.735122</td>\n",
       "      <td>13.862445</td>\n",
       "      <td>0.041328</td>\n",
       "    </tr>\n",
       "    <tr>\n",
       "      <th>19</th>\n",
       "      <td></td>\n",
       "      <td>2018-12-18 12:04:02</td>\n",
       "      <td>12.021 sec</td>\n",
       "      <td>19.0</td>\n",
       "      <td>0.179194</td>\n",
       "      <td>0.164453</td>\n",
       "      <td>0.947555</td>\n",
       "      <td>0.636689</td>\n",
       "      <td>13.311972</td>\n",
       "      <td>0.047699</td>\n",
       "      <td>0.170830</td>\n",
       "      <td>0.104968</td>\n",
       "      <td>0.966270</td>\n",
       "      <td>0.737274</td>\n",
       "      <td>13.955515</td>\n",
       "      <td>0.041179</td>\n",
       "    </tr>\n",
       "    <tr>\n",
       "      <th>20</th>\n",
       "      <td></td>\n",
       "      <td>2018-12-18 12:04:02</td>\n",
       "      <td>12.630 sec</td>\n",
       "      <td>20.0</td>\n",
       "      <td>0.178397</td>\n",
       "      <td>0.156184</td>\n",
       "      <td>0.949541</td>\n",
       "      <td>0.644873</td>\n",
       "      <td>13.419201</td>\n",
       "      <td>0.046937</td>\n",
       "      <td>0.170532</td>\n",
       "      <td>0.104552</td>\n",
       "      <td>0.966541</td>\n",
       "      <td>0.740296</td>\n",
       "      <td>14.113743</td>\n",
       "      <td>0.041476</td>\n",
       "    </tr>\n",
       "    <tr>\n",
       "      <th>21</th>\n",
       "      <td></td>\n",
       "      <td>2018-12-18 12:04:03</td>\n",
       "      <td>13.262 sec</td>\n",
       "      <td>21.0</td>\n",
       "      <td>0.177857</td>\n",
       "      <td>0.150265</td>\n",
       "      <td>0.951481</td>\n",
       "      <td>0.651669</td>\n",
       "      <td>13.490113</td>\n",
       "      <td>0.046719</td>\n",
       "      <td>0.170271</td>\n",
       "      <td>0.102470</td>\n",
       "      <td>0.967317</td>\n",
       "      <td>0.741939</td>\n",
       "      <td>14.081593</td>\n",
       "      <td>0.040095</td>\n",
       "    </tr>\n",
       "    <tr>\n",
       "      <th>22</th>\n",
       "      <td></td>\n",
       "      <td>2018-12-18 12:04:03</td>\n",
       "      <td>13.964 sec</td>\n",
       "      <td>22.0</td>\n",
       "      <td>0.177414</td>\n",
       "      <td>0.145206</td>\n",
       "      <td>0.953044</td>\n",
       "      <td>0.658018</td>\n",
       "      <td>13.530599</td>\n",
       "      <td>0.045217</td>\n",
       "      <td>0.169980</td>\n",
       "      <td>0.101963</td>\n",
       "      <td>0.967858</td>\n",
       "      <td>0.744770</td>\n",
       "      <td>14.274492</td>\n",
       "      <td>0.040138</td>\n",
       "    </tr>\n",
       "    <tr>\n",
       "      <th>23</th>\n",
       "      <td></td>\n",
       "      <td>2018-12-18 12:04:04</td>\n",
       "      <td>14.627 sec</td>\n",
       "      <td>23.0</td>\n",
       "      <td>0.176995</td>\n",
       "      <td>0.139789</td>\n",
       "      <td>0.954287</td>\n",
       "      <td>0.663905</td>\n",
       "      <td>13.680904</td>\n",
       "      <td>0.047810</td>\n",
       "      <td>0.169905</td>\n",
       "      <td>0.101882</td>\n",
       "      <td>0.968150</td>\n",
       "      <td>0.746086</td>\n",
       "      <td>14.210192</td>\n",
       "      <td>0.040669</td>\n",
       "    </tr>\n",
       "    <tr>\n",
       "      <th>24</th>\n",
       "      <td></td>\n",
       "      <td>2018-12-18 12:04:05</td>\n",
       "      <td>15.329 sec</td>\n",
       "      <td>24.0</td>\n",
       "      <td>0.176578</td>\n",
       "      <td>0.136220</td>\n",
       "      <td>0.954994</td>\n",
       "      <td>0.670073</td>\n",
       "      <td>13.780442</td>\n",
       "      <td>0.045550</td>\n",
       "      <td>0.169643</td>\n",
       "      <td>0.101635</td>\n",
       "      <td>0.968245</td>\n",
       "      <td>0.748611</td>\n",
       "      <td>14.338791</td>\n",
       "      <td>0.041051</td>\n",
       "    </tr>\n",
       "    <tr>\n",
       "      <th>25</th>\n",
       "      <td></td>\n",
       "      <td>2018-12-18 12:04:06</td>\n",
       "      <td>16.009 sec</td>\n",
       "      <td>25.0</td>\n",
       "      <td>0.176210</td>\n",
       "      <td>0.132958</td>\n",
       "      <td>0.956058</td>\n",
       "      <td>0.673687</td>\n",
       "      <td>13.789713</td>\n",
       "      <td>0.045417</td>\n",
       "      <td>0.169514</td>\n",
       "      <td>0.101513</td>\n",
       "      <td>0.968299</td>\n",
       "      <td>0.749662</td>\n",
       "      <td>14.196127</td>\n",
       "      <td>0.039500</td>\n",
       "    </tr>\n",
       "    <tr>\n",
       "      <th>26</th>\n",
       "      <td></td>\n",
       "      <td>2018-12-18 12:04:06</td>\n",
       "      <td>16.750 sec</td>\n",
       "      <td>26.0</td>\n",
       "      <td>0.176091</td>\n",
       "      <td>0.131374</td>\n",
       "      <td>0.956513</td>\n",
       "      <td>0.675807</td>\n",
       "      <td>13.847358</td>\n",
       "      <td>0.046854</td>\n",
       "      <td>0.169468</td>\n",
       "      <td>0.101489</td>\n",
       "      <td>0.968314</td>\n",
       "      <td>0.750330</td>\n",
       "      <td>14.145893</td>\n",
       "      <td>0.040180</td>\n",
       "    </tr>\n",
       "    <tr>\n",
       "      <th>27</th>\n",
       "      <td></td>\n",
       "      <td>2018-12-18 12:04:07</td>\n",
       "      <td>17.436 sec</td>\n",
       "      <td>27.0</td>\n",
       "      <td>0.175728</td>\n",
       "      <td>0.129638</td>\n",
       "      <td>0.957186</td>\n",
       "      <td>0.678749</td>\n",
       "      <td>13.806684</td>\n",
       "      <td>0.047320</td>\n",
       "      <td>0.169171</td>\n",
       "      <td>0.101189</td>\n",
       "      <td>0.968743</td>\n",
       "      <td>0.752164</td>\n",
       "      <td>14.178043</td>\n",
       "      <td>0.039245</td>\n",
       "    </tr>\n",
       "    <tr>\n",
       "      <th>28</th>\n",
       "      <td></td>\n",
       "      <td>2018-12-18 12:04:08</td>\n",
       "      <td>18.132 sec</td>\n",
       "      <td>28.0</td>\n",
       "      <td>0.175518</td>\n",
       "      <td>0.127571</td>\n",
       "      <td>0.957913</td>\n",
       "      <td>0.682334</td>\n",
       "      <td>13.781616</td>\n",
       "      <td>0.046658</td>\n",
       "      <td>0.169073</td>\n",
       "      <td>0.100999</td>\n",
       "      <td>0.969152</td>\n",
       "      <td>0.753656</td>\n",
       "      <td>14.338791</td>\n",
       "      <td>0.040860</td>\n",
       "    </tr>\n",
       "    <tr>\n",
       "      <th>29</th>\n",
       "      <td></td>\n",
       "      <td>2018-12-18 12:04:08</td>\n",
       "      <td>18.831 sec</td>\n",
       "      <td>29.0</td>\n",
       "      <td>0.175174</td>\n",
       "      <td>0.125810</td>\n",
       "      <td>0.958449</td>\n",
       "      <td>0.685504</td>\n",
       "      <td>13.838297</td>\n",
       "      <td>0.044897</td>\n",
       "      <td>0.168999</td>\n",
       "      <td>0.100281</td>\n",
       "      <td>0.969435</td>\n",
       "      <td>0.754853</td>\n",
       "      <td>14.338791</td>\n",
       "      <td>0.040456</td>\n",
       "    </tr>\n",
       "    <tr>\n",
       "      <th>30</th>\n",
       "      <td></td>\n",
       "      <td>2018-12-18 12:04:09</td>\n",
       "      <td>19.558 sec</td>\n",
       "      <td>30.0</td>\n",
       "      <td>0.175035</td>\n",
       "      <td>0.124294</td>\n",
       "      <td>0.958892</td>\n",
       "      <td>0.688283</td>\n",
       "      <td>13.838297</td>\n",
       "      <td>0.045008</td>\n",
       "      <td>0.168987</td>\n",
       "      <td>0.100280</td>\n",
       "      <td>0.969237</td>\n",
       "      <td>0.754684</td>\n",
       "      <td>14.374204</td>\n",
       "      <td>0.040286</td>\n",
       "    </tr>\n",
       "    <tr>\n",
       "      <th>31</th>\n",
       "      <td></td>\n",
       "      <td>2018-12-18 12:04:10</td>\n",
       "      <td>20.271 sec</td>\n",
       "      <td>31.0</td>\n",
       "      <td>0.174838</td>\n",
       "      <td>0.122086</td>\n",
       "      <td>0.959484</td>\n",
       "      <td>0.690855</td>\n",
       "      <td>13.818979</td>\n",
       "      <td>0.044833</td>\n",
       "      <td>0.169017</td>\n",
       "      <td>0.100288</td>\n",
       "      <td>0.969274</td>\n",
       "      <td>0.754283</td>\n",
       "      <td>14.338791</td>\n",
       "      <td>0.039798</td>\n",
       "    </tr>\n",
       "    <tr>\n",
       "      <th>32</th>\n",
       "      <td></td>\n",
       "      <td>2018-12-18 12:04:11</td>\n",
       "      <td>21.039 sec</td>\n",
       "      <td>32.0</td>\n",
       "      <td>0.174578</td>\n",
       "      <td>0.120492</td>\n",
       "      <td>0.959992</td>\n",
       "      <td>0.693682</td>\n",
       "      <td>13.838814</td>\n",
       "      <td>0.044732</td>\n",
       "      <td>0.168835</td>\n",
       "      <td>0.100122</td>\n",
       "      <td>0.969261</td>\n",
       "      <td>0.755306</td>\n",
       "      <td>14.338791</td>\n",
       "      <td>0.040584</td>\n",
       "    </tr>\n",
       "  </tbody>\n",
       "</table>\n",
       "</div>"
      ],
      "text/plain": [
       "                timestamp    duration  number_of_trees  training_rmse  \\\n",
       "0     2018-12-18 12:03:50   0.016 sec              0.0            NaN   \n",
       "1     2018-12-18 12:03:50   0.981 sec              1.0       0.227669   \n",
       "2     2018-12-18 12:03:51   1.551 sec              2.0       0.218741   \n",
       "3     2018-12-18 12:03:52   2.057 sec              3.0       0.214341   \n",
       "4     2018-12-18 12:03:52   2.526 sec              4.0       0.209565   \n",
       "5     2018-12-18 12:03:53   3.022 sec              5.0       0.207588   \n",
       "6     2018-12-18 12:03:53   3.594 sec              6.0       0.203492   \n",
       "7     2018-12-18 12:03:54   4.249 sec              7.0       0.199184   \n",
       "8     2018-12-18 12:03:55   5.305 sec              8.0       0.196447   \n",
       "9     2018-12-18 12:03:56   6.092 sec              9.0       0.194783   \n",
       "10    2018-12-18 12:03:56   6.630 sec             10.0       0.191647   \n",
       "11    2018-12-18 12:03:57   7.195 sec             11.0       0.189196   \n",
       "12    2018-12-18 12:03:57   7.845 sec             12.0       0.187028   \n",
       "13    2018-12-18 12:03:58   8.395 sec             13.0       0.185121   \n",
       "14    2018-12-18 12:03:58   8.956 sec             14.0       0.183871   \n",
       "15    2018-12-18 12:03:59   9.643 sec             15.0       0.182337   \n",
       "16    2018-12-18 12:04:00  10.212 sec             16.0       0.181595   \n",
       "17    2018-12-18 12:04:00  10.804 sec             17.0       0.180702   \n",
       "18    2018-12-18 12:04:01  11.402 sec             18.0       0.179975   \n",
       "19    2018-12-18 12:04:02  12.021 sec             19.0       0.179194   \n",
       "20    2018-12-18 12:04:02  12.630 sec             20.0       0.178397   \n",
       "21    2018-12-18 12:04:03  13.262 sec             21.0       0.177857   \n",
       "22    2018-12-18 12:04:03  13.964 sec             22.0       0.177414   \n",
       "23    2018-12-18 12:04:04  14.627 sec             23.0       0.176995   \n",
       "24    2018-12-18 12:04:05  15.329 sec             24.0       0.176578   \n",
       "25    2018-12-18 12:04:06  16.009 sec             25.0       0.176210   \n",
       "26    2018-12-18 12:04:06  16.750 sec             26.0       0.176091   \n",
       "27    2018-12-18 12:04:07  17.436 sec             27.0       0.175728   \n",
       "28    2018-12-18 12:04:08  18.132 sec             28.0       0.175518   \n",
       "29    2018-12-18 12:04:08  18.831 sec             29.0       0.175174   \n",
       "30    2018-12-18 12:04:09  19.558 sec             30.0       0.175035   \n",
       "31    2018-12-18 12:04:10  20.271 sec             31.0       0.174838   \n",
       "32    2018-12-18 12:04:11  21.039 sec             32.0       0.174578   \n",
       "\n",
       "    training_logloss  training_auc  training_pr_auc  training_lift  \\\n",
       "0                NaN           NaN              NaN            NaN   \n",
       "1           1.523522      0.798407         0.169438       9.211052   \n",
       "2           1.253010      0.787966         0.200050       9.385622   \n",
       "3           1.119995      0.814802         0.235330       9.591126   \n",
       "4           0.942319      0.835633         0.289562       9.827775   \n",
       "5           0.745359      0.844578         0.346388       9.913552   \n",
       "6           0.644184      0.860318         0.380434      10.260552   \n",
       "7           0.551303      0.873043         0.415153      10.621417   \n",
       "8           0.495156      0.884656         0.440040      10.765676   \n",
       "9           0.430545      0.892602         0.465450      10.927244   \n",
       "10          0.372024      0.902919         0.493770      11.331150   \n",
       "11          0.325901      0.911982         0.519141      11.618770   \n",
       "12          0.289661      0.919932         0.540348      12.125004   \n",
       "13          0.260266      0.926846         0.563945      12.349941   \n",
       "14          0.239783      0.932048         0.578219      12.421268   \n",
       "15          0.215372      0.937168         0.594457      12.712771   \n",
       "16          0.197492      0.940455         0.608717      12.915204   \n",
       "17          0.186241      0.943266         0.620058      13.010252   \n",
       "18          0.175935      0.945035         0.628416      13.222901   \n",
       "19          0.164453      0.947555         0.636689      13.311972   \n",
       "20          0.156184      0.949541         0.644873      13.419201   \n",
       "21          0.150265      0.951481         0.651669      13.490113   \n",
       "22          0.145206      0.953044         0.658018      13.530599   \n",
       "23          0.139789      0.954287         0.663905      13.680904   \n",
       "24          0.136220      0.954994         0.670073      13.780442   \n",
       "25          0.132958      0.956058         0.673687      13.789713   \n",
       "26          0.131374      0.956513         0.675807      13.847358   \n",
       "27          0.129638      0.957186         0.678749      13.806684   \n",
       "28          0.127571      0.957913         0.682334      13.781616   \n",
       "29          0.125810      0.958449         0.685504      13.838297   \n",
       "30          0.124294      0.958892         0.688283      13.838297   \n",
       "31          0.122086      0.959484         0.690855      13.818979   \n",
       "32          0.120492      0.959992         0.693682      13.838814   \n",
       "\n",
       "    training_classification_error  validation_rmse  validation_logloss  \\\n",
       "0                             NaN              NaN                 NaN   \n",
       "1                        0.055617         0.227365            1.517085   \n",
       "2                        0.054728         0.196285            0.583053   \n",
       "3                        0.057697         0.186320            0.361566   \n",
       "4                        0.055687         0.181875            0.242142   \n",
       "5                        0.056094         0.180970            0.169229   \n",
       "6                        0.055432         0.178770            0.147094   \n",
       "7                        0.058472         0.176712            0.133014   \n",
       "8                        0.053510         0.175579            0.128331   \n",
       "9                        0.052962         0.175817            0.124522   \n",
       "10                       0.051899         0.174714            0.118057   \n",
       "11                       0.051087         0.174002            0.115753   \n",
       "12                       0.050715         0.173391            0.114834   \n",
       "13                       0.049933         0.173013            0.113429   \n",
       "14                       0.049157         0.172346            0.111413   \n",
       "15                       0.051118         0.171916            0.108522   \n",
       "16                       0.050870         0.171783            0.107500   \n",
       "17                       0.050009         0.171154            0.106059   \n",
       "18                       0.049291         0.171133            0.105404   \n",
       "19                       0.047699         0.170830            0.104968   \n",
       "20                       0.046937         0.170532            0.104552   \n",
       "21                       0.046719         0.170271            0.102470   \n",
       "22                       0.045217         0.169980            0.101963   \n",
       "23                       0.047810         0.169905            0.101882   \n",
       "24                       0.045550         0.169643            0.101635   \n",
       "25                       0.045417         0.169514            0.101513   \n",
       "26                       0.046854         0.169468            0.101489   \n",
       "27                       0.047320         0.169171            0.101189   \n",
       "28                       0.046658         0.169073            0.100999   \n",
       "29                       0.044897         0.168999            0.100281   \n",
       "30                       0.045008         0.168987            0.100280   \n",
       "31                       0.044833         0.169017            0.100288   \n",
       "32                       0.044732         0.168835            0.100122   \n",
       "\n",
       "    validation_auc  validation_pr_auc  validation_lift  \\\n",
       "0              NaN                NaN              NaN   \n",
       "1         0.797626           0.168610         9.094388   \n",
       "2         0.866890           0.373463        11.433029   \n",
       "3         0.913646           0.481753        12.235982   \n",
       "4         0.933719           0.568774        13.084951   \n",
       "5         0.940811           0.633732        12.873991   \n",
       "6         0.949699           0.660755        12.778007   \n",
       "7         0.954687           0.681003        13.096247   \n",
       "8         0.956034           0.695068        13.631497   \n",
       "9         0.957061           0.693029        13.238735   \n",
       "10        0.958798           0.702958        13.572882   \n",
       "11        0.959918           0.707595        13.385667   \n",
       "12        0.960739           0.713615        13.609114   \n",
       "13        0.961222           0.716941        13.631497   \n",
       "14        0.962216           0.721716        13.760096   \n",
       "15        0.963131           0.725135        13.824395   \n",
       "16        0.964804           0.729558        13.760096   \n",
       "17        0.965834           0.734507        13.856545   \n",
       "18        0.965950           0.735122        13.862445   \n",
       "19        0.966270           0.737274        13.955515   \n",
       "20        0.966541           0.740296        14.113743   \n",
       "21        0.967317           0.741939        14.081593   \n",
       "22        0.967858           0.744770        14.274492   \n",
       "23        0.968150           0.746086        14.210192   \n",
       "24        0.968245           0.748611        14.338791   \n",
       "25        0.968299           0.749662        14.196127   \n",
       "26        0.968314           0.750330        14.145893   \n",
       "27        0.968743           0.752164        14.178043   \n",
       "28        0.969152           0.753656        14.338791   \n",
       "29        0.969435           0.754853        14.338791   \n",
       "30        0.969237           0.754684        14.374204   \n",
       "31        0.969274           0.754283        14.338791   \n",
       "32        0.969261           0.755306        14.338791   \n",
       "\n",
       "    validation_classification_error  \n",
       "0                               NaN  \n",
       "1                          0.054459  \n",
       "2                          0.057349  \n",
       "3                          0.045662  \n",
       "4                          0.045853  \n",
       "5                          0.048042  \n",
       "6                          0.048467  \n",
       "7                          0.044324  \n",
       "8                          0.045981  \n",
       "9                          0.043070  \n",
       "10                         0.044324  \n",
       "11                         0.043665  \n",
       "12                         0.042730  \n",
       "13                         0.041880  \n",
       "14                         0.042751  \n",
       "15                         0.040690  \n",
       "16                         0.042942  \n",
       "17                         0.040796  \n",
       "18                         0.041328  \n",
       "19                         0.041179  \n",
       "20                         0.041476  \n",
       "21                         0.040095  \n",
       "22                         0.040138  \n",
       "23                         0.040669  \n",
       "24                         0.041051  \n",
       "25                         0.039500  \n",
       "26                         0.040180  \n",
       "27                         0.039245  \n",
       "28                         0.040860  \n",
       "29                         0.040456  \n",
       "30                         0.040286  \n",
       "31                         0.039798  \n",
       "32                         0.040584  "
      ]
     },
     "execution_count": 22,
     "metadata": {},
     "output_type": "execute_result"
    }
   ],
   "source": [
    "rf_v1.score_history()"
   ]
  },
  {
   "cell_type": "code",
   "execution_count": 23,
   "metadata": {},
   "outputs": [],
   "source": [
    "rf_v2 = H2ORandomForestEstimator(\n",
    "    model_id=\"rf_covType_v2\",\n",
    "    ntrees=200,\n",
    "    max_depth=30,\n",
    "    stopping_rounds=2,\n",
    "    stopping_tolerance=0.01,\n",
    "    score_each_iteration=True,\n",
    "seed=1234)"
   ]
  },
  {
   "cell_type": "code",
   "execution_count": 24,
   "metadata": {},
   "outputs": [
    {
     "name": "stdout",
     "output_type": "stream",
     "text": [
      "drf Model Build progress: |███████████████████████████████████████████████| 100%\n"
     ]
    }
   ],
   "source": [
    "rf_v2.train(x=predictors, y=response, training_frame=train, validation_frame=valid)"
   ]
  },
  {
   "cell_type": "code",
   "execution_count": 25,
   "metadata": {},
   "outputs": [
    {
     "name": "stdout",
     "output_type": "stream",
     "text": [
      "drf prediction progress: |████████████████████████████████████████████████| 100%\n"
     ]
    }
   ],
   "source": [
    "final_rf_predictions = rf_v2.predict(valid[1:])"
   ]
  },
  {
   "cell_type": "code",
   "execution_count": 26,
   "metadata": {},
   "outputs": [
    {
     "data": {
      "text/html": [
       "<table>\n",
       "<thead>\n",
       "<tr><th style=\"text-align: right;\">  predict</th><th style=\"text-align: right;\">      p0</th><th style=\"text-align: right;\">        p1</th></tr>\n",
       "</thead>\n",
       "<tbody>\n",
       "<tr><td style=\"text-align: right;\">        0</td><td style=\"text-align: right;\">1       </td><td style=\"text-align: right;\">0         </td></tr>\n",
       "<tr><td style=\"text-align: right;\">        0</td><td style=\"text-align: right;\">0.996679</td><td style=\"text-align: right;\">0.003321  </td></tr>\n",
       "<tr><td style=\"text-align: right;\">        0</td><td style=\"text-align: right;\">0.99721 </td><td style=\"text-align: right;\">0.00279006</td></tr>\n",
       "<tr><td style=\"text-align: right;\">        0</td><td style=\"text-align: right;\">0.844581</td><td style=\"text-align: right;\">0.155419  </td></tr>\n",
       "<tr><td style=\"text-align: right;\">        1</td><td style=\"text-align: right;\">0.137406</td><td style=\"text-align: right;\">0.862594  </td></tr>\n",
       "<tr><td style=\"text-align: right;\">        0</td><td style=\"text-align: right;\">0.996768</td><td style=\"text-align: right;\">0.00323234</td></tr>\n",
       "<tr><td style=\"text-align: right;\">        0</td><td style=\"text-align: right;\">0.958092</td><td style=\"text-align: right;\">0.0419077 </td></tr>\n",
       "<tr><td style=\"text-align: right;\">        0</td><td style=\"text-align: right;\">0.730893</td><td style=\"text-align: right;\">0.269107  </td></tr>\n",
       "<tr><td style=\"text-align: right;\">        0</td><td style=\"text-align: right;\">0.996242</td><td style=\"text-align: right;\">0.00375827</td></tr>\n",
       "<tr><td style=\"text-align: right;\">        0</td><td style=\"text-align: right;\">0.997174</td><td style=\"text-align: right;\">0.00282552</td></tr>\n",
       "</tbody>\n",
       "</table>"
      ]
     },
     "metadata": {},
     "output_type": "display_data"
    },
    {
     "data": {
      "text/plain": []
     },
     "execution_count": 26,
     "metadata": {},
     "output_type": "execute_result"
    }
   ],
   "source": [
    "final_rf_predictions"
   ]
  },
  {
   "cell_type": "code",
   "execution_count": 27,
   "metadata": {},
   "outputs": [
    {
     "name": "stdout",
     "output_type": "stream",
     "text": [
      "4096 training score 0.9403659723572353\n",
      "4096 validation score 0.963956318230576\n"
     ]
    }
   ],
   "source": [
    "print(label[key], 'training score', rf_v2.auc(train=True))\n",
    "print(label[key], 'validation score', rf_v2.auc(valid=True))"
   ]
  },
  {
   "cell_type": "code",
   "execution_count": 28,
   "metadata": {},
   "outputs": [
    {
     "name": "stdout",
     "output_type": "stream",
     "text": [
      "4096 training score 0.9599919542557266\n",
      "4096 validation score 0.9692609712431121\n"
     ]
    }
   ],
   "source": [
    "print(label[key], 'training score', rf_v1.auc(train=True))\n",
    "print(label[key], 'validation score', rf_v1.auc(valid=True))"
   ]
  },
  {
   "cell_type": "markdown",
   "metadata": {},
   "source": [
    "The best model so far is the GBM, we will use these to predict the test file"
   ]
  },
  {
   "cell_type": "code",
   "execution_count": 55,
   "metadata": {},
   "outputs": [
    {
     "name": "stdout",
     "output_type": "stream",
     "text": [
      "Parse progress: |█████████████████████████████████████████████████████████| 100%\n"
     ]
    }
   ],
   "source": [
    "spotify_test = h2o.import_file(\"s3://proyectomineria/data/resumen_final_test/part-00000-326c4568-e87c-4af5-9c77-6ee2aa5d17ae-c000.csv\")"
   ]
  },
  {
   "cell_type": "code",
   "execution_count": 56,
   "metadata": {},
   "outputs": [
    {
     "data": {
      "text/html": [
       "<table>\n",
       "<thead>\n",
       "<tr><th style=\"text-align: right;\">  avg_num_unq</th><th style=\"text-align: right;\">       date</th><th style=\"text-align: right;\">  bd</th><th style=\"text-align: right;\">  payment_plan_days</th><th style=\"text-align: right;\">  city</th><th style=\"text-align: right;\">  avg_num_50</th><th>registered_init_time    </th><th>msno                                        </th><th style=\"text-align: right;\">  avg_num_75</th><th style=\"text-align: right;\">  plan_list_price</th><th style=\"text-align: right;\">  actual_amount_paid</th><th style=\"text-align: right;\">  avg_num_25</th><th style=\"text-align: right;\">  avg_num_100</th><th style=\"text-align: right;\">  membership_expire_date</th><th style=\"text-align: right;\">  is_churn</th><th style=\"text-align: right;\">  is_auto_renew</th><th style=\"text-align: right;\">  payment_method_id</th><th style=\"text-align: right;\">  registered_via</th><th style=\"text-align: right;\">  avg_num_985</th><th>gender  </th><th style=\"text-align: right;\">  total_secs</th><th style=\"text-align: right;\">  is_cancel</th><th style=\"text-align: right;\">  transaction_date</th></tr>\n",
       "</thead>\n",
       "<tbody>\n",
       "<tr><td style=\"text-align: right;\">      13.0667</td><td style=\"text-align: right;\">1.48398e+09</td><td style=\"text-align: right;\">   0</td><td style=\"text-align: right;\">                 30</td><td style=\"text-align: right;\">     1</td><td style=\"text-align: right;\">    0.933333</td><td>2014-07-14T00:00:00.000Z</td><td>++4RuqBw0Ss6bQU4oMxaRlbBPoWzoEiIZaxPM04Y4+U=</td><td style=\"text-align: right;\">    0.733333</td><td style=\"text-align: right;\">              149</td><td style=\"text-align: right;\">                 149</td><td style=\"text-align: right;\">     5.73333</td><td style=\"text-align: right;\">      6.46667</td><td style=\"text-align: right;\">                     nan</td><td style=\"text-align: right;\">         0</td><td style=\"text-align: right;\">            1  </td><td style=\"text-align: right;\">                 41</td><td style=\"text-align: right;\">               7</td><td style=\"text-align: right;\">     0.666667</td><td>        </td><td style=\"text-align: right;\">     1978.66</td><td style=\"text-align: right;\">          0</td><td style=\"text-align: right;\">       1.4856e+09 </td></tr>\n",
       "<tr><td style=\"text-align: right;\">      61.1333</td><td style=\"text-align: right;\">1.48755e+09</td><td style=\"text-align: right;\">  31</td><td style=\"text-align: right;\">                 30</td><td style=\"text-align: right;\">    15</td><td style=\"text-align: right;\">    1.26667 </td><td>2006-06-03T00:00:00.000Z</td><td>+/namlXq+u3izRjHCFJV4MgqcXcLidZYszVsROOq/y4=</td><td style=\"text-align: right;\">    1.4     </td><td style=\"text-align: right;\">              149</td><td style=\"text-align: right;\">                 149</td><td style=\"text-align: right;\">    29.1333 </td><td style=\"text-align: right;\">     33.6    </td><td style=\"text-align: right;\">                     nan</td><td style=\"text-align: right;\">         0</td><td style=\"text-align: right;\">            1  </td><td style=\"text-align: right;\">                 34</td><td style=\"text-align: right;\">               9</td><td style=\"text-align: right;\">     1.26667 </td><td>male    </td><td style=\"text-align: right;\">     9395.27</td><td style=\"text-align: right;\">          0</td><td style=\"text-align: right;\">       1.48703e+09</td></tr>\n",
       "<tr><td style=\"text-align: right;\">      19.8667</td><td style=\"text-align: right;\">1.48764e+09</td><td style=\"text-align: right;\">  31</td><td style=\"text-align: right;\">                 30</td><td style=\"text-align: right;\">     9</td><td style=\"text-align: right;\">    1.86667 </td><td>2004-03-30T00:00:00.000Z</td><td>+0/X9tkmyHyet9X80G6GTrDFHnJqvai8d1ZPhayT0os=</td><td style=\"text-align: right;\">    1.06667 </td><td style=\"text-align: right;\">              149</td><td style=\"text-align: right;\">                 149</td><td style=\"text-align: right;\">    12.4667 </td><td style=\"text-align: right;\">     67.8    </td><td style=\"text-align: right;\">                     nan</td><td style=\"text-align: right;\">         0</td><td style=\"text-align: right;\">            1  </td><td style=\"text-align: right;\">                 34</td><td style=\"text-align: right;\">               9</td><td style=\"text-align: right;\">     3.26667 </td><td>male    </td><td style=\"text-align: right;\">    17219   </td><td style=\"text-align: right;\">          0</td><td style=\"text-align: right;\">       1.48703e+09</td></tr>\n",
       "<tr><td style=\"text-align: right;\">      27.8   </td><td style=\"text-align: right;\">1.48751e+09</td><td style=\"text-align: right;\">  29</td><td style=\"text-align: right;\">                 30</td><td style=\"text-align: right;\">    15</td><td style=\"text-align: right;\">    0.6     </td><td>2008-03-22T00:00:00.000Z</td><td>+09YGn842g6h2EZUXe0VWeC4bBoCbDGfUboitc0vIHw=</td><td style=\"text-align: right;\">    0.333333</td><td style=\"text-align: right;\">              149</td><td style=\"text-align: right;\">                 149</td><td style=\"text-align: right;\">     2.33333</td><td style=\"text-align: right;\">     33      </td><td style=\"text-align: right;\">                     nan</td><td style=\"text-align: right;\">         0</td><td style=\"text-align: right;\">            1  </td><td style=\"text-align: right;\">                 34</td><td style=\"text-align: right;\">               9</td><td style=\"text-align: right;\">     0.666667</td><td>male    </td><td style=\"text-align: right;\">     8571.42</td><td style=\"text-align: right;\">          0</td><td style=\"text-align: right;\">       1.48703e+09</td></tr>\n",
       "<tr><td style=\"text-align: right;\">      30.9333</td><td style=\"text-align: right;\">1.48739e+09</td><td style=\"text-align: right;\">  24</td><td style=\"text-align: right;\">                 30</td><td style=\"text-align: right;\">     5</td><td style=\"text-align: right;\">    4.4     </td><td>2014-03-20T00:00:00.000Z</td><td>+0jTOa6KGPk1vtNTwRDMZc/McUo41AeuwV3ndo54Y+Q=</td><td style=\"text-align: right;\">    0.933333</td><td style=\"text-align: right;\">              149</td><td style=\"text-align: right;\">                 149</td><td style=\"text-align: right;\">    10.7333 </td><td style=\"text-align: right;\">     19.6    </td><td style=\"text-align: right;\">                     nan</td><td style=\"text-align: right;\">         0</td><td style=\"text-align: right;\">            1  </td><td style=\"text-align: right;\">                 23</td><td style=\"text-align: right;\">               9</td><td style=\"text-align: right;\">     0.533333</td><td>female  </td><td style=\"text-align: right;\">     5353.78</td><td style=\"text-align: right;\">          0</td><td style=\"text-align: right;\">       1.48448e+09</td></tr>\n",
       "<tr><td style=\"text-align: right;\">      46.6667</td><td style=\"text-align: right;\">1.48743e+09</td><td style=\"text-align: right;\">  32</td><td style=\"text-align: right;\">                 30</td><td style=\"text-align: right;\">    13</td><td style=\"text-align: right;\">    1.6     </td><td>2015-03-16T00:00:00.000Z</td><td>+0l+FDuhyjaZnu0APnrg5L9QqgaRw4RmdQMvqOtKDmU=</td><td style=\"text-align: right;\">    1.66667 </td><td style=\"text-align: right;\">              149</td><td style=\"text-align: right;\">                 149</td><td style=\"text-align: right;\">    12.3333 </td><td style=\"text-align: right;\">     40.6    </td><td style=\"text-align: right;\">                     nan</td><td style=\"text-align: right;\">         0</td><td style=\"text-align: right;\">            1  </td><td style=\"text-align: right;\">                 37</td><td style=\"text-align: right;\">               3</td><td style=\"text-align: right;\">     0.933333</td><td>male    </td><td style=\"text-align: right;\">    10597.8 </td><td style=\"text-align: right;\">          0</td><td style=\"text-align: right;\">       1.48656e+09</td></tr>\n",
       "<tr><td style=\"text-align: right;\">      20.6667</td><td style=\"text-align: right;\">1.48656e+09</td><td style=\"text-align: right;\">   0</td><td style=\"text-align: right;\">                 30</td><td style=\"text-align: right;\">     5</td><td style=\"text-align: right;\">    0.4     </td><td>2013-02-27T00:00:00.000Z</td><td>+0l/WkoOIugT69NYawwewSLZjIJ17kHIpDdWqcp53RI=</td><td style=\"text-align: right;\">    0.333333</td><td style=\"text-align: right;\">              149</td><td style=\"text-align: right;\">                 149</td><td style=\"text-align: right;\">     1      </td><td style=\"text-align: right;\">     21.5333 </td><td style=\"text-align: right;\">                     nan</td><td style=\"text-align: right;\">         0</td><td style=\"text-align: right;\">            1  </td><td style=\"text-align: right;\">                 40</td><td style=\"text-align: right;\">               3</td><td style=\"text-align: right;\">     0.133333</td><td>        </td><td style=\"text-align: right;\">     5413.59</td><td style=\"text-align: right;\">          0</td><td style=\"text-align: right;\">       1.48647e+09</td></tr>\n",
       "<tr><td style=\"text-align: right;\">      15     </td><td style=\"text-align: right;\">1.48764e+09</td><td style=\"text-align: right;\">  31</td><td style=\"text-align: right;\">                 30</td><td style=\"text-align: right;\">     6</td><td style=\"text-align: right;\">    0.466667</td><td>2008-04-17T00:00:00.000Z</td><td>+2Df04hr61UUJijMM2xR97gtoQWWDJpnJVKQ7VMYN9o=</td><td style=\"text-align: right;\">    0.333333</td><td style=\"text-align: right;\">              180</td><td style=\"text-align: right;\">                 180</td><td style=\"text-align: right;\">     1.26667</td><td style=\"text-align: right;\">    281.667  </td><td style=\"text-align: right;\">                     nan</td><td style=\"text-align: right;\">         0</td><td style=\"text-align: right;\">            1  </td><td style=\"text-align: right;\">                 36</td><td style=\"text-align: right;\">               9</td><td style=\"text-align: right;\">     1.86667 </td><td>female  </td><td style=\"text-align: right;\">    48663   </td><td style=\"text-align: right;\">          0</td><td style=\"text-align: right;\">       1.4844e+09 </td></tr>\n",
       "<tr><td style=\"text-align: right;\">      18.6667</td><td style=\"text-align: right;\">1.48603e+09</td><td style=\"text-align: right;\">   0</td><td style=\"text-align: right;\">                 30</td><td style=\"text-align: right;\">     4</td><td style=\"text-align: right;\">    1.66667 </td><td>2015-11-03T00:00:00.000Z</td><td>+2KZws+cYLzerLNA6dgCOpxKysRv4BQ8SiKtA0rV4QE=</td><td style=\"text-align: right;\">    0.866667</td><td style=\"text-align: right;\">              180</td><td style=\"text-align: right;\">                 180</td><td style=\"text-align: right;\">     5.2    </td><td style=\"text-align: right;\">     13.4667 </td><td style=\"text-align: right;\">                     nan</td><td style=\"text-align: right;\">         0</td><td style=\"text-align: right;\">            0.5</td><td style=\"text-align: right;\">                 29</td><td style=\"text-align: right;\">               7</td><td style=\"text-align: right;\">     0.466667</td><td>        </td><td style=\"text-align: right;\">     3910.75</td><td style=\"text-align: right;\">          0</td><td style=\"text-align: right;\">       1.485e+09  </td></tr>\n",
       "<tr><td style=\"text-align: right;\">      23.2667</td><td style=\"text-align: right;\">1.48719e+09</td><td style=\"text-align: right;\">   0</td><td style=\"text-align: right;\">                 30</td><td style=\"text-align: right;\">     1</td><td style=\"text-align: right;\">    2.73333 </td><td>2012-12-17T00:00:00.000Z</td><td>+2eLsQv6T46iKwO+m+r6OFI2X3Oc9dGBMdti2COAe4w=</td><td style=\"text-align: right;\">    1.33333 </td><td style=\"text-align: right;\">               99</td><td style=\"text-align: right;\">                  99</td><td style=\"text-align: right;\">     8.93333</td><td style=\"text-align: right;\">     11.4    </td><td style=\"text-align: right;\">                     nan</td><td style=\"text-align: right;\">         0</td><td style=\"text-align: right;\">            1  </td><td style=\"text-align: right;\">                 41</td><td style=\"text-align: right;\">               7</td><td style=\"text-align: right;\">     3       </td><td>        </td><td style=\"text-align: right;\">     3921.46</td><td style=\"text-align: right;\">          0</td><td style=\"text-align: right;\">       1.48491e+09</td></tr>\n",
       "</tbody>\n",
       "</table>"
      ]
     },
     "metadata": {},
     "output_type": "display_data"
    },
    {
     "data": {
      "text/plain": []
     },
     "execution_count": 56,
     "metadata": {},
     "output_type": "execute_result"
    }
   ],
   "source": [
    "spotify_test"
   ]
  },
  {
   "cell_type": "code",
   "execution_count": 57,
   "metadata": {},
   "outputs": [],
   "source": [
    "spotify_test = spotify_test[:, [\"msno\",\"is_churn\",\"city\",\"bd\",\"gender\",\"registered_via\",\"registered_init_time\",\"date\",\"avg_num_25\",\"avg_num_50\",\"avg_num_75\",\"avg_num_985\",\"avg_num_100\",\"avg_num_unq\",\"total_secs\",\"payment_method_id\",\"payment_plan_days\",\"plan_list_price\",\"actual_amount_paid\",\"is_auto_renew\",\"transaction_date\",\"membership_expire_date\",\"is_cancel\"]]"
   ]
  },
  {
   "cell_type": "code",
   "execution_count": 58,
   "metadata": {},
   "outputs": [
    {
     "data": {
      "text/html": [
       "<table>\n",
       "<thead>\n",
       "<tr><th>msno                                        </th><th style=\"text-align: right;\">  is_churn</th><th style=\"text-align: right;\">  city</th><th style=\"text-align: right;\">  bd</th><th>gender  </th><th style=\"text-align: right;\">  registered_via</th><th>registered_init_time    </th><th style=\"text-align: right;\">       date</th><th style=\"text-align: right;\">  avg_num_25</th><th style=\"text-align: right;\">  avg_num_50</th><th style=\"text-align: right;\">  avg_num_75</th><th style=\"text-align: right;\">  avg_num_985</th><th style=\"text-align: right;\">  avg_num_100</th><th style=\"text-align: right;\">  avg_num_unq</th><th style=\"text-align: right;\">  total_secs</th><th style=\"text-align: right;\">  payment_method_id</th><th style=\"text-align: right;\">  payment_plan_days</th><th style=\"text-align: right;\">  plan_list_price</th><th style=\"text-align: right;\">  actual_amount_paid</th><th style=\"text-align: right;\">  is_auto_renew</th><th style=\"text-align: right;\">  transaction_date</th><th style=\"text-align: right;\">  membership_expire_date</th><th style=\"text-align: right;\">  is_cancel</th></tr>\n",
       "</thead>\n",
       "<tbody>\n",
       "<tr><td>++4RuqBw0Ss6bQU4oMxaRlbBPoWzoEiIZaxPM04Y4+U=</td><td style=\"text-align: right;\">         0</td><td style=\"text-align: right;\">     1</td><td style=\"text-align: right;\">   0</td><td>        </td><td style=\"text-align: right;\">               7</td><td>2014-07-14T00:00:00.000Z</td><td style=\"text-align: right;\">1.48398e+09</td><td style=\"text-align: right;\">     5.73333</td><td style=\"text-align: right;\">    0.933333</td><td style=\"text-align: right;\">    0.733333</td><td style=\"text-align: right;\">     0.666667</td><td style=\"text-align: right;\">      6.46667</td><td style=\"text-align: right;\">      13.0667</td><td style=\"text-align: right;\">     1978.66</td><td style=\"text-align: right;\">                 41</td><td style=\"text-align: right;\">                 30</td><td style=\"text-align: right;\">              149</td><td style=\"text-align: right;\">                 149</td><td style=\"text-align: right;\">            1  </td><td style=\"text-align: right;\">       1.4856e+09 </td><td style=\"text-align: right;\">                     nan</td><td style=\"text-align: right;\">          0</td></tr>\n",
       "<tr><td>+/namlXq+u3izRjHCFJV4MgqcXcLidZYszVsROOq/y4=</td><td style=\"text-align: right;\">         0</td><td style=\"text-align: right;\">    15</td><td style=\"text-align: right;\">  31</td><td>male    </td><td style=\"text-align: right;\">               9</td><td>2006-06-03T00:00:00.000Z</td><td style=\"text-align: right;\">1.48755e+09</td><td style=\"text-align: right;\">    29.1333 </td><td style=\"text-align: right;\">    1.26667 </td><td style=\"text-align: right;\">    1.4     </td><td style=\"text-align: right;\">     1.26667 </td><td style=\"text-align: right;\">     33.6    </td><td style=\"text-align: right;\">      61.1333</td><td style=\"text-align: right;\">     9395.27</td><td style=\"text-align: right;\">                 34</td><td style=\"text-align: right;\">                 30</td><td style=\"text-align: right;\">              149</td><td style=\"text-align: right;\">                 149</td><td style=\"text-align: right;\">            1  </td><td style=\"text-align: right;\">       1.48703e+09</td><td style=\"text-align: right;\">                     nan</td><td style=\"text-align: right;\">          0</td></tr>\n",
       "<tr><td>+0/X9tkmyHyet9X80G6GTrDFHnJqvai8d1ZPhayT0os=</td><td style=\"text-align: right;\">         0</td><td style=\"text-align: right;\">     9</td><td style=\"text-align: right;\">  31</td><td>male    </td><td style=\"text-align: right;\">               9</td><td>2004-03-30T00:00:00.000Z</td><td style=\"text-align: right;\">1.48764e+09</td><td style=\"text-align: right;\">    12.4667 </td><td style=\"text-align: right;\">    1.86667 </td><td style=\"text-align: right;\">    1.06667 </td><td style=\"text-align: right;\">     3.26667 </td><td style=\"text-align: right;\">     67.8    </td><td style=\"text-align: right;\">      19.8667</td><td style=\"text-align: right;\">    17219   </td><td style=\"text-align: right;\">                 34</td><td style=\"text-align: right;\">                 30</td><td style=\"text-align: right;\">              149</td><td style=\"text-align: right;\">                 149</td><td style=\"text-align: right;\">            1  </td><td style=\"text-align: right;\">       1.48703e+09</td><td style=\"text-align: right;\">                     nan</td><td style=\"text-align: right;\">          0</td></tr>\n",
       "<tr><td>+09YGn842g6h2EZUXe0VWeC4bBoCbDGfUboitc0vIHw=</td><td style=\"text-align: right;\">         0</td><td style=\"text-align: right;\">    15</td><td style=\"text-align: right;\">  29</td><td>male    </td><td style=\"text-align: right;\">               9</td><td>2008-03-22T00:00:00.000Z</td><td style=\"text-align: right;\">1.48751e+09</td><td style=\"text-align: right;\">     2.33333</td><td style=\"text-align: right;\">    0.6     </td><td style=\"text-align: right;\">    0.333333</td><td style=\"text-align: right;\">     0.666667</td><td style=\"text-align: right;\">     33      </td><td style=\"text-align: right;\">      27.8   </td><td style=\"text-align: right;\">     8571.42</td><td style=\"text-align: right;\">                 34</td><td style=\"text-align: right;\">                 30</td><td style=\"text-align: right;\">              149</td><td style=\"text-align: right;\">                 149</td><td style=\"text-align: right;\">            1  </td><td style=\"text-align: right;\">       1.48703e+09</td><td style=\"text-align: right;\">                     nan</td><td style=\"text-align: right;\">          0</td></tr>\n",
       "<tr><td>+0jTOa6KGPk1vtNTwRDMZc/McUo41AeuwV3ndo54Y+Q=</td><td style=\"text-align: right;\">         0</td><td style=\"text-align: right;\">     5</td><td style=\"text-align: right;\">  24</td><td>female  </td><td style=\"text-align: right;\">               9</td><td>2014-03-20T00:00:00.000Z</td><td style=\"text-align: right;\">1.48739e+09</td><td style=\"text-align: right;\">    10.7333 </td><td style=\"text-align: right;\">    4.4     </td><td style=\"text-align: right;\">    0.933333</td><td style=\"text-align: right;\">     0.533333</td><td style=\"text-align: right;\">     19.6    </td><td style=\"text-align: right;\">      30.9333</td><td style=\"text-align: right;\">     5353.78</td><td style=\"text-align: right;\">                 23</td><td style=\"text-align: right;\">                 30</td><td style=\"text-align: right;\">              149</td><td style=\"text-align: right;\">                 149</td><td style=\"text-align: right;\">            1  </td><td style=\"text-align: right;\">       1.48448e+09</td><td style=\"text-align: right;\">                     nan</td><td style=\"text-align: right;\">          0</td></tr>\n",
       "<tr><td>+0l+FDuhyjaZnu0APnrg5L9QqgaRw4RmdQMvqOtKDmU=</td><td style=\"text-align: right;\">         0</td><td style=\"text-align: right;\">    13</td><td style=\"text-align: right;\">  32</td><td>male    </td><td style=\"text-align: right;\">               3</td><td>2015-03-16T00:00:00.000Z</td><td style=\"text-align: right;\">1.48743e+09</td><td style=\"text-align: right;\">    12.3333 </td><td style=\"text-align: right;\">    1.6     </td><td style=\"text-align: right;\">    1.66667 </td><td style=\"text-align: right;\">     0.933333</td><td style=\"text-align: right;\">     40.6    </td><td style=\"text-align: right;\">      46.6667</td><td style=\"text-align: right;\">    10597.8 </td><td style=\"text-align: right;\">                 37</td><td style=\"text-align: right;\">                 30</td><td style=\"text-align: right;\">              149</td><td style=\"text-align: right;\">                 149</td><td style=\"text-align: right;\">            1  </td><td style=\"text-align: right;\">       1.48656e+09</td><td style=\"text-align: right;\">                     nan</td><td style=\"text-align: right;\">          0</td></tr>\n",
       "<tr><td>+0l/WkoOIugT69NYawwewSLZjIJ17kHIpDdWqcp53RI=</td><td style=\"text-align: right;\">         0</td><td style=\"text-align: right;\">     5</td><td style=\"text-align: right;\">   0</td><td>        </td><td style=\"text-align: right;\">               3</td><td>2013-02-27T00:00:00.000Z</td><td style=\"text-align: right;\">1.48656e+09</td><td style=\"text-align: right;\">     1      </td><td style=\"text-align: right;\">    0.4     </td><td style=\"text-align: right;\">    0.333333</td><td style=\"text-align: right;\">     0.133333</td><td style=\"text-align: right;\">     21.5333 </td><td style=\"text-align: right;\">      20.6667</td><td style=\"text-align: right;\">     5413.59</td><td style=\"text-align: right;\">                 40</td><td style=\"text-align: right;\">                 30</td><td style=\"text-align: right;\">              149</td><td style=\"text-align: right;\">                 149</td><td style=\"text-align: right;\">            1  </td><td style=\"text-align: right;\">       1.48647e+09</td><td style=\"text-align: right;\">                     nan</td><td style=\"text-align: right;\">          0</td></tr>\n",
       "<tr><td>+2Df04hr61UUJijMM2xR97gtoQWWDJpnJVKQ7VMYN9o=</td><td style=\"text-align: right;\">         0</td><td style=\"text-align: right;\">     6</td><td style=\"text-align: right;\">  31</td><td>female  </td><td style=\"text-align: right;\">               9</td><td>2008-04-17T00:00:00.000Z</td><td style=\"text-align: right;\">1.48764e+09</td><td style=\"text-align: right;\">     1.26667</td><td style=\"text-align: right;\">    0.466667</td><td style=\"text-align: right;\">    0.333333</td><td style=\"text-align: right;\">     1.86667 </td><td style=\"text-align: right;\">    281.667  </td><td style=\"text-align: right;\">      15     </td><td style=\"text-align: right;\">    48663   </td><td style=\"text-align: right;\">                 36</td><td style=\"text-align: right;\">                 30</td><td style=\"text-align: right;\">              180</td><td style=\"text-align: right;\">                 180</td><td style=\"text-align: right;\">            1  </td><td style=\"text-align: right;\">       1.4844e+09 </td><td style=\"text-align: right;\">                     nan</td><td style=\"text-align: right;\">          0</td></tr>\n",
       "<tr><td>+2KZws+cYLzerLNA6dgCOpxKysRv4BQ8SiKtA0rV4QE=</td><td style=\"text-align: right;\">         0</td><td style=\"text-align: right;\">     4</td><td style=\"text-align: right;\">   0</td><td>        </td><td style=\"text-align: right;\">               7</td><td>2015-11-03T00:00:00.000Z</td><td style=\"text-align: right;\">1.48603e+09</td><td style=\"text-align: right;\">     5.2    </td><td style=\"text-align: right;\">    1.66667 </td><td style=\"text-align: right;\">    0.866667</td><td style=\"text-align: right;\">     0.466667</td><td style=\"text-align: right;\">     13.4667 </td><td style=\"text-align: right;\">      18.6667</td><td style=\"text-align: right;\">     3910.75</td><td style=\"text-align: right;\">                 29</td><td style=\"text-align: right;\">                 30</td><td style=\"text-align: right;\">              180</td><td style=\"text-align: right;\">                 180</td><td style=\"text-align: right;\">            0.5</td><td style=\"text-align: right;\">       1.485e+09  </td><td style=\"text-align: right;\">                     nan</td><td style=\"text-align: right;\">          0</td></tr>\n",
       "<tr><td>+2eLsQv6T46iKwO+m+r6OFI2X3Oc9dGBMdti2COAe4w=</td><td style=\"text-align: right;\">         0</td><td style=\"text-align: right;\">     1</td><td style=\"text-align: right;\">   0</td><td>        </td><td style=\"text-align: right;\">               7</td><td>2012-12-17T00:00:00.000Z</td><td style=\"text-align: right;\">1.48719e+09</td><td style=\"text-align: right;\">     8.93333</td><td style=\"text-align: right;\">    2.73333 </td><td style=\"text-align: right;\">    1.33333 </td><td style=\"text-align: right;\">     3       </td><td style=\"text-align: right;\">     11.4    </td><td style=\"text-align: right;\">      23.2667</td><td style=\"text-align: right;\">     3921.46</td><td style=\"text-align: right;\">                 41</td><td style=\"text-align: right;\">                 30</td><td style=\"text-align: right;\">               99</td><td style=\"text-align: right;\">                  99</td><td style=\"text-align: right;\">            1  </td><td style=\"text-align: right;\">       1.48491e+09</td><td style=\"text-align: right;\">                     nan</td><td style=\"text-align: right;\">          0</td></tr>\n",
       "</tbody>\n",
       "</table>"
      ]
     },
     "metadata": {},
     "output_type": "display_data"
    },
    {
     "data": {
      "text/plain": []
     },
     "execution_count": 58,
     "metadata": {},
     "output_type": "execute_result"
    }
   ],
   "source": [
    "spotify_test"
   ]
  },
  {
   "cell_type": "code",
   "execution_count": 59,
   "metadata": {},
   "outputs": [
    {
     "name": "stdout",
     "output_type": "stream",
     "text": [
      "gbm prediction progress: |████████████████████████████████████████████████| 100%\n"
     ]
    },
    {
     "name": "stderr",
     "output_type": "stream",
     "text": [
      "/home/ricardo/.local/lib/python3.5/site-packages/h2o/job.py:69: UserWarning: Test/Validation dataset column 'registered_init_time' has levels not trained on: [2017-02-24T00:00:00.000Z]\n",
      "  warnings.warn(w)\n",
      "/home/ricardo/.local/lib/python3.5/site-packages/h2o/job.py:69: UserWarning: Test/Validation dataset is missing column 'num_25': substituting in a column of NaN\n",
      "  warnings.warn(w)\n",
      "/home/ricardo/.local/lib/python3.5/site-packages/h2o/job.py:69: UserWarning: Test/Validation dataset is missing column 'num_50': substituting in a column of NaN\n",
      "  warnings.warn(w)\n",
      "/home/ricardo/.local/lib/python3.5/site-packages/h2o/job.py:69: UserWarning: Test/Validation dataset is missing column 'num_75': substituting in a column of NaN\n",
      "  warnings.warn(w)\n",
      "/home/ricardo/.local/lib/python3.5/site-packages/h2o/job.py:69: UserWarning: Test/Validation dataset is missing column 'num_985': substituting in a column of NaN\n",
      "  warnings.warn(w)\n",
      "/home/ricardo/.local/lib/python3.5/site-packages/h2o/job.py:69: UserWarning: Test/Validation dataset is missing column 'num_100': substituting in a column of NaN\n",
      "  warnings.warn(w)\n",
      "/home/ricardo/.local/lib/python3.5/site-packages/h2o/job.py:69: UserWarning: Test/Validation dataset is missing column 'num_unq': substituting in a column of NaN\n",
      "  warnings.warn(w)\n"
     ]
    }
   ],
   "source": [
    "final_gbm_predictions = spotify_gbm.predict(spotify_test[1:])"
   ]
  },
  {
   "cell_type": "code",
   "execution_count": 62,
   "metadata": {},
   "outputs": [
    {
     "data": {
      "text/plain": [
       "196372"
      ]
     },
     "execution_count": 62,
     "metadata": {},
     "output_type": "execute_result"
    }
   ],
   "source": [
    "len(spotify_test[:,:])"
   ]
  },
  {
   "cell_type": "code",
   "execution_count": 63,
   "metadata": {},
   "outputs": [],
   "source": [
    "msnos_test = spotify_test[:,0]"
   ]
  },
  {
   "cell_type": "code",
   "execution_count": 64,
   "metadata": {},
   "outputs": [
    {
     "data": {
      "text/plain": [
       "'+2oK/qWmYvAnfNZsVV5pdsJ9n6d/LZn6CdwiJajGZas='"
      ]
     },
     "execution_count": 64,
     "metadata": {},
     "output_type": "execute_result"
    }
   ],
   "source": [
    "msnos_test[10,0]"
   ]
  },
  {
   "cell_type": "code",
   "execution_count": 65,
   "metadata": {},
   "outputs": [],
   "source": [
    "msnos_test[\"prediction\"] = final_gbm_predictions[2]"
   ]
  },
  {
   "cell_type": "code",
   "execution_count": 66,
   "metadata": {},
   "outputs": [
    {
     "data": {
      "text/html": [
       "<table>\n",
       "<thead>\n",
       "<tr><th>msno                                        </th><th style=\"text-align: right;\">  prediction</th></tr>\n",
       "</thead>\n",
       "<tbody>\n",
       "<tr><td>++4RuqBw0Ss6bQU4oMxaRlbBPoWzoEiIZaxPM04Y4+U=</td><td style=\"text-align: right;\">  0.0029779 </td></tr>\n",
       "<tr><td>+/namlXq+u3izRjHCFJV4MgqcXcLidZYszVsROOq/y4=</td><td style=\"text-align: right;\">  0.00350683</td></tr>\n",
       "<tr><td>+0/X9tkmyHyet9X80G6GTrDFHnJqvai8d1ZPhayT0os=</td><td style=\"text-align: right;\">  0.00350683</td></tr>\n",
       "<tr><td>+09YGn842g6h2EZUXe0VWeC4bBoCbDGfUboitc0vIHw=</td><td style=\"text-align: right;\">  0.00350683</td></tr>\n",
       "<tr><td>+0jTOa6KGPk1vtNTwRDMZc/McUo41AeuwV3ndo54Y+Q=</td><td style=\"text-align: right;\">  0.00388029</td></tr>\n",
       "<tr><td>+0l+FDuhyjaZnu0APnrg5L9QqgaRw4RmdQMvqOtKDmU=</td><td style=\"text-align: right;\">  0.00347604</td></tr>\n",
       "<tr><td>+0l/WkoOIugT69NYawwewSLZjIJ17kHIpDdWqcp53RI=</td><td style=\"text-align: right;\">  0.00416238</td></tr>\n",
       "<tr><td>+2Df04hr61UUJijMM2xR97gtoQWWDJpnJVKQ7VMYN9o=</td><td style=\"text-align: right;\">  0.00612556</td></tr>\n",
       "<tr><td>+2KZws+cYLzerLNA6dgCOpxKysRv4BQ8SiKtA0rV4QE=</td><td style=\"text-align: right;\">  0.0188944 </td></tr>\n",
       "<tr><td>+2eLsQv6T46iKwO+m+r6OFI2X3Oc9dGBMdti2COAe4w=</td><td style=\"text-align: right;\">  0.0027343 </td></tr>\n",
       "</tbody>\n",
       "</table>"
      ]
     },
     "metadata": {},
     "output_type": "display_data"
    },
    {
     "data": {
      "text/plain": []
     },
     "execution_count": 66,
     "metadata": {},
     "output_type": "execute_result"
    }
   ],
   "source": [
    "msnos_test"
   ]
  },
  {
   "cell_type": "code",
   "execution_count": null,
   "metadata": {},
   "outputs": [],
   "source": [
    "spotify_test.nrows"
   ]
  },
  {
   "cell_type": "code",
   "execution_count": null,
   "metadata": {},
   "outputs": [],
   "source": [
    "spotify_test[\"msno\"].tolist()"
   ]
  },
  {
   "cell_type": "code",
   "execution_count": null,
   "metadata": {},
   "outputs": [],
   "source": []
  }
 ],
 "metadata": {
  "kernelspec": {
   "display_name": "Python 3",
   "language": "python",
   "name": "python3"
  },
  "language_info": {
   "codemirror_mode": {
    "name": "ipython",
    "version": 3
   },
   "file_extension": ".py",
   "mimetype": "text/x-python",
   "name": "python",
   "nbconvert_exporter": "python",
   "pygments_lexer": "ipython3",
   "version": "3.5.2"
  }
 },
 "nbformat": 4,
 "nbformat_minor": 2
}
