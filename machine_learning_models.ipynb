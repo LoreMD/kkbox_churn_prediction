{
 "cells": [
  {
   "cell_type": "markdown",
   "metadata": {},
   "source": [
    "### Diseño de Prueba del Modelo\n",
    "\n",
    "Usaremos varios tipos de modelos distintos para poder predecir la probabilidad de cancelación de la suscripción. Usaremos un random forest, gradient Boosting Machine. Para ello usamos la librería de H2o.\n",
    "\n",
    "La evaluación de cualquiera de nuestros modelos es sometida a un conjunto de prueba. Los conjuntos de entrenamieno y prueba se construyeron a partir de la base de datos y se respetó la partición que aparece en los lineamientos del concurso. De hecho, ellos divieron a partir de Abril 2017, antes de esta fechha se consideraron datos de entrenamiento y después datos de prueba. Los datos de validación se construyeron de forma aleatoria la prueba de entrenamiento en una proporción del 20%.\n",
    "\n",
    "Usaremos como medida de error la Log Loss, pues estamos en un problema de clasificación binaria, que está dada por la siguiente fórmula:\n",
    "\n",
    "\n",
    "\\begin{align}\n",
    "\\log loss = - \\frac{1}{N} \\sum_{i=1}^n y_i \\log(p_i) + (1-y_i) \\log(1 - p_i)\n",
    "\\end{align}\n",
    "\n",
    "También usamos el AUC como medida de error, que es el área bajo la curva ROC. Esto nos da un resumen de qué tan bueno es el predictor sin importar donde ponemos el punto de corte."
   ]
  },
  {
   "cell_type": "code",
   "execution_count": 164,
   "metadata": {},
   "outputs": [],
   "source": [
    "import warnings\n",
    "import h2o\n",
    "from h2o.estimators.gbm import H2OGradientBoostingEstimator\n",
    "from h2o.estimators.random_forest import H2ORandomForestEstimator\n",
    "from h2o.grid.grid_search import H2OGridSearch\n",
    "import numpy as np\n",
    "import pandas as pd"
   ]
  },
  {
   "cell_type": "markdown",
   "metadata": {},
   "source": [
    "Cargamos los datos de entrenamiento de la carpeta de AWS."
   ]
  },
  {
   "cell_type": "code",
   "execution_count": 165,
   "metadata": {},
   "outputs": [
    {
     "name": "stdout",
     "output_type": "stream",
     "text": [
      "Checking whether there is an H2O instance running at http://localhost:54321. connected.\n"
     ]
    },
    {
     "data": {
      "text/html": [
       "<div style=\"overflow:auto\"><table style=\"width:50%\"><tr><td>H2O cluster uptime:</td>\n",
       "<td>1 hour 57 mins</td></tr>\n",
       "<tr><td>H2O cluster timezone:</td>\n",
       "<td>America/Mexico_City</td></tr>\n",
       "<tr><td>H2O data parsing timezone:</td>\n",
       "<td>UTC</td></tr>\n",
       "<tr><td>H2O cluster version:</td>\n",
       "<td>3.22.0.2</td></tr>\n",
       "<tr><td>H2O cluster version age:</td>\n",
       "<td>28 days, 8 hours and 18 minutes </td></tr>\n",
       "<tr><td>H2O cluster name:</td>\n",
       "<td>H2O_from_python_lorena_olreqv</td></tr>\n",
       "<tr><td>H2O cluster total nodes:</td>\n",
       "<td>1</td></tr>\n",
       "<tr><td>H2O cluster free memory:</td>\n",
       "<td>1.128 Gb</td></tr>\n",
       "<tr><td>H2O cluster total cores:</td>\n",
       "<td>8</td></tr>\n",
       "<tr><td>H2O cluster allowed cores:</td>\n",
       "<td>8</td></tr>\n",
       "<tr><td>H2O cluster status:</td>\n",
       "<td>locked, healthy</td></tr>\n",
       "<tr><td>H2O connection url:</td>\n",
       "<td>http://localhost:54321</td></tr>\n",
       "<tr><td>H2O connection proxy:</td>\n",
       "<td>None</td></tr>\n",
       "<tr><td>H2O internal security:</td>\n",
       "<td>False</td></tr>\n",
       "<tr><td>H2O API Extensions:</td>\n",
       "<td>XGBoost, Algos, AutoML, Core V3, Core V4</td></tr>\n",
       "<tr><td>Python version:</td>\n",
       "<td>3.6.7 final</td></tr></table></div>"
      ],
      "text/plain": [
       "--------------------------  ----------------------------------------\n",
       "H2O cluster uptime:         1 hour 57 mins\n",
       "H2O cluster timezone:       America/Mexico_City\n",
       "H2O data parsing timezone:  UTC\n",
       "H2O cluster version:        3.22.0.2\n",
       "H2O cluster version age:    28 days, 8 hours and 18 minutes\n",
       "H2O cluster name:           H2O_from_python_lorena_olreqv\n",
       "H2O cluster total nodes:    1\n",
       "H2O cluster free memory:    1.128 Gb\n",
       "H2O cluster total cores:    8\n",
       "H2O cluster allowed cores:  8\n",
       "H2O cluster status:         locked, healthy\n",
       "H2O connection url:         http://localhost:54321\n",
       "H2O connection proxy:\n",
       "H2O internal security:      False\n",
       "H2O API Extensions:         XGBoost, Algos, AutoML, Core V3, Core V4\n",
       "Python version:             3.6.7 final\n",
       "--------------------------  ----------------------------------------"
      ]
     },
     "metadata": {},
     "output_type": "display_data"
    }
   ],
   "source": [
    "h2o.init()"
   ]
  },
  {
   "cell_type": "code",
   "execution_count": 166,
   "metadata": {},
   "outputs": [
    {
     "name": "stdout",
     "output_type": "stream",
     "text": [
      "Parse progress: |█████████████████████████████████████████████████████████| 100%\n"
     ]
    }
   ],
   "source": [
    "#spotify = h2o.import_file(\"s3://proyectomineria/data/consolidated_train_table/part-00000-acf23e82-8c41-458f-9399-57e2a260de4b-c000.csv\")\n",
    "#spotify = h2o.import_file(\"/home/toto/Desktop/3er_Semestre/Mineria/Proyecto/kkbox_churn_prediction/data/part-00000-acf23e82-8c41-458f-9399-57e2a260de4b-c000.csv\")\n",
    "spotify = h2o.import_file(\"/home/lorena/Documents/mineria/proyecto/part-00000-acf23e82-8c41-458f-9399-57e2a260de4b-c000(1).csv\")"
   ]
  },
  {
   "cell_type": "markdown",
   "metadata": {},
   "source": [
    "Convertimos el tipo de variables a factores y mostramos las primeras líneas del conjunto de entrenamiento."
   ]
  },
  {
   "cell_type": "code",
   "execution_count": 167,
   "metadata": {},
   "outputs": [],
   "source": [
    "spotify[\"is_churn\"] = spotify[\"is_churn\"].asfactor()\n",
    "spotify[\"city\"] = spotify[\"city\"].asfactor()\n",
    "spotify[\"gender\"] = spotify[\"gender\"].asfactor()"
   ]
  },
  {
   "cell_type": "code",
   "execution_count": 168,
   "metadata": {},
   "outputs": [
    {
     "data": {
      "text/html": [
       "<table>\n",
       "<thead>\n",
       "<tr><th>msno                                        </th><th style=\"text-align: right;\">  is_churn</th><th style=\"text-align: right;\">  city</th><th style=\"text-align: right;\">  bd</th><th>gender  </th><th style=\"text-align: right;\">  registered_via</th><th>registered_init_time    </th><th style=\"text-align: right;\">       date</th><th style=\"text-align: right;\">  num_25</th><th style=\"text-align: right;\">  num_50</th><th style=\"text-align: right;\">  num_75</th><th style=\"text-align: right;\">  num_985</th><th style=\"text-align: right;\">  num_100</th><th style=\"text-align: right;\">  num_unq</th><th style=\"text-align: right;\">  total_secs</th><th style=\"text-align: right;\">  payment_method_id</th><th style=\"text-align: right;\">  payment_plan_days</th><th style=\"text-align: right;\">  plan_list_price</th><th style=\"text-align: right;\">  actual_amount_paid</th><th style=\"text-align: right;\">  is_auto_renew</th><th style=\"text-align: right;\">  transaction_date</th><th style=\"text-align: right;\">  membership_expire_date</th><th style=\"text-align: right;\">  is_cancel</th></tr>\n",
       "</thead>\n",
       "<tbody>\n",
       "<tr><td>++4RuqBw0Ss6bQU4oMxaRlbBPoWzoEiIZaxPM04Y4+U=</td><td style=\"text-align: right;\">         0</td><td style=\"text-align: right;\">     1</td><td style=\"text-align: right;\">   0</td><td>        </td><td style=\"text-align: right;\">               7</td><td>2014-07-14T00:00:00.000Z</td><td style=\"text-align: right;\">1.48398e+09</td><td style=\"text-align: right;\"> 5.73333</td><td style=\"text-align: right;\">0.933333</td><td style=\"text-align: right;\">0.733333</td><td style=\"text-align: right;\"> 0.666667</td><td style=\"text-align: right;\">  6.46667</td><td style=\"text-align: right;\">  13.0667</td><td style=\"text-align: right;\">     1978.66</td><td style=\"text-align: right;\">               41  </td><td style=\"text-align: right;\">                 30</td><td style=\"text-align: right;\">            149  </td><td style=\"text-align: right;\">               149  </td><td style=\"text-align: right;\">              1</td><td style=\"text-align: right;\">       1.48162e+09</td><td style=\"text-align: right;\">                     nan</td><td style=\"text-align: right;\">        0  </td></tr>\n",
       "<tr><td>+/namlXq+u3izRjHCFJV4MgqcXcLidZYszVsROOq/y4=</td><td style=\"text-align: right;\">         0</td><td style=\"text-align: right;\">    15</td><td style=\"text-align: right;\">  31</td><td>male    </td><td style=\"text-align: right;\">               9</td><td>2006-06-03T00:00:00.000Z</td><td style=\"text-align: right;\">1.48755e+09</td><td style=\"text-align: right;\">29.1333 </td><td style=\"text-align: right;\">1.26667 </td><td style=\"text-align: right;\">1.4     </td><td style=\"text-align: right;\"> 1.26667 </td><td style=\"text-align: right;\"> 33.6    </td><td style=\"text-align: right;\">  61.1333</td><td style=\"text-align: right;\">     9395.27</td><td style=\"text-align: right;\">               34  </td><td style=\"text-align: right;\">                 30</td><td style=\"text-align: right;\">            149  </td><td style=\"text-align: right;\">               149  </td><td style=\"text-align: right;\">              1</td><td style=\"text-align: right;\">       1.48311e+09</td><td style=\"text-align: right;\">                     nan</td><td style=\"text-align: right;\">        0  </td></tr>\n",
       "<tr><td>+0/X9tkmyHyet9X80G6GTrDFHnJqvai8d1ZPhayT0os=</td><td style=\"text-align: right;\">         0</td><td style=\"text-align: right;\">     9</td><td style=\"text-align: right;\">  31</td><td>male    </td><td style=\"text-align: right;\">               9</td><td>2004-03-30T00:00:00.000Z</td><td style=\"text-align: right;\">1.48764e+09</td><td style=\"text-align: right;\">12.4667 </td><td style=\"text-align: right;\">1.86667 </td><td style=\"text-align: right;\">1.06667 </td><td style=\"text-align: right;\"> 3.26667 </td><td style=\"text-align: right;\"> 67.8    </td><td style=\"text-align: right;\">  19.8667</td><td style=\"text-align: right;\">    17219   </td><td style=\"text-align: right;\">               34  </td><td style=\"text-align: right;\">                 30</td><td style=\"text-align: right;\">            149  </td><td style=\"text-align: right;\">               149  </td><td style=\"text-align: right;\">              1</td><td style=\"text-align: right;\">       1.48311e+09</td><td style=\"text-align: right;\">                     nan</td><td style=\"text-align: right;\">        0  </td></tr>\n",
       "<tr><td>+09YGn842g6h2EZUXe0VWeC4bBoCbDGfUboitc0vIHw=</td><td style=\"text-align: right;\">         0</td><td style=\"text-align: right;\">    15</td><td style=\"text-align: right;\">  29</td><td>male    </td><td style=\"text-align: right;\">               9</td><td>2008-03-22T00:00:00.000Z</td><td style=\"text-align: right;\">1.48751e+09</td><td style=\"text-align: right;\"> 2.33333</td><td style=\"text-align: right;\">0.6     </td><td style=\"text-align: right;\">0.333333</td><td style=\"text-align: right;\"> 0.666667</td><td style=\"text-align: right;\"> 33      </td><td style=\"text-align: right;\">  27.8   </td><td style=\"text-align: right;\">     8571.42</td><td style=\"text-align: right;\">               34  </td><td style=\"text-align: right;\">                 30</td><td style=\"text-align: right;\">            149  </td><td style=\"text-align: right;\">               149  </td><td style=\"text-align: right;\">              1</td><td style=\"text-align: right;\">       1.48311e+09</td><td style=\"text-align: right;\">                     nan</td><td style=\"text-align: right;\">        0  </td></tr>\n",
       "<tr><td>+0RJtbyhoPAHPa+34MkYcE2Ox0cjMgJOTXMXVBYgkJE=</td><td style=\"text-align: right;\">         1</td><td style=\"text-align: right;\">    13</td><td style=\"text-align: right;\">  29</td><td>female  </td><td style=\"text-align: right;\">               3</td><td>2012-06-12T00:00:00.000Z</td><td style=\"text-align: right;\">1.48615e+09</td><td style=\"text-align: right;\"> 2.4    </td><td style=\"text-align: right;\">0.866667</td><td style=\"text-align: right;\">0.866667</td><td style=\"text-align: right;\"> 1.33333 </td><td style=\"text-align: right;\"> 18.2    </td><td style=\"text-align: right;\">  20.5333</td><td style=\"text-align: right;\">     4813.96</td><td style=\"text-align: right;\">               32  </td><td style=\"text-align: right;\">                410</td><td style=\"text-align: right;\">           1788  </td><td style=\"text-align: right;\">              1788  </td><td style=\"text-align: right;\">              0</td><td style=\"text-align: right;\">       1.45273e+09</td><td style=\"text-align: right;\">                     nan</td><td style=\"text-align: right;\">        0  </td></tr>\n",
       "<tr><td>+0jTOa6KGPk1vtNTwRDMZc/McUo41AeuwV3ndo54Y+Q=</td><td style=\"text-align: right;\">         0</td><td style=\"text-align: right;\">     5</td><td style=\"text-align: right;\">  24</td><td>female  </td><td style=\"text-align: right;\">               9</td><td>2014-03-20T00:00:00.000Z</td><td style=\"text-align: right;\">1.48739e+09</td><td style=\"text-align: right;\">10.7333 </td><td style=\"text-align: right;\">4.4     </td><td style=\"text-align: right;\">0.933333</td><td style=\"text-align: right;\"> 0.533333</td><td style=\"text-align: right;\"> 19.6    </td><td style=\"text-align: right;\">  30.9333</td><td style=\"text-align: right;\">     5353.78</td><td style=\"text-align: right;\">               23  </td><td style=\"text-align: right;\">                 30</td><td style=\"text-align: right;\">            149  </td><td style=\"text-align: right;\">               149  </td><td style=\"text-align: right;\">              1</td><td style=\"text-align: right;\">       1.4805e+09 </td><td style=\"text-align: right;\">                     nan</td><td style=\"text-align: right;\">        0  </td></tr>\n",
       "<tr><td>+0l+FDuhyjaZnu0APnrg5L9QqgaRw4RmdQMvqOtKDmU=</td><td style=\"text-align: right;\">         0</td><td style=\"text-align: right;\">    13</td><td style=\"text-align: right;\">  32</td><td>male    </td><td style=\"text-align: right;\">               3</td><td>2015-03-16T00:00:00.000Z</td><td style=\"text-align: right;\">1.48743e+09</td><td style=\"text-align: right;\">12.3333 </td><td style=\"text-align: right;\">1.6     </td><td style=\"text-align: right;\">1.66667 </td><td style=\"text-align: right;\"> 0.933333</td><td style=\"text-align: right;\"> 40.6    </td><td style=\"text-align: right;\">  46.6667</td><td style=\"text-align: right;\">    10597.8 </td><td style=\"text-align: right;\">               37  </td><td style=\"text-align: right;\">                 30</td><td style=\"text-align: right;\">            149  </td><td style=\"text-align: right;\">               149  </td><td style=\"text-align: right;\">              1</td><td style=\"text-align: right;\">       1.48257e+09</td><td style=\"text-align: right;\">                     nan</td><td style=\"text-align: right;\">        0  </td></tr>\n",
       "<tr><td>+0l/WkoOIugT69NYawwewSLZjIJ17kHIpDdWqcp53RI=</td><td style=\"text-align: right;\">         0</td><td style=\"text-align: right;\">     5</td><td style=\"text-align: right;\">   0</td><td>        </td><td style=\"text-align: right;\">               3</td><td>2013-02-27T00:00:00.000Z</td><td style=\"text-align: right;\">1.48656e+09</td><td style=\"text-align: right;\"> 1      </td><td style=\"text-align: right;\">0.4     </td><td style=\"text-align: right;\">0.333333</td><td style=\"text-align: right;\"> 0.133333</td><td style=\"text-align: right;\"> 21.5333 </td><td style=\"text-align: right;\">  20.6667</td><td style=\"text-align: right;\">     5413.59</td><td style=\"text-align: right;\">               40  </td><td style=\"text-align: right;\">                 30</td><td style=\"text-align: right;\">            149  </td><td style=\"text-align: right;\">               149  </td><td style=\"text-align: right;\">              1</td><td style=\"text-align: right;\">       1.48302e+09</td><td style=\"text-align: right;\">                     nan</td><td style=\"text-align: right;\">        0.2</td></tr>\n",
       "<tr><td>+2Df04hr61UUJijMM2xR97gtoQWWDJpnJVKQ7VMYN9o=</td><td style=\"text-align: right;\">         0</td><td style=\"text-align: right;\">     6</td><td style=\"text-align: right;\">  31</td><td>female  </td><td style=\"text-align: right;\">               9</td><td>2008-04-17T00:00:00.000Z</td><td style=\"text-align: right;\">1.48764e+09</td><td style=\"text-align: right;\"> 1.26667</td><td style=\"text-align: right;\">0.466667</td><td style=\"text-align: right;\">0.333333</td><td style=\"text-align: right;\"> 1.86667 </td><td style=\"text-align: right;\">281.667  </td><td style=\"text-align: right;\">  15     </td><td style=\"text-align: right;\">    48663   </td><td style=\"text-align: right;\">               36.4</td><td style=\"text-align: right;\">                 30</td><td style=\"text-align: right;\">            167.6</td><td style=\"text-align: right;\">               167.6</td><td style=\"text-align: right;\">              1</td><td style=\"text-align: right;\">       1.48131e+09</td><td style=\"text-align: right;\">                     nan</td><td style=\"text-align: right;\">        0.2</td></tr>\n",
       "<tr><td>+2eLsQv6T46iKwO+m+r6OFI2X3Oc9dGBMdti2COAe4w=</td><td style=\"text-align: right;\">         0</td><td style=\"text-align: right;\">     1</td><td style=\"text-align: right;\">   0</td><td>        </td><td style=\"text-align: right;\">               7</td><td>2012-12-17T00:00:00.000Z</td><td style=\"text-align: right;\">1.48719e+09</td><td style=\"text-align: right;\"> 8.93333</td><td style=\"text-align: right;\">2.73333 </td><td style=\"text-align: right;\">1.33333 </td><td style=\"text-align: right;\"> 3       </td><td style=\"text-align: right;\"> 11.4    </td><td style=\"text-align: right;\">  23.2667</td><td style=\"text-align: right;\">     3921.46</td><td style=\"text-align: right;\">               41  </td><td style=\"text-align: right;\">                 30</td><td style=\"text-align: right;\">             99  </td><td style=\"text-align: right;\">                99  </td><td style=\"text-align: right;\">              1</td><td style=\"text-align: right;\">       1.47938e+09</td><td style=\"text-align: right;\">                     nan</td><td style=\"text-align: right;\">        0  </td></tr>\n",
       "</tbody>\n",
       "</table>"
      ]
     },
     "metadata": {},
     "output_type": "display_data"
    },
    {
     "data": {
      "text/plain": []
     },
     "execution_count": 168,
     "metadata": {},
     "output_type": "execute_result"
    }
   ],
   "source": [
    "spotify"
   ]
  },
  {
   "cell_type": "markdown",
   "metadata": {},
   "source": [
    "Especificamos cuáles son los predictores y cuál es la variable de respuesta."
   ]
  },
  {
   "cell_type": "markdown",
   "metadata": {},
   "source": [
    "## Ingeniería de Características\n",
    "En esta sección agregamos variables manualmente, considerando po el contexto cuales variables tienen sentido y son interpretables. Podemos agregar una variable de descuentos a partir de cuánto cuesta el producto menos la cantidad que se pagó realmente. También agregamos una variable binaria si el cliente tiene o no descuento."
   ]
  },
  {
   "cell_type": "code",
   "execution_count": 169,
   "metadata": {},
   "outputs": [],
   "source": [
    "spotify[\"discount\"] = spotify[\"plan_list_price\"] - spotify[\"actual_amount_paid\"]\n",
    "spotify[\"is_discount\"]=spotify[\"discount\"]>0\n",
    "spotify[\"amount_per_day\"]=spotify[\"plan_list_price\"]/spotify[\"payment_plan_days\"]\n",
    "spotify[\"bd\"]=(spotify[\"bd\"]<=0 or spotify[\"bd\"]>100).ifelse(np.nan,spotify[\"bd\"])"
   ]
  },
  {
   "cell_type": "code",
   "execution_count": 170,
   "metadata": {
    "scrolled": false
   },
   "outputs": [
    {
     "data": {
      "text/html": [
       "<table>\n",
       "<thead>\n",
       "<tr><th>msno                                        </th><th style=\"text-align: right;\">  is_churn</th><th style=\"text-align: right;\">  city</th><th style=\"text-align: right;\">  bd</th><th>gender  </th><th style=\"text-align: right;\">  registered_via</th><th>registered_init_time    </th><th style=\"text-align: right;\">       date</th><th style=\"text-align: right;\">  num_25</th><th style=\"text-align: right;\">  num_50</th><th style=\"text-align: right;\">  num_75</th><th style=\"text-align: right;\">  num_985</th><th style=\"text-align: right;\">  num_100</th><th style=\"text-align: right;\">  num_unq</th><th style=\"text-align: right;\">  total_secs</th><th style=\"text-align: right;\">  payment_method_id</th><th style=\"text-align: right;\">  payment_plan_days</th><th style=\"text-align: right;\">  plan_list_price</th><th style=\"text-align: right;\">  actual_amount_paid</th><th style=\"text-align: right;\">  is_auto_renew</th><th style=\"text-align: right;\">  transaction_date</th><th style=\"text-align: right;\">  membership_expire_date</th><th style=\"text-align: right;\">  is_cancel</th><th style=\"text-align: right;\">  discount</th><th style=\"text-align: right;\">  is_discount</th><th style=\"text-align: right;\">  amount_per_day</th></tr>\n",
       "</thead>\n",
       "<tbody>\n",
       "<tr><td>++4RuqBw0Ss6bQU4oMxaRlbBPoWzoEiIZaxPM04Y4+U=</td><td style=\"text-align: right;\">         0</td><td style=\"text-align: right;\">     1</td><td style=\"text-align: right;\"> nan</td><td>        </td><td style=\"text-align: right;\">               7</td><td>2014-07-14T00:00:00.000Z</td><td style=\"text-align: right;\">1.48398e+09</td><td style=\"text-align: right;\"> 5.73333</td><td style=\"text-align: right;\">0.933333</td><td style=\"text-align: right;\">0.733333</td><td style=\"text-align: right;\"> 0.666667</td><td style=\"text-align: right;\">  6.46667</td><td style=\"text-align: right;\">  13.0667</td><td style=\"text-align: right;\">     1978.66</td><td style=\"text-align: right;\">               41  </td><td style=\"text-align: right;\">                 30</td><td style=\"text-align: right;\">            149  </td><td style=\"text-align: right;\">               149  </td><td style=\"text-align: right;\">              1</td><td style=\"text-align: right;\">       1.48162e+09</td><td style=\"text-align: right;\">                     nan</td><td style=\"text-align: right;\">        0  </td><td style=\"text-align: right;\">         0</td><td style=\"text-align: right;\">            0</td><td style=\"text-align: right;\">         4.96667</td></tr>\n",
       "<tr><td>+/namlXq+u3izRjHCFJV4MgqcXcLidZYszVsROOq/y4=</td><td style=\"text-align: right;\">         0</td><td style=\"text-align: right;\">    15</td><td style=\"text-align: right;\">  31</td><td>male    </td><td style=\"text-align: right;\">               9</td><td>2006-06-03T00:00:00.000Z</td><td style=\"text-align: right;\">1.48755e+09</td><td style=\"text-align: right;\">29.1333 </td><td style=\"text-align: right;\">1.26667 </td><td style=\"text-align: right;\">1.4     </td><td style=\"text-align: right;\"> 1.26667 </td><td style=\"text-align: right;\"> 33.6    </td><td style=\"text-align: right;\">  61.1333</td><td style=\"text-align: right;\">     9395.27</td><td style=\"text-align: right;\">               34  </td><td style=\"text-align: right;\">                 30</td><td style=\"text-align: right;\">            149  </td><td style=\"text-align: right;\">               149  </td><td style=\"text-align: right;\">              1</td><td style=\"text-align: right;\">       1.48311e+09</td><td style=\"text-align: right;\">                     nan</td><td style=\"text-align: right;\">        0  </td><td style=\"text-align: right;\">         0</td><td style=\"text-align: right;\">            0</td><td style=\"text-align: right;\">         4.96667</td></tr>\n",
       "<tr><td>+0/X9tkmyHyet9X80G6GTrDFHnJqvai8d1ZPhayT0os=</td><td style=\"text-align: right;\">         0</td><td style=\"text-align: right;\">     9</td><td style=\"text-align: right;\">  31</td><td>male    </td><td style=\"text-align: right;\">               9</td><td>2004-03-30T00:00:00.000Z</td><td style=\"text-align: right;\">1.48764e+09</td><td style=\"text-align: right;\">12.4667 </td><td style=\"text-align: right;\">1.86667 </td><td style=\"text-align: right;\">1.06667 </td><td style=\"text-align: right;\"> 3.26667 </td><td style=\"text-align: right;\"> 67.8    </td><td style=\"text-align: right;\">  19.8667</td><td style=\"text-align: right;\">    17219   </td><td style=\"text-align: right;\">               34  </td><td style=\"text-align: right;\">                 30</td><td style=\"text-align: right;\">            149  </td><td style=\"text-align: right;\">               149  </td><td style=\"text-align: right;\">              1</td><td style=\"text-align: right;\">       1.48311e+09</td><td style=\"text-align: right;\">                     nan</td><td style=\"text-align: right;\">        0  </td><td style=\"text-align: right;\">         0</td><td style=\"text-align: right;\">            0</td><td style=\"text-align: right;\">         4.96667</td></tr>\n",
       "<tr><td>+09YGn842g6h2EZUXe0VWeC4bBoCbDGfUboitc0vIHw=</td><td style=\"text-align: right;\">         0</td><td style=\"text-align: right;\">    15</td><td style=\"text-align: right;\">  29</td><td>male    </td><td style=\"text-align: right;\">               9</td><td>2008-03-22T00:00:00.000Z</td><td style=\"text-align: right;\">1.48751e+09</td><td style=\"text-align: right;\"> 2.33333</td><td style=\"text-align: right;\">0.6     </td><td style=\"text-align: right;\">0.333333</td><td style=\"text-align: right;\"> 0.666667</td><td style=\"text-align: right;\"> 33      </td><td style=\"text-align: right;\">  27.8   </td><td style=\"text-align: right;\">     8571.42</td><td style=\"text-align: right;\">               34  </td><td style=\"text-align: right;\">                 30</td><td style=\"text-align: right;\">            149  </td><td style=\"text-align: right;\">               149  </td><td style=\"text-align: right;\">              1</td><td style=\"text-align: right;\">       1.48311e+09</td><td style=\"text-align: right;\">                     nan</td><td style=\"text-align: right;\">        0  </td><td style=\"text-align: right;\">         0</td><td style=\"text-align: right;\">            0</td><td style=\"text-align: right;\">         4.96667</td></tr>\n",
       "<tr><td>+0RJtbyhoPAHPa+34MkYcE2Ox0cjMgJOTXMXVBYgkJE=</td><td style=\"text-align: right;\">         1</td><td style=\"text-align: right;\">    13</td><td style=\"text-align: right;\">  29</td><td>female  </td><td style=\"text-align: right;\">               3</td><td>2012-06-12T00:00:00.000Z</td><td style=\"text-align: right;\">1.48615e+09</td><td style=\"text-align: right;\"> 2.4    </td><td style=\"text-align: right;\">0.866667</td><td style=\"text-align: right;\">0.866667</td><td style=\"text-align: right;\"> 1.33333 </td><td style=\"text-align: right;\"> 18.2    </td><td style=\"text-align: right;\">  20.5333</td><td style=\"text-align: right;\">     4813.96</td><td style=\"text-align: right;\">               32  </td><td style=\"text-align: right;\">                410</td><td style=\"text-align: right;\">           1788  </td><td style=\"text-align: right;\">              1788  </td><td style=\"text-align: right;\">              0</td><td style=\"text-align: right;\">       1.45273e+09</td><td style=\"text-align: right;\">                     nan</td><td style=\"text-align: right;\">        0  </td><td style=\"text-align: right;\">         0</td><td style=\"text-align: right;\">            0</td><td style=\"text-align: right;\">         4.36098</td></tr>\n",
       "<tr><td>+0jTOa6KGPk1vtNTwRDMZc/McUo41AeuwV3ndo54Y+Q=</td><td style=\"text-align: right;\">         0</td><td style=\"text-align: right;\">     5</td><td style=\"text-align: right;\">  24</td><td>female  </td><td style=\"text-align: right;\">               9</td><td>2014-03-20T00:00:00.000Z</td><td style=\"text-align: right;\">1.48739e+09</td><td style=\"text-align: right;\">10.7333 </td><td style=\"text-align: right;\">4.4     </td><td style=\"text-align: right;\">0.933333</td><td style=\"text-align: right;\"> 0.533333</td><td style=\"text-align: right;\"> 19.6    </td><td style=\"text-align: right;\">  30.9333</td><td style=\"text-align: right;\">     5353.78</td><td style=\"text-align: right;\">               23  </td><td style=\"text-align: right;\">                 30</td><td style=\"text-align: right;\">            149  </td><td style=\"text-align: right;\">               149  </td><td style=\"text-align: right;\">              1</td><td style=\"text-align: right;\">       1.4805e+09 </td><td style=\"text-align: right;\">                     nan</td><td style=\"text-align: right;\">        0  </td><td style=\"text-align: right;\">         0</td><td style=\"text-align: right;\">            0</td><td style=\"text-align: right;\">         4.96667</td></tr>\n",
       "<tr><td>+0l+FDuhyjaZnu0APnrg5L9QqgaRw4RmdQMvqOtKDmU=</td><td style=\"text-align: right;\">         0</td><td style=\"text-align: right;\">    13</td><td style=\"text-align: right;\">  32</td><td>male    </td><td style=\"text-align: right;\">               3</td><td>2015-03-16T00:00:00.000Z</td><td style=\"text-align: right;\">1.48743e+09</td><td style=\"text-align: right;\">12.3333 </td><td style=\"text-align: right;\">1.6     </td><td style=\"text-align: right;\">1.66667 </td><td style=\"text-align: right;\"> 0.933333</td><td style=\"text-align: right;\"> 40.6    </td><td style=\"text-align: right;\">  46.6667</td><td style=\"text-align: right;\">    10597.8 </td><td style=\"text-align: right;\">               37  </td><td style=\"text-align: right;\">                 30</td><td style=\"text-align: right;\">            149  </td><td style=\"text-align: right;\">               149  </td><td style=\"text-align: right;\">              1</td><td style=\"text-align: right;\">       1.48257e+09</td><td style=\"text-align: right;\">                     nan</td><td style=\"text-align: right;\">        0  </td><td style=\"text-align: right;\">         0</td><td style=\"text-align: right;\">            0</td><td style=\"text-align: right;\">         4.96667</td></tr>\n",
       "<tr><td>+0l/WkoOIugT69NYawwewSLZjIJ17kHIpDdWqcp53RI=</td><td style=\"text-align: right;\">         0</td><td style=\"text-align: right;\">     5</td><td style=\"text-align: right;\"> nan</td><td>        </td><td style=\"text-align: right;\">               3</td><td>2013-02-27T00:00:00.000Z</td><td style=\"text-align: right;\">1.48656e+09</td><td style=\"text-align: right;\"> 1      </td><td style=\"text-align: right;\">0.4     </td><td style=\"text-align: right;\">0.333333</td><td style=\"text-align: right;\"> 0.133333</td><td style=\"text-align: right;\"> 21.5333 </td><td style=\"text-align: right;\">  20.6667</td><td style=\"text-align: right;\">     5413.59</td><td style=\"text-align: right;\">               40  </td><td style=\"text-align: right;\">                 30</td><td style=\"text-align: right;\">            149  </td><td style=\"text-align: right;\">               149  </td><td style=\"text-align: right;\">              1</td><td style=\"text-align: right;\">       1.48302e+09</td><td style=\"text-align: right;\">                     nan</td><td style=\"text-align: right;\">        0.2</td><td style=\"text-align: right;\">         0</td><td style=\"text-align: right;\">            0</td><td style=\"text-align: right;\">         4.96667</td></tr>\n",
       "<tr><td>+2Df04hr61UUJijMM2xR97gtoQWWDJpnJVKQ7VMYN9o=</td><td style=\"text-align: right;\">         0</td><td style=\"text-align: right;\">     6</td><td style=\"text-align: right;\">  31</td><td>female  </td><td style=\"text-align: right;\">               9</td><td>2008-04-17T00:00:00.000Z</td><td style=\"text-align: right;\">1.48764e+09</td><td style=\"text-align: right;\"> 1.26667</td><td style=\"text-align: right;\">0.466667</td><td style=\"text-align: right;\">0.333333</td><td style=\"text-align: right;\"> 1.86667 </td><td style=\"text-align: right;\">281.667  </td><td style=\"text-align: right;\">  15     </td><td style=\"text-align: right;\">    48663   </td><td style=\"text-align: right;\">               36.4</td><td style=\"text-align: right;\">                 30</td><td style=\"text-align: right;\">            167.6</td><td style=\"text-align: right;\">               167.6</td><td style=\"text-align: right;\">              1</td><td style=\"text-align: right;\">       1.48131e+09</td><td style=\"text-align: right;\">                     nan</td><td style=\"text-align: right;\">        0.2</td><td style=\"text-align: right;\">         0</td><td style=\"text-align: right;\">            0</td><td style=\"text-align: right;\">         5.58667</td></tr>\n",
       "<tr><td>+2eLsQv6T46iKwO+m+r6OFI2X3Oc9dGBMdti2COAe4w=</td><td style=\"text-align: right;\">         0</td><td style=\"text-align: right;\">     1</td><td style=\"text-align: right;\"> nan</td><td>        </td><td style=\"text-align: right;\">               7</td><td>2012-12-17T00:00:00.000Z</td><td style=\"text-align: right;\">1.48719e+09</td><td style=\"text-align: right;\"> 8.93333</td><td style=\"text-align: right;\">2.73333 </td><td style=\"text-align: right;\">1.33333 </td><td style=\"text-align: right;\"> 3       </td><td style=\"text-align: right;\"> 11.4    </td><td style=\"text-align: right;\">  23.2667</td><td style=\"text-align: right;\">     3921.46</td><td style=\"text-align: right;\">               41  </td><td style=\"text-align: right;\">                 30</td><td style=\"text-align: right;\">             99  </td><td style=\"text-align: right;\">                99  </td><td style=\"text-align: right;\">              1</td><td style=\"text-align: right;\">       1.47938e+09</td><td style=\"text-align: right;\">                     nan</td><td style=\"text-align: right;\">        0  </td><td style=\"text-align: right;\">         0</td><td style=\"text-align: right;\">            0</td><td style=\"text-align: right;\">         3.3    </td></tr>\n",
       "</tbody>\n",
       "</table>"
      ]
     },
     "metadata": {},
     "output_type": "display_data"
    },
    {
     "data": {
      "text/plain": []
     },
     "execution_count": 170,
     "metadata": {},
     "output_type": "execute_result"
    }
   ],
   "source": [
    "spotify"
   ]
  },
  {
   "cell_type": "code",
   "execution_count": 171,
   "metadata": {},
   "outputs": [],
   "source": [
    "predictors = [\"city\", \"bd\", \"gender\", \"registered_via\", \"registered_init_time\", \"date\", \"num_25\", \"num_50\", \"num_75\", \"num_985\", \"num_100\", \"num_unq\", \"total_secs\",\"payment_method_id\", \"payment_plan_days\", \"plan_list_price\", \"actual_amount_paid\", \"is_auto_renew\", \"transaction_date\", \"membership_expire_date\",\"is_cancel\"]#, \"discount\", \"is_discount\", \"amount_per_day\"] \n",
    "predictors = [\"city\", \"bd\", \"gender\", \"registered_via\", \"registered_init_time\",\"num_25\", \"num_50\", \"num_75\", \"num_985\", \"num_100\", \"num_unq\", \"total_secs\",\"payment_method_id\", \"payment_plan_days\", \"plan_list_price\", \"actual_amount_paid\", \"is_auto_renew\", \"is_cancel\",\"discount\", \"is_discount\", \"amount_per_day\"]\n",
    "response = \"is_churn\""
   ]
  },
  {
   "cell_type": "markdown",
   "metadata": {},
   "source": [
    "Hacemos la separación para el conjunto de entrenamiento y validación, 80% y 20% respectivamente."
   ]
  },
  {
   "cell_type": "code",
   "execution_count": 172,
   "metadata": {},
   "outputs": [],
   "source": [
    "train, valid = spotify.split_frame(ratios = [0.8], seed=1234)"
   ]
  },
  {
   "cell_type": "markdown",
   "metadata": {},
   "source": [
    "## Modelos\n",
    "\n",
    "### Gradient Boosting Machine\n",
    "\n",
    "La idea de gradient boosting (GBM) es replicar la idea del residual en regresión, y usar\n",
    "árboles de regresión. Es una técnica directa de un método ensamblado. La heurística nos dice que podemos obtener resultados muy buenos a partir de muchas aproximaciones burdas. Se construyen árboles en paralelo, y en cierto sentido este modelo aprende de los errores de los árboles generados en iteraciones previas.\n",
    "\n",
    "A continuación mostramos la fase de entrenamiento usando la librería de H2o. Notese que usamos el conjunto de validación."
   ]
  },
  {
   "cell_type": "code",
   "execution_count": 173,
   "metadata": {},
   "outputs": [],
   "source": [
    "bin_num = [8,16,32,64,128,256,512,1024,2048,4096]\n",
    "label = [\"8\",\"16\",\"32\",\"64\",\"128\",\"256\",\"512\",\"1024\",\"2048\",\"4096\"]"
   ]
  },
  {
   "cell_type": "code",
   "execution_count": 174,
   "metadata": {},
   "outputs": [
    {
     "name": "stdout",
     "output_type": "stream",
     "text": [
      "gbm Model Build progress: |███████████████████████████████████████████████| 100%\n",
      "gbm Model Build progress: |███████████████████████████████████████████████| 100%\n",
      "gbm Model Build progress: |███████████████████████████████████████████████| 100%\n",
      "gbm Model Build progress: |███████████████████████████████████████████████| 100%\n",
      "gbm Model Build progress: |███████████████████████████████████████████████| 100%\n",
      "gbm Model Build progress: |███████████████████████████████████████████████| 100%\n",
      "gbm Model Build progress: |███████████████████████████████████████████████| 100%\n",
      "gbm Model Build progress: |███████████████████████████████████████████████| 100%\n",
      "gbm Model Build progress: |███████████████████████████████████████████████| 100%\n",
      "gbm Model Build progress: |███████████████████████████████████████████████| 100%\n"
     ]
    }
   ],
   "source": [
    "df=pd.DataFrame(index=range(1,len(bin_num)),columns=['bin_num','training_score','validation_score'])\n",
    "for key, num in enumerate(bin_num):\n",
    "    spotify_gbm = H2OGradientBoostingEstimator(nbins_cats = num, seed=1234)\n",
    "    spotify_gbm.train(x=predictors, y=response, training_frame=train, validation_frame=valid)\n",
    "    df.loc[key]=[num, spotify_gbm.auc(train=True),spotify_gbm.auc(valid=True)]\n",
    "    #print(label[key], 'training score', spotify_gbm.auc(train=True))\n",
    "    #print(label[key], 'validation score', spotify_gbm.auc(valid=True))"
   ]
  },
  {
   "cell_type": "markdown",
   "metadata": {},
   "source": [
    "Se muestra el AUC, esto nos dice que nuestro predictor es extremadamente bueno. Habrá que verificar con los datos de prueba para validar que en realidad no se sobreajustó. "
   ]
  },
  {
   "cell_type": "code",
   "execution_count": 175,
   "metadata": {
    "scrolled": true
   },
   "outputs": [
    {
     "name": "stdout",
     "output_type": "stream",
     "text": [
      "4096 training score 0.9660228744883572\n",
      "4096 validation score 0.9541978004297422\n"
     ]
    }
   ],
   "source": [
    "print(label[key], 'training score', spotify_gbm.auc(train=True))\n",
    "print(label[key], 'validation score', spotify_gbm.auc(valid=True))"
   ]
  },
  {
   "cell_type": "code",
   "execution_count": 176,
   "metadata": {},
   "outputs": [
    {
     "name": "stdout",
     "output_type": "stream",
     "text": [
      "   bin_num  training_score  validation_score\n",
      "9   4096.0        0.966023          0.954198\n",
      "   bin_num  training_score  validation_score\n",
      "4    128.0        0.959484          0.955245\n"
     ]
    }
   ],
   "source": [
    "print(df[df['training_score']==df['training_score'].max()])\n",
    "print(df[df['validation_score']==df['validation_score'].max()])"
   ]
  },
  {
   "cell_type": "code",
   "execution_count": 177,
   "metadata": {},
   "outputs": [
    {
     "data": {
      "text/html": [
       "<div>\n",
       "<style scoped>\n",
       "    .dataframe tbody tr th:only-of-type {\n",
       "        vertical-align: middle;\n",
       "    }\n",
       "\n",
       "    .dataframe tbody tr th {\n",
       "        vertical-align: top;\n",
       "    }\n",
       "\n",
       "    .dataframe thead th {\n",
       "        text-align: right;\n",
       "    }\n",
       "</style>\n",
       "<table border=\"1\" class=\"dataframe\">\n",
       "  <thead>\n",
       "    <tr style=\"text-align: right;\">\n",
       "      <th></th>\n",
       "      <th>bin_num</th>\n",
       "      <th>training_score</th>\n",
       "      <th>validation_score</th>\n",
       "    </tr>\n",
       "  </thead>\n",
       "  <tbody>\n",
       "    <tr>\n",
       "      <th>1</th>\n",
       "      <td>16.0</td>\n",
       "      <td>0.958286</td>\n",
       "      <td>0.954930</td>\n",
       "    </tr>\n",
       "    <tr>\n",
       "      <th>2</th>\n",
       "      <td>32.0</td>\n",
       "      <td>0.958279</td>\n",
       "      <td>0.954488</td>\n",
       "    </tr>\n",
       "    <tr>\n",
       "      <th>3</th>\n",
       "      <td>64.0</td>\n",
       "      <td>0.959048</td>\n",
       "      <td>0.954978</td>\n",
       "    </tr>\n",
       "    <tr>\n",
       "      <th>4</th>\n",
       "      <td>128.0</td>\n",
       "      <td>0.959484</td>\n",
       "      <td>0.955245</td>\n",
       "    </tr>\n",
       "    <tr>\n",
       "      <th>5</th>\n",
       "      <td>256.0</td>\n",
       "      <td>0.959274</td>\n",
       "      <td>0.954579</td>\n",
       "    </tr>\n",
       "    <tr>\n",
       "      <th>6</th>\n",
       "      <td>512.0</td>\n",
       "      <td>0.960334</td>\n",
       "      <td>0.954380</td>\n",
       "    </tr>\n",
       "    <tr>\n",
       "      <th>7</th>\n",
       "      <td>1024.0</td>\n",
       "      <td>0.960435</td>\n",
       "      <td>0.954717</td>\n",
       "    </tr>\n",
       "    <tr>\n",
       "      <th>8</th>\n",
       "      <td>2048.0</td>\n",
       "      <td>0.962146</td>\n",
       "      <td>0.954426</td>\n",
       "    </tr>\n",
       "    <tr>\n",
       "      <th>9</th>\n",
       "      <td>4096.0</td>\n",
       "      <td>0.966023</td>\n",
       "      <td>0.954198</td>\n",
       "    </tr>\n",
       "    <tr>\n",
       "      <th>0</th>\n",
       "      <td>8.0</td>\n",
       "      <td>0.957817</td>\n",
       "      <td>0.954589</td>\n",
       "    </tr>\n",
       "  </tbody>\n",
       "</table>\n",
       "</div>"
      ],
      "text/plain": [
       "   bin_num  training_score  validation_score\n",
       "1     16.0        0.958286          0.954930\n",
       "2     32.0        0.958279          0.954488\n",
       "3     64.0        0.959048          0.954978\n",
       "4    128.0        0.959484          0.955245\n",
       "5    256.0        0.959274          0.954579\n",
       "6    512.0        0.960334          0.954380\n",
       "7   1024.0        0.960435          0.954717\n",
       "8   2048.0        0.962146          0.954426\n",
       "9   4096.0        0.966023          0.954198\n",
       "0      8.0        0.957817          0.954589"
      ]
     },
     "execution_count": 177,
     "metadata": {},
     "output_type": "execute_result"
    }
   ],
   "source": [
    "df"
   ]
  },
  {
   "cell_type": "markdown",
   "metadata": {},
   "source": [
    "Todos los modelos tienen un desempeño muy similar, el modelo con el mejor desempeño en el conjunto de entrenamiento es el último, pero su desempeño en el conjunto de validación es menor, lo cual quiere decir que está empezando a sobre ajustar."
   ]
  },
  {
   "cell_type": "markdown",
   "metadata": {},
   "source": [
    "Aquí se hace una predicción de los mismos datos con los que se ajustó."
   ]
  },
  {
   "cell_type": "code",
   "execution_count": 178,
   "metadata": {},
   "outputs": [
    {
     "name": "stdout",
     "output_type": "stream",
     "text": [
      "gbm prediction progress: |████████████████████████████████████████████████| 100%\n"
     ]
    }
   ],
   "source": [
    "final_gbm_predictions = spotify_gbm.predict(valid[1:])"
   ]
  },
  {
   "cell_type": "code",
   "execution_count": 179,
   "metadata": {},
   "outputs": [
    {
     "data": {
      "text/html": [
       "<table>\n",
       "<thead>\n",
       "<tr><th style=\"text-align: right;\">  predict</th><th style=\"text-align: right;\">      p0</th><th style=\"text-align: right;\">        p1</th></tr>\n",
       "</thead>\n",
       "<tbody>\n",
       "<tr><td style=\"text-align: right;\">        0</td><td style=\"text-align: right;\">0.996392</td><td style=\"text-align: right;\">0.00360826</td></tr>\n",
       "<tr><td style=\"text-align: right;\">        0</td><td style=\"text-align: right;\">0.997609</td><td style=\"text-align: right;\">0.00239101</td></tr>\n",
       "<tr><td style=\"text-align: right;\">        0</td><td style=\"text-align: right;\">0.99704 </td><td style=\"text-align: right;\">0.00296019</td></tr>\n",
       "<tr><td style=\"text-align: right;\">        0</td><td style=\"text-align: right;\">0.739144</td><td style=\"text-align: right;\">0.260856  </td></tr>\n",
       "<tr><td style=\"text-align: right;\">        1</td><td style=\"text-align: right;\">0.124758</td><td style=\"text-align: right;\">0.875242  </td></tr>\n",
       "<tr><td style=\"text-align: right;\">        0</td><td style=\"text-align: right;\">0.997609</td><td style=\"text-align: right;\">0.00239101</td></tr>\n",
       "<tr><td style=\"text-align: right;\">        0</td><td style=\"text-align: right;\">0.915241</td><td style=\"text-align: right;\">0.0847592 </td></tr>\n",
       "<tr><td style=\"text-align: right;\">        0</td><td style=\"text-align: right;\">0.915941</td><td style=\"text-align: right;\">0.0840587 </td></tr>\n",
       "<tr><td style=\"text-align: right;\">        0</td><td style=\"text-align: right;\">0.996321</td><td style=\"text-align: right;\">0.00367914</td></tr>\n",
       "<tr><td style=\"text-align: right;\">        0</td><td style=\"text-align: right;\">0.997495</td><td style=\"text-align: right;\">0.00250488</td></tr>\n",
       "</tbody>\n",
       "</table>"
      ]
     },
     "metadata": {},
     "output_type": "display_data"
    },
    {
     "data": {
      "text/plain": []
     },
     "execution_count": 179,
     "metadata": {},
     "output_type": "execute_result"
    }
   ],
   "source": [
    "final_gbm_predictions[:]"
   ]
  },
  {
   "cell_type": "markdown",
   "metadata": {},
   "source": [
    "### Gradient Boosting Machine reduced Model"
   ]
  },
  {
   "cell_type": "markdown",
   "metadata": {},
   "source": [
    "Se hace exactamente el mismo proceso usando todas las covariables que se extrajeron a partir de la tabla de logs."
   ]
  },
  {
   "cell_type": "code",
   "execution_count": 180,
   "metadata": {},
   "outputs": [],
   "source": [
    "spotify_logs=spotify[:,[\"msno\",\"num_25\",\"num_50\",\"num_75\",\"num_985\",\"num_100\",\"num_unq\",\"total_secs\",\"is_churn\"]]"
   ]
  },
  {
   "cell_type": "code",
   "execution_count": 181,
   "metadata": {},
   "outputs": [
    {
     "data": {
      "text/html": [
       "<table>\n",
       "<thead>\n",
       "<tr><th>msno                                        </th><th style=\"text-align: right;\">  num_25</th><th style=\"text-align: right;\">  num_50</th><th style=\"text-align: right;\">  num_75</th><th style=\"text-align: right;\">  num_985</th><th style=\"text-align: right;\">  num_100</th><th style=\"text-align: right;\">  num_unq</th><th style=\"text-align: right;\">  total_secs</th><th style=\"text-align: right;\">  is_churn</th></tr>\n",
       "</thead>\n",
       "<tbody>\n",
       "<tr><td>++4RuqBw0Ss6bQU4oMxaRlbBPoWzoEiIZaxPM04Y4+U=</td><td style=\"text-align: right;\"> 5.73333</td><td style=\"text-align: right;\">0.933333</td><td style=\"text-align: right;\">0.733333</td><td style=\"text-align: right;\"> 0.666667</td><td style=\"text-align: right;\">  6.46667</td><td style=\"text-align: right;\">  13.0667</td><td style=\"text-align: right;\">     1978.66</td><td style=\"text-align: right;\">         0</td></tr>\n",
       "<tr><td>+/namlXq+u3izRjHCFJV4MgqcXcLidZYszVsROOq/y4=</td><td style=\"text-align: right;\">29.1333 </td><td style=\"text-align: right;\">1.26667 </td><td style=\"text-align: right;\">1.4     </td><td style=\"text-align: right;\"> 1.26667 </td><td style=\"text-align: right;\"> 33.6    </td><td style=\"text-align: right;\">  61.1333</td><td style=\"text-align: right;\">     9395.27</td><td style=\"text-align: right;\">         0</td></tr>\n",
       "<tr><td>+0/X9tkmyHyet9X80G6GTrDFHnJqvai8d1ZPhayT0os=</td><td style=\"text-align: right;\">12.4667 </td><td style=\"text-align: right;\">1.86667 </td><td style=\"text-align: right;\">1.06667 </td><td style=\"text-align: right;\"> 3.26667 </td><td style=\"text-align: right;\"> 67.8    </td><td style=\"text-align: right;\">  19.8667</td><td style=\"text-align: right;\">    17219   </td><td style=\"text-align: right;\">         0</td></tr>\n",
       "<tr><td>+09YGn842g6h2EZUXe0VWeC4bBoCbDGfUboitc0vIHw=</td><td style=\"text-align: right;\"> 2.33333</td><td style=\"text-align: right;\">0.6     </td><td style=\"text-align: right;\">0.333333</td><td style=\"text-align: right;\"> 0.666667</td><td style=\"text-align: right;\"> 33      </td><td style=\"text-align: right;\">  27.8   </td><td style=\"text-align: right;\">     8571.42</td><td style=\"text-align: right;\">         0</td></tr>\n",
       "<tr><td>+0RJtbyhoPAHPa+34MkYcE2Ox0cjMgJOTXMXVBYgkJE=</td><td style=\"text-align: right;\"> 2.4    </td><td style=\"text-align: right;\">0.866667</td><td style=\"text-align: right;\">0.866667</td><td style=\"text-align: right;\"> 1.33333 </td><td style=\"text-align: right;\"> 18.2    </td><td style=\"text-align: right;\">  20.5333</td><td style=\"text-align: right;\">     4813.96</td><td style=\"text-align: right;\">         1</td></tr>\n",
       "<tr><td>+0jTOa6KGPk1vtNTwRDMZc/McUo41AeuwV3ndo54Y+Q=</td><td style=\"text-align: right;\">10.7333 </td><td style=\"text-align: right;\">4.4     </td><td style=\"text-align: right;\">0.933333</td><td style=\"text-align: right;\"> 0.533333</td><td style=\"text-align: right;\"> 19.6    </td><td style=\"text-align: right;\">  30.9333</td><td style=\"text-align: right;\">     5353.78</td><td style=\"text-align: right;\">         0</td></tr>\n",
       "<tr><td>+0l+FDuhyjaZnu0APnrg5L9QqgaRw4RmdQMvqOtKDmU=</td><td style=\"text-align: right;\">12.3333 </td><td style=\"text-align: right;\">1.6     </td><td style=\"text-align: right;\">1.66667 </td><td style=\"text-align: right;\"> 0.933333</td><td style=\"text-align: right;\"> 40.6    </td><td style=\"text-align: right;\">  46.6667</td><td style=\"text-align: right;\">    10597.8 </td><td style=\"text-align: right;\">         0</td></tr>\n",
       "<tr><td>+0l/WkoOIugT69NYawwewSLZjIJ17kHIpDdWqcp53RI=</td><td style=\"text-align: right;\"> 1      </td><td style=\"text-align: right;\">0.4     </td><td style=\"text-align: right;\">0.333333</td><td style=\"text-align: right;\"> 0.133333</td><td style=\"text-align: right;\"> 21.5333 </td><td style=\"text-align: right;\">  20.6667</td><td style=\"text-align: right;\">     5413.59</td><td style=\"text-align: right;\">         0</td></tr>\n",
       "<tr><td>+2Df04hr61UUJijMM2xR97gtoQWWDJpnJVKQ7VMYN9o=</td><td style=\"text-align: right;\"> 1.26667</td><td style=\"text-align: right;\">0.466667</td><td style=\"text-align: right;\">0.333333</td><td style=\"text-align: right;\"> 1.86667 </td><td style=\"text-align: right;\">281.667  </td><td style=\"text-align: right;\">  15     </td><td style=\"text-align: right;\">    48663   </td><td style=\"text-align: right;\">         0</td></tr>\n",
       "<tr><td>+2eLsQv6T46iKwO+m+r6OFI2X3Oc9dGBMdti2COAe4w=</td><td style=\"text-align: right;\"> 8.93333</td><td style=\"text-align: right;\">2.73333 </td><td style=\"text-align: right;\">1.33333 </td><td style=\"text-align: right;\"> 3       </td><td style=\"text-align: right;\"> 11.4    </td><td style=\"text-align: right;\">  23.2667</td><td style=\"text-align: right;\">     3921.46</td><td style=\"text-align: right;\">         0</td></tr>\n",
       "</tbody>\n",
       "</table>"
      ]
     },
     "metadata": {},
     "output_type": "display_data"
    },
    {
     "data": {
      "text/plain": []
     },
     "execution_count": 181,
     "metadata": {},
     "output_type": "execute_result"
    }
   ],
   "source": [
    "spotify_logs"
   ]
  },
  {
   "cell_type": "code",
   "execution_count": 182,
   "metadata": {},
   "outputs": [],
   "source": [
    "train_logs, valid_logs = spotify_logs.split_frame(ratios = [0.8], seed=1234)"
   ]
  },
  {
   "cell_type": "code",
   "execution_count": 183,
   "metadata": {},
   "outputs": [],
   "source": [
    "bin_num1 = [8,16,32,64,128,256,512,1024,2048,4096]\n",
    "label1 = [\"8\",\"16\",\"32\",\"64\",\"128\",\"256\",\"512\",\"1024\",\"2048\",\"4096\"]"
   ]
  },
  {
   "cell_type": "code",
   "execution_count": 184,
   "metadata": {},
   "outputs": [],
   "source": [
    "log_predictors = [\"num_25\", \"num_50\", \"num_75\", \"num_985\", \"num_100\", \"num_unq\", \"total_secs\"] "
   ]
  },
  {
   "cell_type": "code",
   "execution_count": 185,
   "metadata": {},
   "outputs": [
    {
     "name": "stdout",
     "output_type": "stream",
     "text": [
      "gbm Model Build progress: |███████████████████████████████████████████████| 100%\n",
      "gbm Model Build progress: |███████████████████████████████████████████████| 100%\n",
      "gbm Model Build progress: |███████████████████████████████████████████████| 100%\n",
      "gbm Model Build progress: |███████████████████████████████████████████████| 100%\n",
      "gbm Model Build progress: |███████████████████████████████████████████████| 100%\n",
      "gbm Model Build progress: |███████████████████████████████████████████████| 100%\n",
      "gbm Model Build progress: |███████████████████████████████████████████████| 100%\n",
      "gbm Model Build progress: |███████████████████████████████████████████████| 100%\n",
      "gbm Model Build progress: |███████████████████████████████████████████████| 100%\n",
      "gbm Model Build progress: |███████████████████████████████████████████████| 100%\n"
     ]
    }
   ],
   "source": [
    "df_logs=pd.DataFrame(index=range(1,len(bin_num)),columns=['bin_num','training_score','validation_score'])\n",
    "for key, num in enumerate(bin_num1):\n",
    "    spotify_gbm1 = H2OGradientBoostingEstimator(nbins_cats = num, seed=1234)\n",
    "    spotify_gbm1.train(x=log_predictors, y=response, training_frame=train_logs, validation_frame=valid_logs)\n",
    "    df_logs.loc[key]=[num, spotify_gbm.auc(train=True),spotify_gbm.auc(valid=True)]"
   ]
  },
  {
   "cell_type": "code",
   "execution_count": 186,
   "metadata": {},
   "outputs": [
    {
     "data": {
      "text/html": [
       "<div>\n",
       "<style scoped>\n",
       "    .dataframe tbody tr th:only-of-type {\n",
       "        vertical-align: middle;\n",
       "    }\n",
       "\n",
       "    .dataframe tbody tr th {\n",
       "        vertical-align: top;\n",
       "    }\n",
       "\n",
       "    .dataframe thead th {\n",
       "        text-align: right;\n",
       "    }\n",
       "</style>\n",
       "<table border=\"1\" class=\"dataframe\">\n",
       "  <thead>\n",
       "    <tr style=\"text-align: right;\">\n",
       "      <th></th>\n",
       "      <th>bin_num</th>\n",
       "      <th>training_score</th>\n",
       "      <th>validation_score</th>\n",
       "    </tr>\n",
       "  </thead>\n",
       "  <tbody>\n",
       "    <tr>\n",
       "      <th>1</th>\n",
       "      <td>16.0</td>\n",
       "      <td>0.966023</td>\n",
       "      <td>0.954198</td>\n",
       "    </tr>\n",
       "    <tr>\n",
       "      <th>2</th>\n",
       "      <td>32.0</td>\n",
       "      <td>0.966023</td>\n",
       "      <td>0.954198</td>\n",
       "    </tr>\n",
       "    <tr>\n",
       "      <th>3</th>\n",
       "      <td>64.0</td>\n",
       "      <td>0.966023</td>\n",
       "      <td>0.954198</td>\n",
       "    </tr>\n",
       "    <tr>\n",
       "      <th>4</th>\n",
       "      <td>128.0</td>\n",
       "      <td>0.966023</td>\n",
       "      <td>0.954198</td>\n",
       "    </tr>\n",
       "    <tr>\n",
       "      <th>5</th>\n",
       "      <td>256.0</td>\n",
       "      <td>0.966023</td>\n",
       "      <td>0.954198</td>\n",
       "    </tr>\n",
       "    <tr>\n",
       "      <th>6</th>\n",
       "      <td>512.0</td>\n",
       "      <td>0.966023</td>\n",
       "      <td>0.954198</td>\n",
       "    </tr>\n",
       "    <tr>\n",
       "      <th>7</th>\n",
       "      <td>1024.0</td>\n",
       "      <td>0.966023</td>\n",
       "      <td>0.954198</td>\n",
       "    </tr>\n",
       "    <tr>\n",
       "      <th>8</th>\n",
       "      <td>2048.0</td>\n",
       "      <td>0.966023</td>\n",
       "      <td>0.954198</td>\n",
       "    </tr>\n",
       "    <tr>\n",
       "      <th>9</th>\n",
       "      <td>4096.0</td>\n",
       "      <td>0.966023</td>\n",
       "      <td>0.954198</td>\n",
       "    </tr>\n",
       "    <tr>\n",
       "      <th>0</th>\n",
       "      <td>8.0</td>\n",
       "      <td>0.966023</td>\n",
       "      <td>0.954198</td>\n",
       "    </tr>\n",
       "  </tbody>\n",
       "</table>\n",
       "</div>"
      ],
      "text/plain": [
       "   bin_num  training_score  validation_score\n",
       "1     16.0        0.966023          0.954198\n",
       "2     32.0        0.966023          0.954198\n",
       "3     64.0        0.966023          0.954198\n",
       "4    128.0        0.966023          0.954198\n",
       "5    256.0        0.966023          0.954198\n",
       "6    512.0        0.966023          0.954198\n",
       "7   1024.0        0.966023          0.954198\n",
       "8   2048.0        0.966023          0.954198\n",
       "9   4096.0        0.966023          0.954198\n",
       "0      8.0        0.966023          0.954198"
      ]
     },
     "execution_count": 186,
     "metadata": {},
     "output_type": "execute_result"
    }
   ],
   "source": [
    "df_logs"
   ]
  },
  {
   "cell_type": "code",
   "execution_count": 187,
   "metadata": {},
   "outputs": [
    {
     "data": {
      "text/plain": [
       "'/home/lorena/Documents/mineria/proyecto/GBM_model_python_1545334017097_5859'"
      ]
     },
     "execution_count": 187,
     "metadata": {},
     "output_type": "execute_result"
    }
   ],
   "source": [
    "model_path = h2o.save_model(model=spotify_gbm1, path=\"/home/lorena/Documents/mineria/proyecto\", force=True)\n",
    "model_path"
   ]
  },
  {
   "cell_type": "markdown",
   "metadata": {},
   "source": [
    "Este modelo tiene casi el mismo desempeño que el anterior. Lo cual sugiere que las variables que más explican son las que se encuentran en la tabla de user_log\n",
    "\n",
    "### Distributed Random Forest\n",
    "\n",
    "El segundo modelo con el que se evaluó fue un modelo de Random Forest (DRF). Es un método muy poderoso para la clasificacion.\n",
    "\n",
    "Distributed Random Forest (DRF) is a powerful classification and regression tool. When given a set of data, DRF generates a forest of classification or regression trees, rather than a single classification or regression tree. Each of these trees is a weak learner built on a subset of rows and columns. More trees will reduce the variance. Both classification and regression take the average prediction over all of their trees to make a final prediction, whether predicting for a class or numeric value."
   ]
  },
  {
   "cell_type": "code",
   "execution_count": 188,
   "metadata": {},
   "outputs": [],
   "source": [
    "rf_v1 = H2ORandomForestEstimator(\n",
    "    model_id=\"rf_covType_v1\",\n",
    "    ntrees=200,\n",
    "    stopping_rounds=2,\n",
    "    score_each_iteration=True,\n",
    "seed=1000000)"
   ]
  },
  {
   "cell_type": "code",
   "execution_count": 189,
   "metadata": {},
   "outputs": [
    {
     "name": "stdout",
     "output_type": "stream",
     "text": [
      "drf Model Build progress: |███████████████████████████████████████████████| 100%\n"
     ]
    }
   ],
   "source": [
    "rf_v1.train(x=predictors, y=response, training_frame=train, validation_frame=valid)"
   ]
  },
  {
   "cell_type": "code",
   "execution_count": 190,
   "metadata": {},
   "outputs": [
    {
     "data": {
      "text/html": [
       "<div>\n",
       "<style scoped>\n",
       "    .dataframe tbody tr th:only-of-type {\n",
       "        vertical-align: middle;\n",
       "    }\n",
       "\n",
       "    .dataframe tbody tr th {\n",
       "        vertical-align: top;\n",
       "    }\n",
       "\n",
       "    .dataframe thead th {\n",
       "        text-align: right;\n",
       "    }\n",
       "</style>\n",
       "<table border=\"1\" class=\"dataframe\">\n",
       "  <thead>\n",
       "    <tr style=\"text-align: right;\">\n",
       "      <th></th>\n",
       "      <th></th>\n",
       "      <th>timestamp</th>\n",
       "      <th>duration</th>\n",
       "      <th>number_of_trees</th>\n",
       "      <th>training_rmse</th>\n",
       "      <th>training_logloss</th>\n",
       "      <th>training_auc</th>\n",
       "      <th>training_pr_auc</th>\n",
       "      <th>training_lift</th>\n",
       "      <th>training_classification_error</th>\n",
       "      <th>validation_rmse</th>\n",
       "      <th>validation_logloss</th>\n",
       "      <th>validation_auc</th>\n",
       "      <th>validation_pr_auc</th>\n",
       "      <th>validation_lift</th>\n",
       "      <th>validation_classification_error</th>\n",
       "    </tr>\n",
       "  </thead>\n",
       "  <tbody>\n",
       "    <tr>\n",
       "      <th>0</th>\n",
       "      <td></td>\n",
       "      <td>2018-12-20 15:26:38</td>\n",
       "      <td>0.006 sec</td>\n",
       "      <td>0.0</td>\n",
       "      <td>NaN</td>\n",
       "      <td>NaN</td>\n",
       "      <td>NaN</td>\n",
       "      <td>NaN</td>\n",
       "      <td>NaN</td>\n",
       "      <td>NaN</td>\n",
       "      <td>NaN</td>\n",
       "      <td>NaN</td>\n",
       "      <td>NaN</td>\n",
       "      <td>NaN</td>\n",
       "      <td>NaN</td>\n",
       "      <td>NaN</td>\n",
       "    </tr>\n",
       "    <tr>\n",
       "      <th>1</th>\n",
       "      <td></td>\n",
       "      <td>2018-12-20 15:26:38</td>\n",
       "      <td>0.371 sec</td>\n",
       "      <td>1.0</td>\n",
       "      <td>0.245711</td>\n",
       "      <td>1.529905</td>\n",
       "      <td>0.720030</td>\n",
       "      <td>0.190559</td>\n",
       "      <td>7.375163</td>\n",
       "      <td>0.089022</td>\n",
       "      <td>0.249436</td>\n",
       "      <td>1.580358</td>\n",
       "      <td>0.716015</td>\n",
       "      <td>0.185531</td>\n",
       "      <td>6.906414</td>\n",
       "      <td>0.090517</td>\n",
       "    </tr>\n",
       "    <tr>\n",
       "      <th>2</th>\n",
       "      <td></td>\n",
       "      <td>2018-12-20 15:26:39</td>\n",
       "      <td>0.740 sec</td>\n",
       "      <td>2.0</td>\n",
       "      <td>0.236396</td>\n",
       "      <td>1.280030</td>\n",
       "      <td>0.775655</td>\n",
       "      <td>0.234305</td>\n",
       "      <td>7.610209</td>\n",
       "      <td>0.082654</td>\n",
       "      <td>0.219145</td>\n",
       "      <td>0.607001</td>\n",
       "      <td>0.860514</td>\n",
       "      <td>0.368480</td>\n",
       "      <td>8.621298</td>\n",
       "      <td>0.081890</td>\n",
       "    </tr>\n",
       "    <tr>\n",
       "      <th>3</th>\n",
       "      <td></td>\n",
       "      <td>2018-12-20 15:26:39</td>\n",
       "      <td>1.295 sec</td>\n",
       "      <td>3.0</td>\n",
       "      <td>0.233434</td>\n",
       "      <td>1.108593</td>\n",
       "      <td>0.785717</td>\n",
       "      <td>0.265138</td>\n",
       "      <td>7.505550</td>\n",
       "      <td>0.084114</td>\n",
       "      <td>0.211103</td>\n",
       "      <td>0.322460</td>\n",
       "      <td>0.903563</td>\n",
       "      <td>0.444185</td>\n",
       "      <td>9.837826</td>\n",
       "      <td>0.084950</td>\n",
       "    </tr>\n",
       "    <tr>\n",
       "      <th>4</th>\n",
       "      <td></td>\n",
       "      <td>2018-12-20 15:26:40</td>\n",
       "      <td>1.739 sec</td>\n",
       "      <td>4.0</td>\n",
       "      <td>0.228218</td>\n",
       "      <td>0.938032</td>\n",
       "      <td>0.803948</td>\n",
       "      <td>0.301631</td>\n",
       "      <td>7.622941</td>\n",
       "      <td>0.080238</td>\n",
       "      <td>0.206755</td>\n",
       "      <td>0.237483</td>\n",
       "      <td>0.920345</td>\n",
       "      <td>0.479558</td>\n",
       "      <td>10.223623</td>\n",
       "      <td>0.075240</td>\n",
       "    </tr>\n",
       "    <tr>\n",
       "      <th>5</th>\n",
       "      <td></td>\n",
       "      <td>2018-12-20 15:26:40</td>\n",
       "      <td>2.216 sec</td>\n",
       "      <td>5.0</td>\n",
       "      <td>0.223709</td>\n",
       "      <td>0.791193</td>\n",
       "      <td>0.821909</td>\n",
       "      <td>0.333974</td>\n",
       "      <td>7.764927</td>\n",
       "      <td>0.079630</td>\n",
       "      <td>0.203557</td>\n",
       "      <td>0.194429</td>\n",
       "      <td>0.929099</td>\n",
       "      <td>0.510163</td>\n",
       "      <td>10.346394</td>\n",
       "      <td>0.077917</td>\n",
       "    </tr>\n",
       "    <tr>\n",
       "      <th>6</th>\n",
       "      <td></td>\n",
       "      <td>2018-12-20 15:26:41</td>\n",
       "      <td>2.728 sec</td>\n",
       "      <td>6.0</td>\n",
       "      <td>0.219798</td>\n",
       "      <td>0.676722</td>\n",
       "      <td>0.840880</td>\n",
       "      <td>0.360421</td>\n",
       "      <td>8.015534</td>\n",
       "      <td>0.082265</td>\n",
       "      <td>0.201219</td>\n",
       "      <td>0.166313</td>\n",
       "      <td>0.936710</td>\n",
       "      <td>0.533692</td>\n",
       "      <td>11.159321</td>\n",
       "      <td>0.067569</td>\n",
       "    </tr>\n",
       "    <tr>\n",
       "      <th>7</th>\n",
       "      <td></td>\n",
       "      <td>2018-12-20 15:26:41</td>\n",
       "      <td>3.281 sec</td>\n",
       "      <td>7.0</td>\n",
       "      <td>0.216557</td>\n",
       "      <td>0.580743</td>\n",
       "      <td>0.856649</td>\n",
       "      <td>0.383360</td>\n",
       "      <td>8.345906</td>\n",
       "      <td>0.080646</td>\n",
       "      <td>0.200243</td>\n",
       "      <td>0.151537</td>\n",
       "      <td>0.941581</td>\n",
       "      <td>0.543269</td>\n",
       "      <td>11.606062</td>\n",
       "      <td>0.072987</td>\n",
       "    </tr>\n",
       "    <tr>\n",
       "      <th>8</th>\n",
       "      <td></td>\n",
       "      <td>2018-12-20 15:26:42</td>\n",
       "      <td>3.871 sec</td>\n",
       "      <td>8.0</td>\n",
       "      <td>0.213520</td>\n",
       "      <td>0.497769</td>\n",
       "      <td>0.871819</td>\n",
       "      <td>0.404332</td>\n",
       "      <td>8.698770</td>\n",
       "      <td>0.075800</td>\n",
       "      <td>0.199253</td>\n",
       "      <td>0.141744</td>\n",
       "      <td>0.945007</td>\n",
       "      <td>0.552556</td>\n",
       "      <td>11.798961</td>\n",
       "      <td>0.073880</td>\n",
       "    </tr>\n",
       "    <tr>\n",
       "      <th>9</th>\n",
       "      <td></td>\n",
       "      <td>2018-12-20 15:26:43</td>\n",
       "      <td>4.486 sec</td>\n",
       "      <td>9.0</td>\n",
       "      <td>0.211306</td>\n",
       "      <td>0.430494</td>\n",
       "      <td>0.884530</td>\n",
       "      <td>0.422395</td>\n",
       "      <td>9.392875</td>\n",
       "      <td>0.082861</td>\n",
       "      <td>0.198694</td>\n",
       "      <td>0.134426</td>\n",
       "      <td>0.948027</td>\n",
       "      <td>0.555917</td>\n",
       "      <td>11.702511</td>\n",
       "      <td>0.069099</td>\n",
       "    </tr>\n",
       "    <tr>\n",
       "      <th>10</th>\n",
       "      <td></td>\n",
       "      <td>2018-12-20 15:26:43</td>\n",
       "      <td>5.107 sec</td>\n",
       "      <td>10.0</td>\n",
       "      <td>0.209032</td>\n",
       "      <td>0.372437</td>\n",
       "      <td>0.894452</td>\n",
       "      <td>0.441973</td>\n",
       "      <td>10.032563</td>\n",
       "      <td>0.082125</td>\n",
       "      <td>0.197941</td>\n",
       "      <td>0.132313</td>\n",
       "      <td>0.948699</td>\n",
       "      <td>0.561180</td>\n",
       "      <td>11.702511</td>\n",
       "      <td>0.073221</td>\n",
       "    </tr>\n",
       "    <tr>\n",
       "      <th>11</th>\n",
       "      <td></td>\n",
       "      <td>2018-12-20 15:26:44</td>\n",
       "      <td>5.714 sec</td>\n",
       "      <td>11.0</td>\n",
       "      <td>0.207007</td>\n",
       "      <td>0.327799</td>\n",
       "      <td>0.903196</td>\n",
       "      <td>0.458327</td>\n",
       "      <td>10.477915</td>\n",
       "      <td>0.073179</td>\n",
       "      <td>0.197406</td>\n",
       "      <td>0.130376</td>\n",
       "      <td>0.949340</td>\n",
       "      <td>0.565620</td>\n",
       "      <td>11.831110</td>\n",
       "      <td>0.063638</td>\n",
       "    </tr>\n",
       "    <tr>\n",
       "      <th>12</th>\n",
       "      <td></td>\n",
       "      <td>2018-12-20 15:26:44</td>\n",
       "      <td>6.340 sec</td>\n",
       "      <td>12.0</td>\n",
       "      <td>0.205470</td>\n",
       "      <td>0.293307</td>\n",
       "      <td>0.909737</td>\n",
       "      <td>0.470883</td>\n",
       "      <td>10.834196</td>\n",
       "      <td>0.072644</td>\n",
       "      <td>0.196876</td>\n",
       "      <td>0.127900</td>\n",
       "      <td>0.950332</td>\n",
       "      <td>0.568364</td>\n",
       "      <td>11.703918</td>\n",
       "      <td>0.067675</td>\n",
       "    </tr>\n",
       "    <tr>\n",
       "      <th>13</th>\n",
       "      <td></td>\n",
       "      <td>2018-12-20 15:26:45</td>\n",
       "      <td>6.962 sec</td>\n",
       "      <td>13.0</td>\n",
       "      <td>0.203840</td>\n",
       "      <td>0.260656</td>\n",
       "      <td>0.916537</td>\n",
       "      <td>0.486381</td>\n",
       "      <td>11.092864</td>\n",
       "      <td>0.074124</td>\n",
       "      <td>0.196123</td>\n",
       "      <td>0.127111</td>\n",
       "      <td>0.951252</td>\n",
       "      <td>0.574025</td>\n",
       "      <td>12.024009</td>\n",
       "      <td>0.066825</td>\n",
       "    </tr>\n",
       "    <tr>\n",
       "      <th>14</th>\n",
       "      <td></td>\n",
       "      <td>2018-12-20 15:26:46</td>\n",
       "      <td>7.608 sec</td>\n",
       "      <td>14.0</td>\n",
       "      <td>0.202909</td>\n",
       "      <td>0.238355</td>\n",
       "      <td>0.921491</td>\n",
       "      <td>0.496379</td>\n",
       "      <td>11.214769</td>\n",
       "      <td>0.072591</td>\n",
       "      <td>0.195765</td>\n",
       "      <td>0.125226</td>\n",
       "      <td>0.951875</td>\n",
       "      <td>0.576747</td>\n",
       "      <td>11.959709</td>\n",
       "      <td>0.060132</td>\n",
       "    </tr>\n",
       "    <tr>\n",
       "      <th>15</th>\n",
       "      <td></td>\n",
       "      <td>2018-12-20 15:26:46</td>\n",
       "      <td>8.323 sec</td>\n",
       "      <td>15.0</td>\n",
       "      <td>0.201890</td>\n",
       "      <td>0.219461</td>\n",
       "      <td>0.925506</td>\n",
       "      <td>0.507034</td>\n",
       "      <td>11.401007</td>\n",
       "      <td>0.071589</td>\n",
       "      <td>0.195246</td>\n",
       "      <td>0.124548</td>\n",
       "      <td>0.952281</td>\n",
       "      <td>0.582347</td>\n",
       "      <td>12.056159</td>\n",
       "      <td>0.062767</td>\n",
       "    </tr>\n",
       "    <tr>\n",
       "      <th>16</th>\n",
       "      <td></td>\n",
       "      <td>2018-12-20 15:26:47</td>\n",
       "      <td>8.988 sec</td>\n",
       "      <td>16.0</td>\n",
       "      <td>0.200941</td>\n",
       "      <td>0.203606</td>\n",
       "      <td>0.929708</td>\n",
       "      <td>0.516254</td>\n",
       "      <td>11.490078</td>\n",
       "      <td>0.072134</td>\n",
       "      <td>0.195118</td>\n",
       "      <td>0.124261</td>\n",
       "      <td>0.952506</td>\n",
       "      <td>0.582333</td>\n",
       "      <td>12.184758</td>\n",
       "      <td>0.063999</td>\n",
       "    </tr>\n",
       "    <tr>\n",
       "      <th>17</th>\n",
       "      <td></td>\n",
       "      <td>2018-12-20 15:26:48</td>\n",
       "      <td>9.666 sec</td>\n",
       "      <td>17.0</td>\n",
       "      <td>0.200384</td>\n",
       "      <td>0.192395</td>\n",
       "      <td>0.932071</td>\n",
       "      <td>0.523336</td>\n",
       "      <td>11.431778</td>\n",
       "      <td>0.070406</td>\n",
       "      <td>0.195221</td>\n",
       "      <td>0.123682</td>\n",
       "      <td>0.952623</td>\n",
       "      <td>0.583309</td>\n",
       "      <td>12.024009</td>\n",
       "      <td>0.060260</td>\n",
       "    </tr>\n",
       "    <tr>\n",
       "      <th>18</th>\n",
       "      <td></td>\n",
       "      <td>2018-12-20 15:26:48</td>\n",
       "      <td>10.329 sec</td>\n",
       "      <td>18.0</td>\n",
       "      <td>0.199751</td>\n",
       "      <td>0.184002</td>\n",
       "      <td>0.934155</td>\n",
       "      <td>0.530311</td>\n",
       "      <td>11.579148</td>\n",
       "      <td>0.067049</td>\n",
       "      <td>0.194988</td>\n",
       "      <td>0.122670</td>\n",
       "      <td>0.953182</td>\n",
       "      <td>0.584706</td>\n",
       "      <td>11.991859</td>\n",
       "      <td>0.060068</td>\n",
       "    </tr>\n",
       "    <tr>\n",
       "      <th>19</th>\n",
       "      <td></td>\n",
       "      <td>2018-12-20 15:26:49</td>\n",
       "      <td>11.087 sec</td>\n",
       "      <td>19.0</td>\n",
       "      <td>0.199402</td>\n",
       "      <td>0.176754</td>\n",
       "      <td>0.936386</td>\n",
       "      <td>0.535034</td>\n",
       "      <td>11.700608</td>\n",
       "      <td>0.066999</td>\n",
       "      <td>0.194730</td>\n",
       "      <td>0.122379</td>\n",
       "      <td>0.953377</td>\n",
       "      <td>0.588022</td>\n",
       "      <td>12.107835</td>\n",
       "      <td>0.066953</td>\n",
       "    </tr>\n",
       "    <tr>\n",
       "      <th>20</th>\n",
       "      <td></td>\n",
       "      <td>2018-12-20 15:26:50</td>\n",
       "      <td>11.824 sec</td>\n",
       "      <td>20.0</td>\n",
       "      <td>0.198993</td>\n",
       "      <td>0.171470</td>\n",
       "      <td>0.937452</td>\n",
       "      <td>0.539293</td>\n",
       "      <td>11.692511</td>\n",
       "      <td>0.068594</td>\n",
       "      <td>0.194473</td>\n",
       "      <td>0.122212</td>\n",
       "      <td>0.953393</td>\n",
       "      <td>0.590654</td>\n",
       "      <td>12.152608</td>\n",
       "      <td>0.060090</td>\n",
       "    </tr>\n",
       "    <tr>\n",
       "      <th>21</th>\n",
       "      <td></td>\n",
       "      <td>2018-12-20 15:26:51</td>\n",
       "      <td>12.520 sec</td>\n",
       "      <td>21.0</td>\n",
       "      <td>0.198433</td>\n",
       "      <td>0.166475</td>\n",
       "      <td>0.939018</td>\n",
       "      <td>0.544156</td>\n",
       "      <td>11.813970</td>\n",
       "      <td>0.067082</td>\n",
       "      <td>0.194313</td>\n",
       "      <td>0.121935</td>\n",
       "      <td>0.953676</td>\n",
       "      <td>0.591180</td>\n",
       "      <td>12.345507</td>\n",
       "      <td>0.061641</td>\n",
       "    </tr>\n",
       "    <tr>\n",
       "      <th>22</th>\n",
       "      <td></td>\n",
       "      <td>2018-12-20 15:26:51</td>\n",
       "      <td>13.200 sec</td>\n",
       "      <td>22.0</td>\n",
       "      <td>0.197982</td>\n",
       "      <td>0.160926</td>\n",
       "      <td>0.940362</td>\n",
       "      <td>0.548846</td>\n",
       "      <td>11.846359</td>\n",
       "      <td>0.066710</td>\n",
       "      <td>0.194200</td>\n",
       "      <td>0.121815</td>\n",
       "      <td>0.953594</td>\n",
       "      <td>0.592274</td>\n",
       "      <td>12.441956</td>\n",
       "      <td>0.063851</td>\n",
       "    </tr>\n",
       "    <tr>\n",
       "      <th>23</th>\n",
       "      <td></td>\n",
       "      <td>2018-12-20 15:26:52</td>\n",
       "      <td>13.941 sec</td>\n",
       "      <td>23.0</td>\n",
       "      <td>0.197610</td>\n",
       "      <td>0.156460</td>\n",
       "      <td>0.941742</td>\n",
       "      <td>0.552479</td>\n",
       "      <td>11.894943</td>\n",
       "      <td>0.069509</td>\n",
       "      <td>0.193956</td>\n",
       "      <td>0.121500</td>\n",
       "      <td>0.953841</td>\n",
       "      <td>0.593780</td>\n",
       "      <td>12.409806</td>\n",
       "      <td>0.063872</td>\n",
       "    </tr>\n",
       "    <tr>\n",
       "      <th>24</th>\n",
       "      <td></td>\n",
       "      <td>2018-12-20 15:26:53</td>\n",
       "      <td>14.669 sec</td>\n",
       "      <td>24.0</td>\n",
       "      <td>0.197283</td>\n",
       "      <td>0.152612</td>\n",
       "      <td>0.942724</td>\n",
       "      <td>0.556638</td>\n",
       "      <td>11.996212</td>\n",
       "      <td>0.069306</td>\n",
       "      <td>0.193822</td>\n",
       "      <td>0.121439</td>\n",
       "      <td>0.953825</td>\n",
       "      <td>0.595465</td>\n",
       "      <td>12.409806</td>\n",
       "      <td>0.063086</td>\n",
       "    </tr>\n",
       "    <tr>\n",
       "      <th>25</th>\n",
       "      <td></td>\n",
       "      <td>2018-12-20 15:26:53</td>\n",
       "      <td>15.402 sec</td>\n",
       "      <td>25.0</td>\n",
       "      <td>0.196848</td>\n",
       "      <td>0.149326</td>\n",
       "      <td>0.943731</td>\n",
       "      <td>0.561130</td>\n",
       "      <td>12.079620</td>\n",
       "      <td>0.068764</td>\n",
       "      <td>0.193576</td>\n",
       "      <td>0.121075</td>\n",
       "      <td>0.954276</td>\n",
       "      <td>0.597758</td>\n",
       "      <td>12.409806</td>\n",
       "      <td>0.065699</td>\n",
       "    </tr>\n",
       "    <tr>\n",
       "      <th>26</th>\n",
       "      <td></td>\n",
       "      <td>2018-12-20 15:26:54</td>\n",
       "      <td>16.131 sec</td>\n",
       "      <td>26.0</td>\n",
       "      <td>0.196498</td>\n",
       "      <td>0.147837</td>\n",
       "      <td>0.944034</td>\n",
       "      <td>0.564010</td>\n",
       "      <td>12.210738</td>\n",
       "      <td>0.068923</td>\n",
       "      <td>0.193536</td>\n",
       "      <td>0.120933</td>\n",
       "      <td>0.954473</td>\n",
       "      <td>0.598143</td>\n",
       "      <td>12.345507</td>\n",
       "      <td>0.065317</td>\n",
       "    </tr>\n",
       "    <tr>\n",
       "      <th>27</th>\n",
       "      <td></td>\n",
       "      <td>2018-12-20 15:26:55</td>\n",
       "      <td>16.911 sec</td>\n",
       "      <td>27.0</td>\n",
       "      <td>0.196335</td>\n",
       "      <td>0.144060</td>\n",
       "      <td>0.945143</td>\n",
       "      <td>0.565734</td>\n",
       "      <td>12.235030</td>\n",
       "      <td>0.067497</td>\n",
       "      <td>0.193424</td>\n",
       "      <td>0.120801</td>\n",
       "      <td>0.954478</td>\n",
       "      <td>0.599579</td>\n",
       "      <td>12.345507</td>\n",
       "      <td>0.065784</td>\n",
       "    </tr>\n",
       "    <tr>\n",
       "      <th>28</th>\n",
       "      <td></td>\n",
       "      <td>2018-12-20 15:26:56</td>\n",
       "      <td>17.671 sec</td>\n",
       "      <td>28.0</td>\n",
       "      <td>0.196350</td>\n",
       "      <td>0.143330</td>\n",
       "      <td>0.944432</td>\n",
       "      <td>0.564449</td>\n",
       "      <td>12.194544</td>\n",
       "      <td>0.070079</td>\n",
       "      <td>0.193456</td>\n",
       "      <td>0.120906</td>\n",
       "      <td>0.953936</td>\n",
       "      <td>0.598295</td>\n",
       "      <td>12.281207</td>\n",
       "      <td>0.061280</td>\n",
       "    </tr>\n",
       "    <tr>\n",
       "      <th>29</th>\n",
       "      <td></td>\n",
       "      <td>2018-12-20 15:26:57</td>\n",
       "      <td>18.465 sec</td>\n",
       "      <td>29.0</td>\n",
       "      <td>0.196252</td>\n",
       "      <td>0.142178</td>\n",
       "      <td>0.944929</td>\n",
       "      <td>0.565147</td>\n",
       "      <td>12.064987</td>\n",
       "      <td>0.069114</td>\n",
       "      <td>0.193418</td>\n",
       "      <td>0.120822</td>\n",
       "      <td>0.954105</td>\n",
       "      <td>0.597828</td>\n",
       "      <td>12.216908</td>\n",
       "      <td>0.062554</td>\n",
       "    </tr>\n",
       "  </tbody>\n",
       "</table>\n",
       "</div>"
      ],
      "text/plain": [
       "                timestamp    duration  number_of_trees  training_rmse  \\\n",
       "0     2018-12-20 15:26:38   0.006 sec              0.0            NaN   \n",
       "1     2018-12-20 15:26:38   0.371 sec              1.0       0.245711   \n",
       "2     2018-12-20 15:26:39   0.740 sec              2.0       0.236396   \n",
       "3     2018-12-20 15:26:39   1.295 sec              3.0       0.233434   \n",
       "4     2018-12-20 15:26:40   1.739 sec              4.0       0.228218   \n",
       "5     2018-12-20 15:26:40   2.216 sec              5.0       0.223709   \n",
       "6     2018-12-20 15:26:41   2.728 sec              6.0       0.219798   \n",
       "7     2018-12-20 15:26:41   3.281 sec              7.0       0.216557   \n",
       "8     2018-12-20 15:26:42   3.871 sec              8.0       0.213520   \n",
       "9     2018-12-20 15:26:43   4.486 sec              9.0       0.211306   \n",
       "10    2018-12-20 15:26:43   5.107 sec             10.0       0.209032   \n",
       "11    2018-12-20 15:26:44   5.714 sec             11.0       0.207007   \n",
       "12    2018-12-20 15:26:44   6.340 sec             12.0       0.205470   \n",
       "13    2018-12-20 15:26:45   6.962 sec             13.0       0.203840   \n",
       "14    2018-12-20 15:26:46   7.608 sec             14.0       0.202909   \n",
       "15    2018-12-20 15:26:46   8.323 sec             15.0       0.201890   \n",
       "16    2018-12-20 15:26:47   8.988 sec             16.0       0.200941   \n",
       "17    2018-12-20 15:26:48   9.666 sec             17.0       0.200384   \n",
       "18    2018-12-20 15:26:48  10.329 sec             18.0       0.199751   \n",
       "19    2018-12-20 15:26:49  11.087 sec             19.0       0.199402   \n",
       "20    2018-12-20 15:26:50  11.824 sec             20.0       0.198993   \n",
       "21    2018-12-20 15:26:51  12.520 sec             21.0       0.198433   \n",
       "22    2018-12-20 15:26:51  13.200 sec             22.0       0.197982   \n",
       "23    2018-12-20 15:26:52  13.941 sec             23.0       0.197610   \n",
       "24    2018-12-20 15:26:53  14.669 sec             24.0       0.197283   \n",
       "25    2018-12-20 15:26:53  15.402 sec             25.0       0.196848   \n",
       "26    2018-12-20 15:26:54  16.131 sec             26.0       0.196498   \n",
       "27    2018-12-20 15:26:55  16.911 sec             27.0       0.196335   \n",
       "28    2018-12-20 15:26:56  17.671 sec             28.0       0.196350   \n",
       "29    2018-12-20 15:26:57  18.465 sec             29.0       0.196252   \n",
       "\n",
       "    training_logloss  training_auc  training_pr_auc  training_lift  \\\n",
       "0                NaN           NaN              NaN            NaN   \n",
       "1           1.529905      0.720030         0.190559       7.375163   \n",
       "2           1.280030      0.775655         0.234305       7.610209   \n",
       "3           1.108593      0.785717         0.265138       7.505550   \n",
       "4           0.938032      0.803948         0.301631       7.622941   \n",
       "5           0.791193      0.821909         0.333974       7.764927   \n",
       "6           0.676722      0.840880         0.360421       8.015534   \n",
       "7           0.580743      0.856649         0.383360       8.345906   \n",
       "8           0.497769      0.871819         0.404332       8.698770   \n",
       "9           0.430494      0.884530         0.422395       9.392875   \n",
       "10          0.372437      0.894452         0.441973      10.032563   \n",
       "11          0.327799      0.903196         0.458327      10.477915   \n",
       "12          0.293307      0.909737         0.470883      10.834196   \n",
       "13          0.260656      0.916537         0.486381      11.092864   \n",
       "14          0.238355      0.921491         0.496379      11.214769   \n",
       "15          0.219461      0.925506         0.507034      11.401007   \n",
       "16          0.203606      0.929708         0.516254      11.490078   \n",
       "17          0.192395      0.932071         0.523336      11.431778   \n",
       "18          0.184002      0.934155         0.530311      11.579148   \n",
       "19          0.176754      0.936386         0.535034      11.700608   \n",
       "20          0.171470      0.937452         0.539293      11.692511   \n",
       "21          0.166475      0.939018         0.544156      11.813970   \n",
       "22          0.160926      0.940362         0.548846      11.846359   \n",
       "23          0.156460      0.941742         0.552479      11.894943   \n",
       "24          0.152612      0.942724         0.556638      11.996212   \n",
       "25          0.149326      0.943731         0.561130      12.079620   \n",
       "26          0.147837      0.944034         0.564010      12.210738   \n",
       "27          0.144060      0.945143         0.565734      12.235030   \n",
       "28          0.143330      0.944432         0.564449      12.194544   \n",
       "29          0.142178      0.944929         0.565147      12.064987   \n",
       "\n",
       "    training_classification_error  validation_rmse  validation_logloss  \\\n",
       "0                             NaN              NaN                 NaN   \n",
       "1                        0.089022         0.249436            1.580358   \n",
       "2                        0.082654         0.219145            0.607001   \n",
       "3                        0.084114         0.211103            0.322460   \n",
       "4                        0.080238         0.206755            0.237483   \n",
       "5                        0.079630         0.203557            0.194429   \n",
       "6                        0.082265         0.201219            0.166313   \n",
       "7                        0.080646         0.200243            0.151537   \n",
       "8                        0.075800         0.199253            0.141744   \n",
       "9                        0.082861         0.198694            0.134426   \n",
       "10                       0.082125         0.197941            0.132313   \n",
       "11                       0.073179         0.197406            0.130376   \n",
       "12                       0.072644         0.196876            0.127900   \n",
       "13                       0.074124         0.196123            0.127111   \n",
       "14                       0.072591         0.195765            0.125226   \n",
       "15                       0.071589         0.195246            0.124548   \n",
       "16                       0.072134         0.195118            0.124261   \n",
       "17                       0.070406         0.195221            0.123682   \n",
       "18                       0.067049         0.194988            0.122670   \n",
       "19                       0.066999         0.194730            0.122379   \n",
       "20                       0.068594         0.194473            0.122212   \n",
       "21                       0.067082         0.194313            0.121935   \n",
       "22                       0.066710         0.194200            0.121815   \n",
       "23                       0.069509         0.193956            0.121500   \n",
       "24                       0.069306         0.193822            0.121439   \n",
       "25                       0.068764         0.193576            0.121075   \n",
       "26                       0.068923         0.193536            0.120933   \n",
       "27                       0.067497         0.193424            0.120801   \n",
       "28                       0.070079         0.193456            0.120906   \n",
       "29                       0.069114         0.193418            0.120822   \n",
       "\n",
       "    validation_auc  validation_pr_auc  validation_lift  \\\n",
       "0              NaN                NaN              NaN   \n",
       "1         0.716015           0.185531         6.906414   \n",
       "2         0.860514           0.368480         8.621298   \n",
       "3         0.903563           0.444185         9.837826   \n",
       "4         0.920345           0.479558        10.223623   \n",
       "5         0.929099           0.510163        10.346394   \n",
       "6         0.936710           0.533692        11.159321   \n",
       "7         0.941581           0.543269        11.606062   \n",
       "8         0.945007           0.552556        11.798961   \n",
       "9         0.948027           0.555917        11.702511   \n",
       "10        0.948699           0.561180        11.702511   \n",
       "11        0.949340           0.565620        11.831110   \n",
       "12        0.950332           0.568364        11.703918   \n",
       "13        0.951252           0.574025        12.024009   \n",
       "14        0.951875           0.576747        11.959709   \n",
       "15        0.952281           0.582347        12.056159   \n",
       "16        0.952506           0.582333        12.184758   \n",
       "17        0.952623           0.583309        12.024009   \n",
       "18        0.953182           0.584706        11.991859   \n",
       "19        0.953377           0.588022        12.107835   \n",
       "20        0.953393           0.590654        12.152608   \n",
       "21        0.953676           0.591180        12.345507   \n",
       "22        0.953594           0.592274        12.441956   \n",
       "23        0.953841           0.593780        12.409806   \n",
       "24        0.953825           0.595465        12.409806   \n",
       "25        0.954276           0.597758        12.409806   \n",
       "26        0.954473           0.598143        12.345507   \n",
       "27        0.954478           0.599579        12.345507   \n",
       "28        0.953936           0.598295        12.281207   \n",
       "29        0.954105           0.597828        12.216908   \n",
       "\n",
       "    validation_classification_error  \n",
       "0                               NaN  \n",
       "1                          0.090517  \n",
       "2                          0.081890  \n",
       "3                          0.084950  \n",
       "4                          0.075240  \n",
       "5                          0.077917  \n",
       "6                          0.067569  \n",
       "7                          0.072987  \n",
       "8                          0.073880  \n",
       "9                          0.069099  \n",
       "10                         0.073221  \n",
       "11                         0.063638  \n",
       "12                         0.067675  \n",
       "13                         0.066825  \n",
       "14                         0.060132  \n",
       "15                         0.062767  \n",
       "16                         0.063999  \n",
       "17                         0.060260  \n",
       "18                         0.060068  \n",
       "19                         0.066953  \n",
       "20                         0.060090  \n",
       "21                         0.061641  \n",
       "22                         0.063851  \n",
       "23                         0.063872  \n",
       "24                         0.063086  \n",
       "25                         0.065699  \n",
       "26                         0.065317  \n",
       "27                         0.065784  \n",
       "28                         0.061280  \n",
       "29                         0.062554  "
      ]
     },
     "execution_count": 190,
     "metadata": {},
     "output_type": "execute_result"
    }
   ],
   "source": [
    "rf_v1.score_history()"
   ]
  },
  {
   "cell_type": "markdown",
   "metadata": {},
   "source": [
    "Se generó un segundo modelo cambiando los hiperparámetros para poder compararlos."
   ]
  },
  {
   "cell_type": "code",
   "execution_count": 191,
   "metadata": {},
   "outputs": [],
   "source": [
    "rf_v2 = H2ORandomForestEstimator(\n",
    "    model_id=\"rf_covType_v2\",\n",
    "    ntrees=200,\n",
    "    max_depth=30,\n",
    "    stopping_rounds=2,\n",
    "    stopping_tolerance=0.01,\n",
    "    score_each_iteration=True,\n",
    "seed=1234)"
   ]
  },
  {
   "cell_type": "code",
   "execution_count": 192,
   "metadata": {},
   "outputs": [
    {
     "name": "stdout",
     "output_type": "stream",
     "text": [
      "drf Model Build progress: |███████████████████████████████████████████████| 100%\n"
     ]
    }
   ],
   "source": [
    "rf_v2.train(x=predictors, y=response, training_frame=train, validation_frame=valid)"
   ]
  },
  {
   "cell_type": "code",
   "execution_count": 193,
   "metadata": {},
   "outputs": [
    {
     "name": "stdout",
     "output_type": "stream",
     "text": [
      "drf prediction progress: |████████████████████████████████████████████████| 100%\n"
     ]
    }
   ],
   "source": [
    "final_rf_predictions = rf_v2.predict(valid[1:])"
   ]
  },
  {
   "cell_type": "code",
   "execution_count": 194,
   "metadata": {},
   "outputs": [
    {
     "data": {
      "text/html": [
       "<table>\n",
       "<thead>\n",
       "<tr><th style=\"text-align: right;\">  predict</th><th style=\"text-align: right;\">      p0</th><th style=\"text-align: right;\">         p1</th></tr>\n",
       "</thead>\n",
       "<tbody>\n",
       "<tr><td style=\"text-align: right;\">        0</td><td style=\"text-align: right;\">0.999892</td><td style=\"text-align: right;\">0.000107603</td></tr>\n",
       "<tr><td style=\"text-align: right;\">        0</td><td style=\"text-align: right;\">0.995853</td><td style=\"text-align: right;\">0.00414703 </td></tr>\n",
       "<tr><td style=\"text-align: right;\">        0</td><td style=\"text-align: right;\">0.989979</td><td style=\"text-align: right;\">0.010021   </td></tr>\n",
       "<tr><td style=\"text-align: right;\">        0</td><td style=\"text-align: right;\">0.871023</td><td style=\"text-align: right;\">0.128977   </td></tr>\n",
       "<tr><td style=\"text-align: right;\">        1</td><td style=\"text-align: right;\">0.193195</td><td style=\"text-align: right;\">0.806805   </td></tr>\n",
       "<tr><td style=\"text-align: right;\">        0</td><td style=\"text-align: right;\">0.995629</td><td style=\"text-align: right;\">0.00437075 </td></tr>\n",
       "<tr><td style=\"text-align: right;\">        0</td><td style=\"text-align: right;\">0.942481</td><td style=\"text-align: right;\">0.0575189  </td></tr>\n",
       "<tr><td style=\"text-align: right;\">        0</td><td style=\"text-align: right;\">0.804888</td><td style=\"text-align: right;\">0.195112   </td></tr>\n",
       "<tr><td style=\"text-align: right;\">        0</td><td style=\"text-align: right;\">0.982656</td><td style=\"text-align: right;\">0.0173438  </td></tr>\n",
       "<tr><td style=\"text-align: right;\">        0</td><td style=\"text-align: right;\">0.995689</td><td style=\"text-align: right;\">0.00431088 </td></tr>\n",
       "</tbody>\n",
       "</table>"
      ]
     },
     "metadata": {},
     "output_type": "display_data"
    },
    {
     "data": {
      "text/plain": []
     },
     "execution_count": 194,
     "metadata": {},
     "output_type": "execute_result"
    }
   ],
   "source": [
    "final_rf_predictions"
   ]
  },
  {
   "cell_type": "code",
   "execution_count": 195,
   "metadata": {},
   "outputs": [
    {
     "name": "stdout",
     "output_type": "stream",
     "text": [
      "training score 0.9449293111555299\n",
      "validation score 0.9541046242303209\n"
     ]
    }
   ],
   "source": [
    "print('training score', rf_v1.auc(train=True))\n",
    "print('validation score', rf_v1.auc(valid=True))"
   ]
  },
  {
   "cell_type": "code",
   "execution_count": 196,
   "metadata": {},
   "outputs": [
    {
     "name": "stdout",
     "output_type": "stream",
     "text": [
      "training score 0.9241879122188484\n",
      "validation score 0.9460506474754001\n"
     ]
    }
   ],
   "source": [
    "print('training score', rf_v2.auc(train=True))\n",
    "print('validation score', rf_v2.auc(valid=True))"
   ]
  },
  {
   "cell_type": "code",
   "execution_count": 197,
   "metadata": {},
   "outputs": [
    {
     "name": "stdout",
     "output_type": "stream",
     "text": [
      "training score 0.19336082636679344\n",
      "validation score 0.13010450501512197\n"
     ]
    }
   ],
   "source": [
    "print('training score', rf_v2.logloss(train=True))\n",
    "print('validation score', rf_v2.logloss(valid=True))"
   ]
  },
  {
   "cell_type": "markdown",
   "metadata": {},
   "source": [
    "### Ajuste de hiperparámetros óptimo.\n",
    "\n",
    "Nos quedaremos con el modelo de Gradient Boosting porque tiene menor Log Loss. En esta sección se ajustan los hiperámetros del modelo. Será imporante usar los datos de validación."
   ]
  },
  {
   "cell_type": "code",
   "execution_count": 198,
   "metadata": {},
   "outputs": [
    {
     "name": "stdout",
     "output_type": "stream",
     "text": [
      "validation score RF 0.12082164323006764\n",
      "validation score GBM 0.1212337911389242\n"
     ]
    }
   ],
   "source": [
    "print('validation score RF', rf_v1.logloss(valid=True))\n",
    "print('validation score GBM', spotify_gbm.logloss(valid=True))"
   ]
  },
  {
   "cell_type": "code",
   "execution_count": 199,
   "metadata": {},
   "outputs": [],
   "source": [
    "gbm_params1 = {'learn_rate': [0.01, 0.1],\n",
    "                'max_depth': [3, 5, 9]}#,\n",
    "                #'sample_rate': [0.8, 1.0],\n",
    "                #'col_sample_rate': [0.2, 0.5, 1.0]}\n",
    "gbm_params2 = {'learn_rate': [i * 0.01 for i in range(1, 11)],\n",
    "                'max_depth': [i for i in range(2, 11)]},\n",
    "                #'sample_rate': [i * 0.1 for i in range(5, 11)]}#,\n",
    "               # 'col_sample_rate': [i * 0.1 for i in range(1, 11)]}\n",
    "\n",
    "gbm_grid = H2OGridSearch(model=H2OGradientBoostingEstimator,\n",
    "                          grid_id='gbm_grid',\n",
    "                          hyper_params=gbm_params1)#,\n",
    "                          #search_criteria=search_criteria)\n"
   ]
  },
  {
   "cell_type": "code",
   "execution_count": 200,
   "metadata": {},
   "outputs": [
    {
     "name": "stdout",
     "output_type": "stream",
     "text": [
      "gbm Grid Build progress: |████████████████████████████████████████████████| 100%\n"
     ]
    }
   ],
   "source": [
    "gbm_grid.train(x=predictors, y=response, training_frame=train, validation_frame=valid, seed=42)"
   ]
  },
  {
   "cell_type": "code",
   "execution_count": 201,
   "metadata": {},
   "outputs": [
    {
     "name": "stdout",
     "output_type": "stream",
     "text": [
      "     learn_rate max_depth          model_ids                 auc\n",
      "0           0.1         9   gbm_grid_model_6  0.9734527216980862\n",
      "1           0.1         5   gbm_grid_model_4  0.9716787980921754\n",
      "2          0.01         9   gbm_grid_model_5  0.9704326936098066\n",
      "3           0.1         9  gbm_grid_model_18  0.9685849185877624\n",
      "4           0.1         9  gbm_grid_model_12   0.968329670408501\n",
      "5           0.1         5  gbm_grid_model_16  0.9680274278698804\n",
      "6           0.1         5  gbm_grid_model_10  0.9678245798653033\n",
      "7           0.1         3   gbm_grid_model_2  0.9665087524432309\n",
      "8          0.01         9  gbm_grid_model_17  0.9655053167310022\n",
      "9          0.01         5   gbm_grid_model_3  0.9647187724312055\n",
      "10         0.01         5   gbm_grid_model_9  0.9632185653485847\n",
      "11         0.01         5  gbm_grid_model_15   0.962887734574687\n",
      "12         0.01         9  gbm_grid_model_11  0.9625944041283593\n",
      "13          0.1         3  gbm_grid_model_14  0.9625596744183935\n",
      "14          0.1         3   gbm_grid_model_8   0.958029312036251\n",
      "15          0.1         9  gbm_grid_model_24  0.9562224338188392\n",
      "16         0.01         3   gbm_grid_model_7  0.9552296194174251\n",
      "17          0.1         5  gbm_grid_model_22  0.9547173735804153\n",
      "18         0.01         3  gbm_grid_model_13  0.9521618430104382\n",
      "19         0.01         3   gbm_grid_model_1  0.9499447669877655\n",
      "20         0.01         9  gbm_grid_model_23  0.9497494402766841\n",
      "21         0.01         5  gbm_grid_model_21  0.9484676801051503\n",
      "22          0.1         3  gbm_grid_model_20  0.9466041927166942\n",
      "23         0.01         3  gbm_grid_model_19  0.9372605575170698\n",
      "\n"
     ]
    }
   ],
   "source": [
    "# Get los resultados del grid, en orden de mejor a peor por AUC\n",
    "gbm_gridperf = gbm_grid.get_grid(sort_by='auc', decreasing=True)\n",
    "print(gbm_gridperf)\n",
    "\n",
    "# Escojes el mejor modelo (usando el AUC de valicación)\n",
    "best_gbm = gbm_gridperf.models[0]"
   ]
  },
  {
   "cell_type": "markdown",
   "metadata": {},
   "source": [
    "## Evaluación\n",
    "\n",
    "Summarize assessment results in terms of business success criteria, including a final statement regarding\n",
    "whether the project already meets the initial business objectives.\n",
    "\n",
    "\n"
   ]
  },
  {
   "cell_type": "markdown",
   "metadata": {},
   "source": [
    "### Reentrenamiento final de modelo con datos de entrenamiento y prueba con hiperparámetros optimizados.\n",
    "Se mejora el ajuste de hiperparámetros para este modelo usando todos los datos."
   ]
  },
  {
   "cell_type": "code",
   "execution_count": 202,
   "metadata": {},
   "outputs": [
    {
     "name": "stdout",
     "output_type": "stream",
     "text": [
      "Parse progress: |█████████████████████████████████████████████████████████| 100%\n"
     ]
    }
   ],
   "source": [
    "#spotify_test = h2o.import_file(\"s3://proyectomineria/data/resumen_final_test/part-00000-326c4568-e87c-4af5-9c77-6ee2aa5d17ae-c000.csv\")\n",
    "#spotify_test = h2o.import_file(\"/home/toto/Desktop/3er_Semestre/Mineria/Proyecto/kkbox_churn_prediction/data/part-00000-326c4568-e87c-4af5-9c77-6ee2aa5d17ae-c000.csv\")\n",
    "spotify_test = h2o.import_file(\"/home/lorena/Documents/mineria/proyecto/testR.csv\")"
   ]
  },
  {
   "cell_type": "code",
   "execution_count": 203,
   "metadata": {},
   "outputs": [
    {
     "data": {
      "text/html": [
       "<table>\n",
       "<thead>\n",
       "<tr><th style=\"text-align: right;\">  avg_num_unq</th><th style=\"text-align: right;\">       date</th><th style=\"text-align: right;\">  bd</th><th style=\"text-align: right;\">  payment_plan_days</th><th style=\"text-align: right;\">  city</th><th style=\"text-align: right;\">  avg_num_50</th><th>registered_init_time    </th><th>msno                                        </th><th style=\"text-align: right;\">  avg_num_75</th><th style=\"text-align: right;\">  plan_list_price</th><th style=\"text-align: right;\">  actual_amount_paid</th><th style=\"text-align: right;\">  avg_num_25</th><th style=\"text-align: right;\">  avg_num_100</th><th style=\"text-align: right;\">  membership_expire_date</th><th style=\"text-align: right;\">  is_churn</th><th style=\"text-align: right;\">  is_auto_renew</th><th style=\"text-align: right;\">  payment_method_id</th><th style=\"text-align: right;\">  registered_via</th><th style=\"text-align: right;\">  avg_num_985</th><th>gender  </th><th style=\"text-align: right;\">  total_secs</th><th style=\"text-align: right;\">  is_cancel</th><th style=\"text-align: right;\">  transaction_date</th></tr>\n",
       "</thead>\n",
       "<tbody>\n",
       "<tr><td style=\"text-align: right;\">      13.0667</td><td style=\"text-align: right;\">1.48398e+09</td><td style=\"text-align: right;\">   0</td><td style=\"text-align: right;\">                 30</td><td style=\"text-align: right;\">     1</td><td style=\"text-align: right;\">    0.933333</td><td>2014-07-14T00:00:00.000Z</td><td>++4RuqBw0Ss6bQU4oMxaRlbBPoWzoEiIZaxPM04Y4+U=</td><td style=\"text-align: right;\">    0.733333</td><td style=\"text-align: right;\">              149</td><td style=\"text-align: right;\">                 149</td><td style=\"text-align: right;\">     5.73333</td><td style=\"text-align: right;\">      6.46667</td><td style=\"text-align: right;\">                     nan</td><td style=\"text-align: right;\">         0</td><td style=\"text-align: right;\">            1  </td><td style=\"text-align: right;\">                 41</td><td style=\"text-align: right;\">               7</td><td style=\"text-align: right;\">     0.666667</td><td>        </td><td style=\"text-align: right;\">     1978.66</td><td style=\"text-align: right;\">          0</td><td style=\"text-align: right;\">       1.4856e+09 </td></tr>\n",
       "<tr><td style=\"text-align: right;\">      61.1333</td><td style=\"text-align: right;\">1.48755e+09</td><td style=\"text-align: right;\">  31</td><td style=\"text-align: right;\">                 30</td><td style=\"text-align: right;\">    15</td><td style=\"text-align: right;\">    1.26667 </td><td>2006-06-03T00:00:00.000Z</td><td>+/namlXq+u3izRjHCFJV4MgqcXcLidZYszVsROOq/y4=</td><td style=\"text-align: right;\">    1.4     </td><td style=\"text-align: right;\">              149</td><td style=\"text-align: right;\">                 149</td><td style=\"text-align: right;\">    29.1333 </td><td style=\"text-align: right;\">     33.6    </td><td style=\"text-align: right;\">                     nan</td><td style=\"text-align: right;\">         0</td><td style=\"text-align: right;\">            1  </td><td style=\"text-align: right;\">                 34</td><td style=\"text-align: right;\">               9</td><td style=\"text-align: right;\">     1.26667 </td><td>male    </td><td style=\"text-align: right;\">     9395.27</td><td style=\"text-align: right;\">          0</td><td style=\"text-align: right;\">       1.48703e+09</td></tr>\n",
       "<tr><td style=\"text-align: right;\">      19.8667</td><td style=\"text-align: right;\">1.48764e+09</td><td style=\"text-align: right;\">  31</td><td style=\"text-align: right;\">                 30</td><td style=\"text-align: right;\">     9</td><td style=\"text-align: right;\">    1.86667 </td><td>2004-03-30T00:00:00.000Z</td><td>+0/X9tkmyHyet9X80G6GTrDFHnJqvai8d1ZPhayT0os=</td><td style=\"text-align: right;\">    1.06667 </td><td style=\"text-align: right;\">              149</td><td style=\"text-align: right;\">                 149</td><td style=\"text-align: right;\">    12.4667 </td><td style=\"text-align: right;\">     67.8    </td><td style=\"text-align: right;\">                     nan</td><td style=\"text-align: right;\">         0</td><td style=\"text-align: right;\">            1  </td><td style=\"text-align: right;\">                 34</td><td style=\"text-align: right;\">               9</td><td style=\"text-align: right;\">     3.26667 </td><td>male    </td><td style=\"text-align: right;\">    17219   </td><td style=\"text-align: right;\">          0</td><td style=\"text-align: right;\">       1.48703e+09</td></tr>\n",
       "<tr><td style=\"text-align: right;\">      27.8   </td><td style=\"text-align: right;\">1.48751e+09</td><td style=\"text-align: right;\">  29</td><td style=\"text-align: right;\">                 30</td><td style=\"text-align: right;\">    15</td><td style=\"text-align: right;\">    0.6     </td><td>2008-03-22T00:00:00.000Z</td><td>+09YGn842g6h2EZUXe0VWeC4bBoCbDGfUboitc0vIHw=</td><td style=\"text-align: right;\">    0.333333</td><td style=\"text-align: right;\">              149</td><td style=\"text-align: right;\">                 149</td><td style=\"text-align: right;\">     2.33333</td><td style=\"text-align: right;\">     33      </td><td style=\"text-align: right;\">                     nan</td><td style=\"text-align: right;\">         0</td><td style=\"text-align: right;\">            1  </td><td style=\"text-align: right;\">                 34</td><td style=\"text-align: right;\">               9</td><td style=\"text-align: right;\">     0.666667</td><td>male    </td><td style=\"text-align: right;\">     8571.42</td><td style=\"text-align: right;\">          0</td><td style=\"text-align: right;\">       1.48703e+09</td></tr>\n",
       "<tr><td style=\"text-align: right;\">      30.9333</td><td style=\"text-align: right;\">1.48739e+09</td><td style=\"text-align: right;\">  24</td><td style=\"text-align: right;\">                 30</td><td style=\"text-align: right;\">     5</td><td style=\"text-align: right;\">    4.4     </td><td>2014-03-20T00:00:00.000Z</td><td>+0jTOa6KGPk1vtNTwRDMZc/McUo41AeuwV3ndo54Y+Q=</td><td style=\"text-align: right;\">    0.933333</td><td style=\"text-align: right;\">              149</td><td style=\"text-align: right;\">                 149</td><td style=\"text-align: right;\">    10.7333 </td><td style=\"text-align: right;\">     19.6    </td><td style=\"text-align: right;\">                     nan</td><td style=\"text-align: right;\">         0</td><td style=\"text-align: right;\">            1  </td><td style=\"text-align: right;\">                 23</td><td style=\"text-align: right;\">               9</td><td style=\"text-align: right;\">     0.533333</td><td>female  </td><td style=\"text-align: right;\">     5353.78</td><td style=\"text-align: right;\">          0</td><td style=\"text-align: right;\">       1.48448e+09</td></tr>\n",
       "<tr><td style=\"text-align: right;\">      46.6667</td><td style=\"text-align: right;\">1.48743e+09</td><td style=\"text-align: right;\">  32</td><td style=\"text-align: right;\">                 30</td><td style=\"text-align: right;\">    13</td><td style=\"text-align: right;\">    1.6     </td><td>2015-03-16T00:00:00.000Z</td><td>+0l+FDuhyjaZnu0APnrg5L9QqgaRw4RmdQMvqOtKDmU=</td><td style=\"text-align: right;\">    1.66667 </td><td style=\"text-align: right;\">              149</td><td style=\"text-align: right;\">                 149</td><td style=\"text-align: right;\">    12.3333 </td><td style=\"text-align: right;\">     40.6    </td><td style=\"text-align: right;\">                     nan</td><td style=\"text-align: right;\">         0</td><td style=\"text-align: right;\">            1  </td><td style=\"text-align: right;\">                 37</td><td style=\"text-align: right;\">               3</td><td style=\"text-align: right;\">     0.933333</td><td>male    </td><td style=\"text-align: right;\">    10597.8 </td><td style=\"text-align: right;\">          0</td><td style=\"text-align: right;\">       1.48656e+09</td></tr>\n",
       "<tr><td style=\"text-align: right;\">      20.6667</td><td style=\"text-align: right;\">1.48656e+09</td><td style=\"text-align: right;\">   0</td><td style=\"text-align: right;\">                 30</td><td style=\"text-align: right;\">     5</td><td style=\"text-align: right;\">    0.4     </td><td>2013-02-27T00:00:00.000Z</td><td>+0l/WkoOIugT69NYawwewSLZjIJ17kHIpDdWqcp53RI=</td><td style=\"text-align: right;\">    0.333333</td><td style=\"text-align: right;\">              149</td><td style=\"text-align: right;\">                 149</td><td style=\"text-align: right;\">     1      </td><td style=\"text-align: right;\">     21.5333 </td><td style=\"text-align: right;\">                     nan</td><td style=\"text-align: right;\">         0</td><td style=\"text-align: right;\">            1  </td><td style=\"text-align: right;\">                 40</td><td style=\"text-align: right;\">               3</td><td style=\"text-align: right;\">     0.133333</td><td>        </td><td style=\"text-align: right;\">     5413.59</td><td style=\"text-align: right;\">          0</td><td style=\"text-align: right;\">       1.48647e+09</td></tr>\n",
       "<tr><td style=\"text-align: right;\">      15     </td><td style=\"text-align: right;\">1.48764e+09</td><td style=\"text-align: right;\">  31</td><td style=\"text-align: right;\">                 30</td><td style=\"text-align: right;\">     6</td><td style=\"text-align: right;\">    0.466667</td><td>2008-04-17T00:00:00.000Z</td><td>+2Df04hr61UUJijMM2xR97gtoQWWDJpnJVKQ7VMYN9o=</td><td style=\"text-align: right;\">    0.333333</td><td style=\"text-align: right;\">              180</td><td style=\"text-align: right;\">                 180</td><td style=\"text-align: right;\">     1.26667</td><td style=\"text-align: right;\">    281.667  </td><td style=\"text-align: right;\">                     nan</td><td style=\"text-align: right;\">         0</td><td style=\"text-align: right;\">            1  </td><td style=\"text-align: right;\">                 36</td><td style=\"text-align: right;\">               9</td><td style=\"text-align: right;\">     1.86667 </td><td>female  </td><td style=\"text-align: right;\">    48663   </td><td style=\"text-align: right;\">          0</td><td style=\"text-align: right;\">       1.4844e+09 </td></tr>\n",
       "<tr><td style=\"text-align: right;\">      18.6667</td><td style=\"text-align: right;\">1.48603e+09</td><td style=\"text-align: right;\">   0</td><td style=\"text-align: right;\">                 30</td><td style=\"text-align: right;\">     4</td><td style=\"text-align: right;\">    1.66667 </td><td>2015-11-03T00:00:00.000Z</td><td>+2KZws+cYLzerLNA6dgCOpxKysRv4BQ8SiKtA0rV4QE=</td><td style=\"text-align: right;\">    0.866667</td><td style=\"text-align: right;\">              180</td><td style=\"text-align: right;\">                 180</td><td style=\"text-align: right;\">     5.2    </td><td style=\"text-align: right;\">     13.4667 </td><td style=\"text-align: right;\">                     nan</td><td style=\"text-align: right;\">         0</td><td style=\"text-align: right;\">            0.5</td><td style=\"text-align: right;\">                 29</td><td style=\"text-align: right;\">               7</td><td style=\"text-align: right;\">     0.466667</td><td>        </td><td style=\"text-align: right;\">     3910.75</td><td style=\"text-align: right;\">          0</td><td style=\"text-align: right;\">       1.485e+09  </td></tr>\n",
       "<tr><td style=\"text-align: right;\">      23.2667</td><td style=\"text-align: right;\">1.48719e+09</td><td style=\"text-align: right;\">   0</td><td style=\"text-align: right;\">                 30</td><td style=\"text-align: right;\">     1</td><td style=\"text-align: right;\">    2.73333 </td><td>2012-12-17T00:00:00.000Z</td><td>+2eLsQv6T46iKwO+m+r6OFI2X3Oc9dGBMdti2COAe4w=</td><td style=\"text-align: right;\">    1.33333 </td><td style=\"text-align: right;\">               99</td><td style=\"text-align: right;\">                  99</td><td style=\"text-align: right;\">     8.93333</td><td style=\"text-align: right;\">     11.4    </td><td style=\"text-align: right;\">                     nan</td><td style=\"text-align: right;\">         0</td><td style=\"text-align: right;\">            1  </td><td style=\"text-align: right;\">                 41</td><td style=\"text-align: right;\">               7</td><td style=\"text-align: right;\">     3       </td><td>        </td><td style=\"text-align: right;\">     3921.46</td><td style=\"text-align: right;\">          0</td><td style=\"text-align: right;\">       1.48491e+09</td></tr>\n",
       "</tbody>\n",
       "</table>"
      ]
     },
     "metadata": {},
     "output_type": "display_data"
    },
    {
     "data": {
      "text/plain": []
     },
     "execution_count": 203,
     "metadata": {},
     "output_type": "execute_result"
    }
   ],
   "source": [
    "spotify_test"
   ]
  },
  {
   "cell_type": "code",
   "execution_count": 204,
   "metadata": {},
   "outputs": [],
   "source": [
    "spotify_test[\"num_25\"] = spotify_test[\"avg_num_25\"]\n",
    "spotify_test[\"num_50\"] = spotify_test[\"avg_num_50\"]\n",
    "spotify_test[\"num_75\"] = spotify_test[\"avg_num_75\"]\n",
    "spotify_test[\"num_985\"] = spotify_test[\"avg_num_985\"]\n",
    "spotify_test[\"num_100\"] = spotify_test[\"avg_num_100\"]\n",
    "spotify_test[\"num_unq\"] = spotify_test[\"avg_num_unq\"]\n",
    "spotify_test = spotify_test[:, [\"msno\",\"is_churn\",\"city\",\"bd\",\"gender\",\"registered_via\",\"registered_init_time\",\"date\",\"num_25\",\"num_50\",\"num_75\",\"num_985\",\"num_100\",\"num_unq\",\"total_secs\",\"payment_method_id\",\"payment_plan_days\",\"plan_list_price\",\"actual_amount_paid\",\"is_auto_renew\",\"transaction_date\",\"membership_expire_date\",\"is_cancel\"]]\n",
    "spotify_test[\"is_churn\"] = spotify_test[\"is_churn\"].asfactor()\n",
    "spotify_test[\"city\"] = spotify_test[\"city\"].asfactor()\n",
    "spotify_test[\"gender\"] = spotify_test[\"gender\"].asfactor()\n",
    "spotify_test[\"discount\"] = spotify_test[\"plan_list_price\"] - spotify_test[\"actual_amount_paid\"]\n",
    "spotify_test[\"is_discount\"]=spotify_test[\"discount\"]>0\n",
    "spotify_test[\"amount_per_day\"]=spotify_test[\"plan_list_price\"]/spotify_test[\"payment_plan_days\"]\n",
    "spotify_test[\"bd\"]=(spotify_test[\"bd\"]<=0 or spotify_test[\"bd\"]>100).ifelse(np.nan,spotify_test[\"bd\"])"
   ]
  },
  {
   "cell_type": "code",
   "execution_count": 205,
   "metadata": {},
   "outputs": [
    {
     "data": {
      "text/html": [
       "<table>\n",
       "<thead>\n",
       "<tr><th>msno                                        </th><th style=\"text-align: right;\">  is_churn</th><th style=\"text-align: right;\">  city</th><th style=\"text-align: right;\">  bd</th><th>gender  </th><th style=\"text-align: right;\">  registered_via</th><th>registered_init_time    </th><th style=\"text-align: right;\">       date</th><th style=\"text-align: right;\">  num_25</th><th style=\"text-align: right;\">  num_50</th><th style=\"text-align: right;\">  num_75</th><th style=\"text-align: right;\">  num_985</th><th style=\"text-align: right;\">  num_100</th><th style=\"text-align: right;\">  num_unq</th><th style=\"text-align: right;\">  total_secs</th><th style=\"text-align: right;\">  payment_method_id</th><th style=\"text-align: right;\">  payment_plan_days</th><th style=\"text-align: right;\">  plan_list_price</th><th style=\"text-align: right;\">  actual_amount_paid</th><th style=\"text-align: right;\">  is_auto_renew</th><th style=\"text-align: right;\">  transaction_date</th><th style=\"text-align: right;\">  membership_expire_date</th><th style=\"text-align: right;\">  is_cancel</th><th style=\"text-align: right;\">  discount</th><th style=\"text-align: right;\">  is_discount</th><th style=\"text-align: right;\">  amount_per_day</th></tr>\n",
       "</thead>\n",
       "<tbody>\n",
       "<tr><td>++4RuqBw0Ss6bQU4oMxaRlbBPoWzoEiIZaxPM04Y4+U=</td><td style=\"text-align: right;\">         0</td><td style=\"text-align: right;\">     1</td><td style=\"text-align: right;\"> nan</td><td>        </td><td style=\"text-align: right;\">               7</td><td>2014-07-14T00:00:00.000Z</td><td style=\"text-align: right;\">1.48398e+09</td><td style=\"text-align: right;\"> 5.73333</td><td style=\"text-align: right;\">0.933333</td><td style=\"text-align: right;\">0.733333</td><td style=\"text-align: right;\"> 0.666667</td><td style=\"text-align: right;\">  6.46667</td><td style=\"text-align: right;\">  13.0667</td><td style=\"text-align: right;\">     1978.66</td><td style=\"text-align: right;\">                 41</td><td style=\"text-align: right;\">                 30</td><td style=\"text-align: right;\">              149</td><td style=\"text-align: right;\">                 149</td><td style=\"text-align: right;\">            1  </td><td style=\"text-align: right;\">       1.4856e+09 </td><td style=\"text-align: right;\">                     nan</td><td style=\"text-align: right;\">          0</td><td style=\"text-align: right;\">         0</td><td style=\"text-align: right;\">            0</td><td style=\"text-align: right;\">         4.96667</td></tr>\n",
       "<tr><td>+/namlXq+u3izRjHCFJV4MgqcXcLidZYszVsROOq/y4=</td><td style=\"text-align: right;\">         0</td><td style=\"text-align: right;\">    15</td><td style=\"text-align: right;\">  31</td><td>male    </td><td style=\"text-align: right;\">               9</td><td>2006-06-03T00:00:00.000Z</td><td style=\"text-align: right;\">1.48755e+09</td><td style=\"text-align: right;\">29.1333 </td><td style=\"text-align: right;\">1.26667 </td><td style=\"text-align: right;\">1.4     </td><td style=\"text-align: right;\"> 1.26667 </td><td style=\"text-align: right;\"> 33.6    </td><td style=\"text-align: right;\">  61.1333</td><td style=\"text-align: right;\">     9395.27</td><td style=\"text-align: right;\">                 34</td><td style=\"text-align: right;\">                 30</td><td style=\"text-align: right;\">              149</td><td style=\"text-align: right;\">                 149</td><td style=\"text-align: right;\">            1  </td><td style=\"text-align: right;\">       1.48703e+09</td><td style=\"text-align: right;\">                     nan</td><td style=\"text-align: right;\">          0</td><td style=\"text-align: right;\">         0</td><td style=\"text-align: right;\">            0</td><td style=\"text-align: right;\">         4.96667</td></tr>\n",
       "<tr><td>+0/X9tkmyHyet9X80G6GTrDFHnJqvai8d1ZPhayT0os=</td><td style=\"text-align: right;\">         0</td><td style=\"text-align: right;\">     9</td><td style=\"text-align: right;\">  31</td><td>male    </td><td style=\"text-align: right;\">               9</td><td>2004-03-30T00:00:00.000Z</td><td style=\"text-align: right;\">1.48764e+09</td><td style=\"text-align: right;\">12.4667 </td><td style=\"text-align: right;\">1.86667 </td><td style=\"text-align: right;\">1.06667 </td><td style=\"text-align: right;\"> 3.26667 </td><td style=\"text-align: right;\"> 67.8    </td><td style=\"text-align: right;\">  19.8667</td><td style=\"text-align: right;\">    17219   </td><td style=\"text-align: right;\">                 34</td><td style=\"text-align: right;\">                 30</td><td style=\"text-align: right;\">              149</td><td style=\"text-align: right;\">                 149</td><td style=\"text-align: right;\">            1  </td><td style=\"text-align: right;\">       1.48703e+09</td><td style=\"text-align: right;\">                     nan</td><td style=\"text-align: right;\">          0</td><td style=\"text-align: right;\">         0</td><td style=\"text-align: right;\">            0</td><td style=\"text-align: right;\">         4.96667</td></tr>\n",
       "<tr><td>+09YGn842g6h2EZUXe0VWeC4bBoCbDGfUboitc0vIHw=</td><td style=\"text-align: right;\">         0</td><td style=\"text-align: right;\">    15</td><td style=\"text-align: right;\">  29</td><td>male    </td><td style=\"text-align: right;\">               9</td><td>2008-03-22T00:00:00.000Z</td><td style=\"text-align: right;\">1.48751e+09</td><td style=\"text-align: right;\"> 2.33333</td><td style=\"text-align: right;\">0.6     </td><td style=\"text-align: right;\">0.333333</td><td style=\"text-align: right;\"> 0.666667</td><td style=\"text-align: right;\"> 33      </td><td style=\"text-align: right;\">  27.8   </td><td style=\"text-align: right;\">     8571.42</td><td style=\"text-align: right;\">                 34</td><td style=\"text-align: right;\">                 30</td><td style=\"text-align: right;\">              149</td><td style=\"text-align: right;\">                 149</td><td style=\"text-align: right;\">            1  </td><td style=\"text-align: right;\">       1.48703e+09</td><td style=\"text-align: right;\">                     nan</td><td style=\"text-align: right;\">          0</td><td style=\"text-align: right;\">         0</td><td style=\"text-align: right;\">            0</td><td style=\"text-align: right;\">         4.96667</td></tr>\n",
       "<tr><td>+0jTOa6KGPk1vtNTwRDMZc/McUo41AeuwV3ndo54Y+Q=</td><td style=\"text-align: right;\">         0</td><td style=\"text-align: right;\">     5</td><td style=\"text-align: right;\">  24</td><td>female  </td><td style=\"text-align: right;\">               9</td><td>2014-03-20T00:00:00.000Z</td><td style=\"text-align: right;\">1.48739e+09</td><td style=\"text-align: right;\">10.7333 </td><td style=\"text-align: right;\">4.4     </td><td style=\"text-align: right;\">0.933333</td><td style=\"text-align: right;\"> 0.533333</td><td style=\"text-align: right;\"> 19.6    </td><td style=\"text-align: right;\">  30.9333</td><td style=\"text-align: right;\">     5353.78</td><td style=\"text-align: right;\">                 23</td><td style=\"text-align: right;\">                 30</td><td style=\"text-align: right;\">              149</td><td style=\"text-align: right;\">                 149</td><td style=\"text-align: right;\">            1  </td><td style=\"text-align: right;\">       1.48448e+09</td><td style=\"text-align: right;\">                     nan</td><td style=\"text-align: right;\">          0</td><td style=\"text-align: right;\">         0</td><td style=\"text-align: right;\">            0</td><td style=\"text-align: right;\">         4.96667</td></tr>\n",
       "<tr><td>+0l+FDuhyjaZnu0APnrg5L9QqgaRw4RmdQMvqOtKDmU=</td><td style=\"text-align: right;\">         0</td><td style=\"text-align: right;\">    13</td><td style=\"text-align: right;\">  32</td><td>male    </td><td style=\"text-align: right;\">               3</td><td>2015-03-16T00:00:00.000Z</td><td style=\"text-align: right;\">1.48743e+09</td><td style=\"text-align: right;\">12.3333 </td><td style=\"text-align: right;\">1.6     </td><td style=\"text-align: right;\">1.66667 </td><td style=\"text-align: right;\"> 0.933333</td><td style=\"text-align: right;\"> 40.6    </td><td style=\"text-align: right;\">  46.6667</td><td style=\"text-align: right;\">    10597.8 </td><td style=\"text-align: right;\">                 37</td><td style=\"text-align: right;\">                 30</td><td style=\"text-align: right;\">              149</td><td style=\"text-align: right;\">                 149</td><td style=\"text-align: right;\">            1  </td><td style=\"text-align: right;\">       1.48656e+09</td><td style=\"text-align: right;\">                     nan</td><td style=\"text-align: right;\">          0</td><td style=\"text-align: right;\">         0</td><td style=\"text-align: right;\">            0</td><td style=\"text-align: right;\">         4.96667</td></tr>\n",
       "<tr><td>+0l/WkoOIugT69NYawwewSLZjIJ17kHIpDdWqcp53RI=</td><td style=\"text-align: right;\">         0</td><td style=\"text-align: right;\">     5</td><td style=\"text-align: right;\"> nan</td><td>        </td><td style=\"text-align: right;\">               3</td><td>2013-02-27T00:00:00.000Z</td><td style=\"text-align: right;\">1.48656e+09</td><td style=\"text-align: right;\"> 1      </td><td style=\"text-align: right;\">0.4     </td><td style=\"text-align: right;\">0.333333</td><td style=\"text-align: right;\"> 0.133333</td><td style=\"text-align: right;\"> 21.5333 </td><td style=\"text-align: right;\">  20.6667</td><td style=\"text-align: right;\">     5413.59</td><td style=\"text-align: right;\">                 40</td><td style=\"text-align: right;\">                 30</td><td style=\"text-align: right;\">              149</td><td style=\"text-align: right;\">                 149</td><td style=\"text-align: right;\">            1  </td><td style=\"text-align: right;\">       1.48647e+09</td><td style=\"text-align: right;\">                     nan</td><td style=\"text-align: right;\">          0</td><td style=\"text-align: right;\">         0</td><td style=\"text-align: right;\">            0</td><td style=\"text-align: right;\">         4.96667</td></tr>\n",
       "<tr><td>+2Df04hr61UUJijMM2xR97gtoQWWDJpnJVKQ7VMYN9o=</td><td style=\"text-align: right;\">         0</td><td style=\"text-align: right;\">     6</td><td style=\"text-align: right;\">  31</td><td>female  </td><td style=\"text-align: right;\">               9</td><td>2008-04-17T00:00:00.000Z</td><td style=\"text-align: right;\">1.48764e+09</td><td style=\"text-align: right;\"> 1.26667</td><td style=\"text-align: right;\">0.466667</td><td style=\"text-align: right;\">0.333333</td><td style=\"text-align: right;\"> 1.86667 </td><td style=\"text-align: right;\">281.667  </td><td style=\"text-align: right;\">  15     </td><td style=\"text-align: right;\">    48663   </td><td style=\"text-align: right;\">                 36</td><td style=\"text-align: right;\">                 30</td><td style=\"text-align: right;\">              180</td><td style=\"text-align: right;\">                 180</td><td style=\"text-align: right;\">            1  </td><td style=\"text-align: right;\">       1.4844e+09 </td><td style=\"text-align: right;\">                     nan</td><td style=\"text-align: right;\">          0</td><td style=\"text-align: right;\">         0</td><td style=\"text-align: right;\">            0</td><td style=\"text-align: right;\">         6      </td></tr>\n",
       "<tr><td>+2KZws+cYLzerLNA6dgCOpxKysRv4BQ8SiKtA0rV4QE=</td><td style=\"text-align: right;\">         0</td><td style=\"text-align: right;\">     4</td><td style=\"text-align: right;\"> nan</td><td>        </td><td style=\"text-align: right;\">               7</td><td>2015-11-03T00:00:00.000Z</td><td style=\"text-align: right;\">1.48603e+09</td><td style=\"text-align: right;\"> 5.2    </td><td style=\"text-align: right;\">1.66667 </td><td style=\"text-align: right;\">0.866667</td><td style=\"text-align: right;\"> 0.466667</td><td style=\"text-align: right;\"> 13.4667 </td><td style=\"text-align: right;\">  18.6667</td><td style=\"text-align: right;\">     3910.75</td><td style=\"text-align: right;\">                 29</td><td style=\"text-align: right;\">                 30</td><td style=\"text-align: right;\">              180</td><td style=\"text-align: right;\">                 180</td><td style=\"text-align: right;\">            0.5</td><td style=\"text-align: right;\">       1.485e+09  </td><td style=\"text-align: right;\">                     nan</td><td style=\"text-align: right;\">          0</td><td style=\"text-align: right;\">         0</td><td style=\"text-align: right;\">            0</td><td style=\"text-align: right;\">         6      </td></tr>\n",
       "<tr><td>+2eLsQv6T46iKwO+m+r6OFI2X3Oc9dGBMdti2COAe4w=</td><td style=\"text-align: right;\">         0</td><td style=\"text-align: right;\">     1</td><td style=\"text-align: right;\"> nan</td><td>        </td><td style=\"text-align: right;\">               7</td><td>2012-12-17T00:00:00.000Z</td><td style=\"text-align: right;\">1.48719e+09</td><td style=\"text-align: right;\"> 8.93333</td><td style=\"text-align: right;\">2.73333 </td><td style=\"text-align: right;\">1.33333 </td><td style=\"text-align: right;\"> 3       </td><td style=\"text-align: right;\"> 11.4    </td><td style=\"text-align: right;\">  23.2667</td><td style=\"text-align: right;\">     3921.46</td><td style=\"text-align: right;\">                 41</td><td style=\"text-align: right;\">                 30</td><td style=\"text-align: right;\">               99</td><td style=\"text-align: right;\">                  99</td><td style=\"text-align: right;\">            1  </td><td style=\"text-align: right;\">       1.48491e+09</td><td style=\"text-align: right;\">                     nan</td><td style=\"text-align: right;\">          0</td><td style=\"text-align: right;\">         0</td><td style=\"text-align: right;\">            0</td><td style=\"text-align: right;\">         3.3    </td></tr>\n",
       "</tbody>\n",
       "</table>"
      ]
     },
     "metadata": {},
     "output_type": "display_data"
    },
    {
     "data": {
      "text/plain": []
     },
     "execution_count": 205,
     "metadata": {},
     "output_type": "execute_result"
    }
   ],
   "source": [
    "spotify_test"
   ]
  },
  {
   "cell_type": "code",
   "execution_count": 206,
   "metadata": {},
   "outputs": [
    {
     "name": "stdout",
     "output_type": "stream",
     "text": [
      "gbm Model Build progress: |███████████████████████████████████████████████| 100%\n"
     ]
    }
   ],
   "source": [
    "best_gbm.train(x=predictors, y=response, training_frame=spotify)"
   ]
  },
  {
   "cell_type": "code",
   "execution_count": 207,
   "metadata": {},
   "outputs": [
    {
     "name": "stdout",
     "output_type": "stream",
     "text": [
      "gbm prediction progress: |████████████████████████████████████████████████| 100%\n"
     ]
    }
   ],
   "source": [
    "final_gbm_predictions = best_gbm.predict(spotify_test[1:])"
   ]
  },
  {
   "cell_type": "code",
   "execution_count": 208,
   "metadata": {},
   "outputs": [
    {
     "name": "stdout",
     "output_type": "stream",
     "text": [
      "gbm prediction progress: |████████████████████████████████████████████████| 100%\n"
     ]
    }
   ],
   "source": [
    "prediciones=best_gbm.predict(spotify_test)"
   ]
  },
  {
   "cell_type": "code",
   "execution_count": 209,
   "metadata": {},
   "outputs": [],
   "source": [
    "pred_df=prediciones.as_data_frame()\n",
    "membs=spotify_test.as_data_frame().msno"
   ]
  },
  {
   "cell_type": "code",
   "execution_count": 210,
   "metadata": {},
   "outputs": [],
   "source": [
    "result = pd.concat([membs,pred_df], axis=1, sort=False)"
   ]
  },
  {
   "cell_type": "code",
   "execution_count": 211,
   "metadata": {},
   "outputs": [],
   "source": [
    "result.to_csv(\"test_predict_mochado.csv\")"
   ]
  },
  {
   "cell_type": "markdown",
   "metadata": {},
   "source": [
    "### Generación y carga de datos de prueba en Kaggle\n",
    "Tuvimos pérdidas de datos en el conjunto de prueba. La tabla de prueba, en su forma original solo tiene una columna con ID's y es necesario construirla. Desafortunadamente no aparecen todas las covariantes en otras tablas por lo que se obtuvo una tabla llena de nulos y por esa razón no se sometió a Kaggle."
   ]
  },
  {
   "cell_type": "markdown",
   "metadata": {},
   "source": [
    "### Flask"
   ]
  },
  {
   "cell_type": "code",
   "execution_count": 212,
   "metadata": {},
   "outputs": [],
   "source": [
    "model_path = h2o.save_model(model=best_gbm, path=\"/home/lorena/Documents/mineria/proyecto\", force=True)"
   ]
  },
  {
   "cell_type": "code",
   "execution_count": 213,
   "metadata": {},
   "outputs": [
    {
     "data": {
      "text/plain": [
       "'/home/lorena/Documents/mineria/proyecto/GBM_model_python_1545334017097_6271'"
      ]
     },
     "execution_count": 213,
     "metadata": {},
     "output_type": "execute_result"
    }
   ],
   "source": [
    "model_path"
   ]
  },
  {
   "cell_type": "markdown",
   "metadata": {},
   "source": [
    "### Comentarios Finales\n",
    "\n",
    "La pregunta que queríamos contestar es ¿qué clientes no van a renovar el servicio de KKBox? ¿qué caracteristicas tienen los clientes que no van a renovar la suscripción?\n",
    "\n",
    "La respuesta se puede dar viendo las variables más importantes del modelo que se utiliza para predecir."
   ]
  },
  {
   "cell_type": "code",
   "execution_count": 214,
   "metadata": {},
   "outputs": [
    {
     "name": "stdout",
     "output_type": "stream",
     "text": [
      "Model Details\n",
      "=============\n",
      "H2OGradientBoostingEstimator :  Gradient Boosting Machine\n",
      "Model Key:  GBM_model_python_1545334017097_6271\n",
      "\n",
      "\n",
      "ModelMetricsBinomial: gbm\n",
      "** Reported on train data. **\n",
      "\n",
      "MSE: 0.035237645756813755\n",
      "RMSE: 0.18771692986199662\n",
      "LogLoss: 0.11489323442170712\n",
      "Mean Per-Class Error: 0.08419715413733375\n",
      "AUC: 0.9595068363110685\n",
      "pr_auc: 0.6563580825421097\n",
      "Gini: 0.919013672622137\n",
      "Confusion Matrix (Act/Pred) for max f1 @ threshold = 0.32626717229591234: \n"
     ]
    },
    {
     "data": {
      "text/html": [
       "<div style=\"overflow:auto\"><table style=\"width:50%\"><tr><td><b></b></td>\n",
       "<td><b>0</b></td>\n",
       "<td><b>1</b></td>\n",
       "<td><b>Error</b></td>\n",
       "<td><b>Rate</b></td></tr>\n",
       "<tr><td>0</td>\n",
       "<td>212502.0</td>\n",
       "<td>7692.0</td>\n",
       "<td>0.0349</td>\n",
       "<td> (7692.0/220194.0)</td></tr>\n",
       "<tr><td>1</td>\n",
       "<td>5661.0</td>\n",
       "<td>9796.0</td>\n",
       "<td>0.3662</td>\n",
       "<td> (5661.0/15457.0)</td></tr>\n",
       "<tr><td>Total</td>\n",
       "<td>218163.0</td>\n",
       "<td>17488.0</td>\n",
       "<td>0.0567</td>\n",
       "<td> (13353.0/235651.0)</td></tr></table></div>"
      ],
      "text/plain": [
       "       0       1      Error    Rate\n",
       "-----  ------  -----  -------  ------------------\n",
       "0      212502  7692   0.0349   (7692.0/220194.0)\n",
       "1      5661    9796   0.3662   (5661.0/15457.0)\n",
       "Total  218163  17488  0.0567   (13353.0/235651.0)"
      ]
     },
     "metadata": {},
     "output_type": "display_data"
    },
    {
     "name": "stdout",
     "output_type": "stream",
     "text": [
      "Maximum Metrics: Maximum metrics at their respective thresholds\n",
      "\n"
     ]
    },
    {
     "data": {
      "text/html": [
       "<div style=\"overflow:auto\"><table style=\"width:50%\"><tr><td><b>metric</b></td>\n",
       "<td><b>threshold</b></td>\n",
       "<td><b>value</b></td>\n",
       "<td><b>idx</b></td></tr>\n",
       "<tr><td>max f1</td>\n",
       "<td>0.3262672</td>\n",
       "<td>0.5946881</td>\n",
       "<td>204.0</td></tr>\n",
       "<tr><td>max f2</td>\n",
       "<td>0.1657003</td>\n",
       "<td>0.7197323</td>\n",
       "<td>303.0</td></tr>\n",
       "<tr><td>max f0point5</td>\n",
       "<td>0.4671354</td>\n",
       "<td>0.6312399</td>\n",
       "<td>138.0</td></tr>\n",
       "<tr><td>max accuracy</td>\n",
       "<td>0.4641476</td>\n",
       "<td>0.9513688</td>\n",
       "<td>140.0</td></tr>\n",
       "<tr><td>max precision</td>\n",
       "<td>0.9597882</td>\n",
       "<td>1.0</td>\n",
       "<td>0.0</td></tr>\n",
       "<tr><td>max recall</td>\n",
       "<td>0.0026182</td>\n",
       "<td>1.0</td>\n",
       "<td>399.0</td></tr>\n",
       "<tr><td>max specificity</td>\n",
       "<td>0.9597882</td>\n",
       "<td>1.0</td>\n",
       "<td>0.0</td></tr>\n",
       "<tr><td>max absolute_mcc</td>\n",
       "<td>0.2579934</td>\n",
       "<td>0.5679624</td>\n",
       "<td>241.0</td></tr>\n",
       "<tr><td>max min_per_class_accuracy</td>\n",
       "<td>0.1874026</td>\n",
       "<td>0.9027625</td>\n",
       "<td>290.0</td></tr>\n",
       "<tr><td>max mean_per_class_accuracy</td>\n",
       "<td>0.1277113</td>\n",
       "<td>0.9158028</td>\n",
       "<td>324.0</td></tr></table></div>"
      ],
      "text/plain": [
       "metric                       threshold    value     idx\n",
       "---------------------------  -----------  --------  -----\n",
       "max f1                       0.326267     0.594688  204\n",
       "max f2                       0.1657       0.719732  303\n",
       "max f0point5                 0.467135     0.63124   138\n",
       "max accuracy                 0.464148     0.951369  140\n",
       "max precision                0.959788     1         0\n",
       "max recall                   0.00261819   1         399\n",
       "max specificity              0.959788     1         0\n",
       "max absolute_mcc             0.257993     0.567962  241\n",
       "max min_per_class_accuracy   0.187403     0.902763  290\n",
       "max mean_per_class_accuracy  0.127711     0.915803  324"
      ]
     },
     "metadata": {},
     "output_type": "display_data"
    },
    {
     "name": "stdout",
     "output_type": "stream",
     "text": [
      "Gains/Lift Table: Avg response rate:  6.56 %, avg score:  6.57 %\n",
      "\n"
     ]
    },
    {
     "data": {
      "text/html": [
       "<div style=\"overflow:auto\"><table style=\"width:50%\"><tr><td><b></b></td>\n",
       "<td><b>group</b></td>\n",
       "<td><b>cumulative_data_fraction</b></td>\n",
       "<td><b>lower_threshold</b></td>\n",
       "<td><b>lift</b></td>\n",
       "<td><b>cumulative_lift</b></td>\n",
       "<td><b>response_rate</b></td>\n",
       "<td><b>score</b></td>\n",
       "<td><b>cumulative_response_rate</b></td>\n",
       "<td><b>cumulative_score</b></td>\n",
       "<td><b>capture_rate</b></td>\n",
       "<td><b>cumulative_capture_rate</b></td>\n",
       "<td><b>gain</b></td>\n",
       "<td><b>cumulative_gain</b></td></tr>\n",
       "<tr><td></td>\n",
       "<td>1</td>\n",
       "<td>0.0100021</td>\n",
       "<td>0.6777997</td>\n",
       "<td>13.8678546</td>\n",
       "<td>13.8678546</td>\n",
       "<td>0.9096309</td>\n",
       "<td>0.7732473</td>\n",
       "<td>0.9096309</td>\n",
       "<td>0.7732473</td>\n",
       "<td>0.1387074</td>\n",
       "<td>0.1387074</td>\n",
       "<td>1286.7854570</td>\n",
       "<td>1286.7854570</td></tr>\n",
       "<tr><td></td>\n",
       "<td>2</td>\n",
       "<td>0.0200042</td>\n",
       "<td>0.5918192</td>\n",
       "<td>11.4422737</td>\n",
       "<td>12.6550641</td>\n",
       "<td>0.7505303</td>\n",
       "<td>0.6282916</td>\n",
       "<td>0.8300806</td>\n",
       "<td>0.7007695</td>\n",
       "<td>0.1144465</td>\n",
       "<td>0.2531539</td>\n",
       "<td>1044.2273663</td>\n",
       "<td>1165.5064117</td></tr>\n",
       "<tr><td></td>\n",
       "<td>3</td>\n",
       "<td>0.0300020</td>\n",
       "<td>0.5248324</td>\n",
       "<td>9.7258546</td>\n",
       "<td>11.6789372</td>\n",
       "<td>0.6379457</td>\n",
       "<td>0.5586764</td>\n",
       "<td>0.7660537</td>\n",
       "<td>0.6534185</td>\n",
       "<td>0.0972375</td>\n",
       "<td>0.3503914</td>\n",
       "<td>872.5854644</td>\n",
       "<td>1067.8937169</td></tr>\n",
       "<tr><td></td>\n",
       "<td>4</td>\n",
       "<td>0.0400041</td>\n",
       "<td>0.4639760</td>\n",
       "<td>8.3892758</td>\n",
       "<td>10.8564346</td>\n",
       "<td>0.5502758</td>\n",
       "<td>0.4940751</td>\n",
       "<td>0.7121035</td>\n",
       "<td>0.6135784</td>\n",
       "<td>0.0839102</td>\n",
       "<td>0.4343016</td>\n",
       "<td>738.9275829</td>\n",
       "<td>985.6434594</td></tr>\n",
       "<tr><td></td>\n",
       "<td>5</td>\n",
       "<td>0.0500019</td>\n",
       "<td>0.4149903</td>\n",
       "<td>7.0274638</td>\n",
       "<td>10.0908354</td>\n",
       "<td>0.4609508</td>\n",
       "<td>0.4381431</td>\n",
       "<td>0.6618858</td>\n",
       "<td>0.5785003</td>\n",
       "<td>0.0702594</td>\n",
       "<td>0.5045610</td>\n",
       "<td>602.7463834</td>\n",
       "<td>909.0835416</td></tr>\n",
       "<tr><td></td>\n",
       "<td>6</td>\n",
       "<td>0.1000038</td>\n",
       "<td>0.2567555</td>\n",
       "<td>4.7652964</td>\n",
       "<td>7.4280659</td>\n",
       "<td>0.3125690</td>\n",
       "<td>0.3270081</td>\n",
       "<td>0.4872274</td>\n",
       "<td>0.4527542</td>\n",
       "<td>0.2382739</td>\n",
       "<td>0.7428350</td>\n",
       "<td>376.5296427</td>\n",
       "<td>642.8065922</td></tr>\n",
       "<tr><td></td>\n",
       "<td>7</td>\n",
       "<td>0.1500015</td>\n",
       "<td>0.1867775</td>\n",
       "<td>3.2025820</td>\n",
       "<td>6.0196510</td>\n",
       "<td>0.2100662</td>\n",
       "<td>0.2212462</td>\n",
       "<td>0.3948455</td>\n",
       "<td>0.3755892</td>\n",
       "<td>0.1601216</td>\n",
       "<td>0.9029566</td>\n",
       "<td>220.2582049</td>\n",
       "<td>501.9650991</td></tr>\n",
       "<tr><td></td>\n",
       "<td>8</td>\n",
       "<td>0.2000246</td>\n",
       "<td>0.0417230</td>\n",
       "<td>1.3140069</td>\n",
       "<td>4.8428407</td>\n",
       "<td>0.0861893</td>\n",
       "<td>0.1165863</td>\n",
       "<td>0.3176553</td>\n",
       "<td>0.3108165</td>\n",
       "<td>0.0657307</td>\n",
       "<td>0.9686873</td>\n",
       "<td>31.4006946</td>\n",
       "<td>384.2840654</td></tr>\n",
       "<tr><td></td>\n",
       "<td>9</td>\n",
       "<td>0.3019465</td>\n",
       "<td>0.0050030</td>\n",
       "<td>0.1656715</td>\n",
       "<td>3.2640643</td>\n",
       "<td>0.0108668</td>\n",
       "<td>0.0112896</td>\n",
       "<td>0.2140990</td>\n",
       "<td>0.2097113</td>\n",
       "<td>0.0168856</td>\n",
       "<td>0.9855729</td>\n",
       "<td>-83.4328522</td>\n",
       "<td>226.4064348</td></tr>\n",
       "<tr><td></td>\n",
       "<td>10</td>\n",
       "<td>0.4000110</td>\n",
       "<td>0.0042421</td>\n",
       "<td>0.0639933</td>\n",
       "<td>2.4795525</td>\n",
       "<td>0.0041975</td>\n",
       "<td>0.0044318</td>\n",
       "<td>0.1626407</td>\n",
       "<td>0.1593861</td>\n",
       "<td>0.0062755</td>\n",
       "<td>0.9918484</td>\n",
       "<td>-93.6006677</td>\n",
       "<td>147.9552490</td></tr>\n",
       "<tr><td></td>\n",
       "<td>11</td>\n",
       "<td>0.5013601</td>\n",
       "<td>0.0039703</td>\n",
       "<td>0.0082985</td>\n",
       "<td>1.9799930</td>\n",
       "<td>0.0005443</td>\n",
       "<td>0.0040894</td>\n",
       "<td>0.1298732</td>\n",
       "<td>0.1279932</td>\n",
       "<td>0.0008410</td>\n",
       "<td>0.9926894</td>\n",
       "<td>-99.1701520</td>\n",
       "<td>97.9992966</td></tr>\n",
       "<tr><td></td>\n",
       "<td>12</td>\n",
       "<td>0.6273430</td>\n",
       "<td>0.0036799</td>\n",
       "<td>0.0308116</td>\n",
       "<td>1.5885587</td>\n",
       "<td>0.0020210</td>\n",
       "<td>0.0037706</td>\n",
       "<td>0.1041980</td>\n",
       "<td>0.1030468</td>\n",
       "<td>0.0038817</td>\n",
       "<td>0.9965711</td>\n",
       "<td>-96.9188390</td>\n",
       "<td>58.8558681</td></tr>\n",
       "<tr><td></td>\n",
       "<td>13</td>\n",
       "<td>0.7087218</td>\n",
       "<td>0.0028364</td>\n",
       "<td>0.0190798</td>\n",
       "<td>1.4083436</td>\n",
       "<td>0.0012515</td>\n",
       "<td>0.0032536</td>\n",
       "<td>0.0923771</td>\n",
       "<td>0.0915881</td>\n",
       "<td>0.0015527</td>\n",
       "<td>0.9981238</td>\n",
       "<td>-98.0920163</td>\n",
       "<td>40.8343630</td></tr>\n",
       "<tr><td></td>\n",
       "<td>14</td>\n",
       "<td>0.9347722</td>\n",
       "<td>0.0026365</td>\n",
       "<td>0.0065826</td>\n",
       "<td>1.0693641</td>\n",
       "<td>0.0004318</td>\n",
       "<td>0.0026436</td>\n",
       "<td>0.0701425</td>\n",
       "<td>0.0700792</td>\n",
       "<td>0.0014880</td>\n",
       "<td>0.9996118</td>\n",
       "<td>-99.3417401</td>\n",
       "<td>6.9364112</td></tr>\n",
       "<tr><td></td>\n",
       "<td>15</td>\n",
       "<td>1.0</td>\n",
       "<td>0.0023170</td>\n",
       "<td>0.0059510</td>\n",
       "<td>1.0</td>\n",
       "<td>0.0003903</td>\n",
       "<td>0.0025330</td>\n",
       "<td>0.0655928</td>\n",
       "<td>0.0656733</td>\n",
       "<td>0.0003882</td>\n",
       "<td>1.0</td>\n",
       "<td>-99.4048955</td>\n",
       "<td>0.0</td></tr></table></div>"
      ],
      "text/plain": [
       "    group    cumulative_data_fraction    lower_threshold    lift        cumulative_lift    response_rate    score       cumulative_response_rate    cumulative_score    capture_rate    cumulative_capture_rate    gain      cumulative_gain\n",
       "--  -------  --------------------------  -----------------  ----------  -----------------  ---------------  ----------  --------------------------  ------------------  --------------  -------------------------  --------  -----------------\n",
       "    1        0.0100021                   0.6778             13.8679     13.8679            0.909631         0.773247    0.909631                    0.773247            0.138707        0.138707                   1286.79   1286.79\n",
       "    2        0.0200042                   0.591819           11.4423     12.6551            0.75053          0.628292    0.830081                    0.700769            0.114447        0.253154                   1044.23   1165.51\n",
       "    3        0.030002                    0.524832           9.72585     11.6789            0.637946         0.558676    0.766054                    0.653419            0.0972375       0.350391                   872.585   1067.89\n",
       "    4        0.0400041                   0.463976           8.38928     10.8564            0.550276         0.494075    0.712104                    0.613578            0.0839102       0.434302                   738.928   985.643\n",
       "    5        0.0500019                   0.41499            7.02746     10.0908            0.460951         0.438143    0.661886                    0.5785              0.0702594       0.504561                   602.746   909.084\n",
       "    6        0.100004                    0.256755           4.7653      7.42807            0.312569         0.327008    0.487227                    0.452754            0.238274        0.742835                   376.53    642.807\n",
       "    7        0.150001                    0.186777           3.20258     6.01965            0.210066         0.221246    0.394846                    0.375589            0.160122        0.902957                   220.258   501.965\n",
       "    8        0.200025                    0.041723           1.31401     4.84284            0.0861893        0.116586    0.317655                    0.310817            0.0657307       0.968687                   31.4007   384.284\n",
       "    9        0.301947                    0.00500296         0.165671    3.26406            0.0108668        0.0112896   0.214099                    0.209711            0.0168856       0.985573                   -83.4329  226.406\n",
       "    10       0.400011                    0.00424214         0.0639933   2.47955            0.0041975        0.00443182  0.162641                    0.159386            0.00627547      0.991848                   -93.6007  147.955\n",
       "    11       0.50136                     0.00397027         0.00829848  1.97999            0.00054432       0.00408941  0.129873                    0.127993            0.000841043     0.992689                   -99.1702  97.9993\n",
       "    12       0.627343                    0.00367991         0.0308116   1.58856            0.00202102       0.00377057  0.104198                    0.103047            0.00388174      0.996571                   -96.9188  58.8559\n",
       "    13       0.708722                    0.00283641         0.0190798   1.40834            0.0012515        0.00325364  0.0923771                   0.0915881           0.00155269      0.998124                   -98.092   40.8344\n",
       "    14       0.934772                    0.00263649         0.0065826   1.06936            0.000431771      0.00264365  0.0701425                   0.0700792           0.001488        0.999612                   -99.3417  6.93641\n",
       "    15       1                           0.00231705         0.00595104  1                  0.000390345      0.00253299  0.0655928                   0.0656733           0.000388174     1                          -99.4049  0"
      ]
     },
     "metadata": {},
     "output_type": "display_data"
    },
    {
     "name": "stdout",
     "output_type": "stream",
     "text": [
      "\n",
      "Scoring History: \n"
     ]
    },
    {
     "data": {
      "text/html": [
       "<div style=\"overflow:auto\"><table style=\"width:50%\"><tr><td><b></b></td>\n",
       "<td><b>timestamp</b></td>\n",
       "<td><b>duration</b></td>\n",
       "<td><b>number_of_trees</b></td>\n",
       "<td><b>training_rmse</b></td>\n",
       "<td><b>training_logloss</b></td>\n",
       "<td><b>training_auc</b></td>\n",
       "<td><b>training_pr_auc</b></td>\n",
       "<td><b>training_lift</b></td>\n",
       "<td><b>training_classification_error</b></td></tr>\n",
       "<tr><td></td>\n",
       "<td>2018-12-20 15:28:32</td>\n",
       "<td> 0.018 sec</td>\n",
       "<td>0.0</td>\n",
       "<td>0.2475689</td>\n",
       "<td>0.2420866</td>\n",
       "<td>0.5</td>\n",
       "<td>0.0</td>\n",
       "<td>1.0</td>\n",
       "<td>0.9344072</td></tr>\n",
       "<tr><td></td>\n",
       "<td>2018-12-20 15:28:32</td>\n",
       "<td> 0.275 sec</td>\n",
       "<td>1.0</td>\n",
       "<td>0.2365464</td>\n",
       "<td>0.2089622</td>\n",
       "<td>0.9437967</td>\n",
       "<td>0.5279200</td>\n",
       "<td>10.7054541</td>\n",
       "<td>0.0780519</td></tr>\n",
       "<tr><td></td>\n",
       "<td>2018-12-20 15:28:33</td>\n",
       "<td> 0.468 sec</td>\n",
       "<td>2.0</td>\n",
       "<td>0.2291430</td>\n",
       "<td>0.1922037</td>\n",
       "<td>0.9471793</td>\n",
       "<td>0.5368189</td>\n",
       "<td>11.2051049</td>\n",
       "<td>0.0766091</td></tr>\n",
       "<tr><td></td>\n",
       "<td>2018-12-20 15:28:33</td>\n",
       "<td> 0.656 sec</td>\n",
       "<td>3.0</td>\n",
       "<td>0.2232677</td>\n",
       "<td>0.1803427</td>\n",
       "<td>0.9477386</td>\n",
       "<td>0.5400711</td>\n",
       "<td>11.2616311</td>\n",
       "<td>0.0688858</td></tr>\n",
       "<tr><td></td>\n",
       "<td>2018-12-20 15:28:33</td>\n",
       "<td> 0.875 sec</td>\n",
       "<td>4.0</td>\n",
       "<td>0.2180669</td>\n",
       "<td>0.1706770</td>\n",
       "<td>0.9505813</td>\n",
       "<td>0.5594826</td>\n",
       "<td>11.2716751</td>\n",
       "<td>0.0674854</td></tr>\n",
       "<tr><td></td>\n",
       "<td>2018-12-20 15:28:33</td>\n",
       "<td> 1.121 sec</td>\n",
       "<td>5.0</td>\n",
       "<td>0.2138789</td>\n",
       "<td>0.1631844</td>\n",
       "<td>0.9509486</td>\n",
       "<td>0.5662901</td>\n",
       "<td>11.3958829</td>\n",
       "<td>0.0683002</td></tr>\n",
       "<tr><td></td>\n",
       "<td>2018-12-20 15:28:34</td>\n",
       "<td> 1.361 sec</td>\n",
       "<td>6.0</td>\n",
       "<td>0.2104485</td>\n",
       "<td>0.1571033</td>\n",
       "<td>0.9524804</td>\n",
       "<td>0.5730491</td>\n",
       "<td>12.3165279</td>\n",
       "<td>0.0677994</td></tr>\n",
       "<tr><td></td>\n",
       "<td>2018-12-20 15:28:34</td>\n",
       "<td> 1.596 sec</td>\n",
       "<td>7.0</td>\n",
       "<td>0.2076304</td>\n",
       "<td>0.1519563</td>\n",
       "<td>0.9530572</td>\n",
       "<td>0.5792164</td>\n",
       "<td>12.1964676</td>\n",
       "<td>0.0677358</td></tr>\n",
       "<tr><td></td>\n",
       "<td>2018-12-20 15:28:34</td>\n",
       "<td> 1.838 sec</td>\n",
       "<td>8.0</td>\n",
       "<td>0.2052718</td>\n",
       "<td>0.1476896</td>\n",
       "<td>0.9532229</td>\n",
       "<td>0.5866584</td>\n",
       "<td>12.3141004</td>\n",
       "<td>0.0670356</td></tr>\n",
       "<tr><td></td>\n",
       "<td>2018-12-20 15:28:34</td>\n",
       "<td> 2.078 sec</td>\n",
       "<td>9.0</td>\n",
       "<td>0.2033293</td>\n",
       "<td>0.1441220</td>\n",
       "<td>0.9533065</td>\n",
       "<td>0.5893603</td>\n",
       "<td>12.5003811</td>\n",
       "<td>0.0670483</td></tr>\n",
       "<tr><td></td>\n",
       "<td>2018-12-20 15:28:35</td>\n",
       "<td> 2.323 sec</td>\n",
       "<td>10.0</td>\n",
       "<td>0.2016803</td>\n",
       "<td>0.1409930</td>\n",
       "<td>0.9536316</td>\n",
       "<td>0.5922684</td>\n",
       "<td>12.4241941</td>\n",
       "<td>0.0677570</td></tr>\n",
       "<tr><td></td>\n",
       "<td>2018-12-20 15:28:35</td>\n",
       "<td> 2.576 sec</td>\n",
       "<td>11.0</td>\n",
       "<td>0.2003086</td>\n",
       "<td>0.1382870</td>\n",
       "<td>0.9539942</td>\n",
       "<td>0.5949348</td>\n",
       "<td>12.7941308</td>\n",
       "<td>0.0666027</td></tr>\n",
       "<tr><td></td>\n",
       "<td>2018-12-20 15:28:35</td>\n",
       "<td> 2.827 sec</td>\n",
       "<td>12.0</td>\n",
       "<td>0.1991105</td>\n",
       "<td>0.1358600</td>\n",
       "<td>0.9548872</td>\n",
       "<td>0.5980643</td>\n",
       "<td>12.8088695</td>\n",
       "<td>0.0665603</td></tr>\n",
       "<tr><td></td>\n",
       "<td>2018-12-20 15:28:35</td>\n",
       "<td> 3.112 sec</td>\n",
       "<td>13.0</td>\n",
       "<td>0.1980724</td>\n",
       "<td>0.1337374</td>\n",
       "<td>0.9550265</td>\n",
       "<td>0.5997874</td>\n",
       "<td>12.5946235</td>\n",
       "<td>0.0667767</td></tr>\n",
       "<tr><td></td>\n",
       "<td>2018-12-20 15:28:36</td>\n",
       "<td> 3.437 sec</td>\n",
       "<td>14.0</td>\n",
       "<td>0.1971940</td>\n",
       "<td>0.1319159</td>\n",
       "<td>0.9552895</td>\n",
       "<td>0.6023365</td>\n",
       "<td>12.9060756</td>\n",
       "<td>0.0663651</td></tr>\n",
       "<tr><td></td>\n",
       "<td>2018-12-20 15:28:36</td>\n",
       "<td> 3.735 sec</td>\n",
       "<td>15.0</td>\n",
       "<td>0.1963821</td>\n",
       "<td>0.1302655</td>\n",
       "<td>0.9554332</td>\n",
       "<td>0.6051645</td>\n",
       "<td>13.0463912</td>\n",
       "<td>0.0662038</td></tr>\n",
       "<tr><td></td>\n",
       "<td>2018-12-20 15:28:40</td>\n",
       "<td> 7.744 sec</td>\n",
       "<td>39.0</td>\n",
       "<td>0.1890805</td>\n",
       "<td>0.1165018</td>\n",
       "<td>0.9588484</td>\n",
       "<td>0.6450919</td>\n",
       "<td>13.5703166</td>\n",
       "<td>0.0594948</td></tr>\n",
       "<tr><td></td>\n",
       "<td>2018-12-20 15:28:42</td>\n",
       "<td> 9.689 sec</td>\n",
       "<td>50.0</td>\n",
       "<td>0.1877169</td>\n",
       "<td>0.1148932</td>\n",
       "<td>0.9595068</td>\n",
       "<td>0.6563581</td>\n",
       "<td>13.8678546</td>\n",
       "<td>0.0566643</td></tr></table></div>"
      ],
      "text/plain": [
       "    timestamp            duration    number_of_trees    training_rmse    training_logloss    training_auc    training_pr_auc    training_lift    training_classification_error\n",
       "--  -------------------  ----------  -----------------  ---------------  ------------------  --------------  -----------------  ---------------  -------------------------------\n",
       "    2018-12-20 15:28:32  0.018 sec   0                  0.247569         0.242087            0.5             0                  1                0.934407\n",
       "    2018-12-20 15:28:32  0.275 sec   1                  0.236546         0.208962            0.943797        0.52792            10.7055          0.0780519\n",
       "    2018-12-20 15:28:33  0.468 sec   2                  0.229143         0.192204            0.947179        0.536819           11.2051          0.0766091\n",
       "    2018-12-20 15:28:33  0.656 sec   3                  0.223268         0.180343            0.947739        0.540071           11.2616          0.0688858\n",
       "    2018-12-20 15:28:33  0.875 sec   4                  0.218067         0.170677            0.950581        0.559483           11.2717          0.0674854\n",
       "    2018-12-20 15:28:33  1.121 sec   5                  0.213879         0.163184            0.950949        0.56629            11.3959          0.0683002\n",
       "    2018-12-20 15:28:34  1.361 sec   6                  0.210449         0.157103            0.95248         0.573049           12.3165          0.0677994\n",
       "    2018-12-20 15:28:34  1.596 sec   7                  0.20763          0.151956            0.953057        0.579216           12.1965          0.0677358\n",
       "    2018-12-20 15:28:34  1.838 sec   8                  0.205272         0.14769             0.953223        0.586658           12.3141          0.0670356\n",
       "    2018-12-20 15:28:34  2.078 sec   9                  0.203329         0.144122            0.953306        0.58936            12.5004          0.0670483\n",
       "    2018-12-20 15:28:35  2.323 sec   10                 0.20168          0.140993            0.953632        0.592268           12.4242          0.067757\n",
       "    2018-12-20 15:28:35  2.576 sec   11                 0.200309         0.138287            0.953994        0.594935           12.7941          0.0666027\n",
       "    2018-12-20 15:28:35  2.827 sec   12                 0.199111         0.13586             0.954887        0.598064           12.8089          0.0665603\n",
       "    2018-12-20 15:28:35  3.112 sec   13                 0.198072         0.133737            0.955026        0.599787           12.5946          0.0667767\n",
       "    2018-12-20 15:28:36  3.437 sec   14                 0.197194         0.131916            0.955289        0.602336           12.9061          0.0663651\n",
       "    2018-12-20 15:28:36  3.735 sec   15                 0.196382         0.130265            0.955433        0.605165           13.0464          0.0662038\n",
       "    2018-12-20 15:28:40  7.744 sec   39                 0.18908          0.116502            0.958848        0.645092           13.5703          0.0594948\n",
       "    2018-12-20 15:28:42  9.689 sec   50                 0.187717         0.114893            0.959507        0.656358           13.8679          0.0566643"
      ]
     },
     "metadata": {},
     "output_type": "display_data"
    },
    {
     "name": "stdout",
     "output_type": "stream",
     "text": [
      "Variable Importances: \n"
     ]
    },
    {
     "data": {
      "text/html": [
       "<div style=\"overflow:auto\"><table style=\"width:50%\"><tr><td><b>variable</b></td>\n",
       "<td><b>relative_importance</b></td>\n",
       "<td><b>scaled_importance</b></td>\n",
       "<td><b>percentage</b></td></tr>\n",
       "<tr><td>is_auto_renew</td>\n",
       "<td>10046.8408203</td>\n",
       "<td>1.0</td>\n",
       "<td>0.3488143</td></tr>\n",
       "<tr><td>is_cancel</td>\n",
       "<td>8146.3046875</td>\n",
       "<td>0.8108325</td>\n",
       "<td>0.2828300</td></tr>\n",
       "<tr><td>amount_per_day</td>\n",
       "<td>4542.9794922</td>\n",
       "<td>0.4521799</td>\n",
       "<td>0.1577268</td></tr>\n",
       "<tr><td>payment_method_id</td>\n",
       "<td>1424.7645264</td>\n",
       "<td>0.1418122</td>\n",
       "<td>0.0494661</td></tr>\n",
       "<tr><td>registered_init_time</td>\n",
       "<td>1399.0455322</td>\n",
       "<td>0.1392523</td>\n",
       "<td>0.0485732</td></tr>\n",
       "<tr><td>---</td>\n",
       "<td>---</td>\n",
       "<td>---</td>\n",
       "<td>---</td></tr>\n",
       "<tr><td>num_25</td>\n",
       "<td>49.5311508</td>\n",
       "<td>0.0049300</td>\n",
       "<td>0.0017197</td></tr>\n",
       "<tr><td>num_985</td>\n",
       "<td>40.4902573</td>\n",
       "<td>0.0040301</td>\n",
       "<td>0.0014058</td></tr>\n",
       "<tr><td>gender</td>\n",
       "<td>8.2533884</td>\n",
       "<td>0.0008215</td>\n",
       "<td>0.0002865</td></tr>\n",
       "<tr><td>registered_via</td>\n",
       "<td>3.5224080</td>\n",
       "<td>0.0003506</td>\n",
       "<td>0.0001223</td></tr>\n",
       "<tr><td>is_discount</td>\n",
       "<td>0.0169645</td>\n",
       "<td>0.0000017</td>\n",
       "<td>0.0000006</td></tr></table></div>"
      ],
      "text/plain": [
       "variable              relative_importance    scaled_importance       percentage\n",
       "--------------------  ---------------------  ----------------------  ----------------------\n",
       "is_auto_renew         10046.8408203125       1.0                     0.3488143199432445\n",
       "is_cancel             8146.3046875           0.8108324629798022      0.2828299741622057\n",
       "amount_per_day        4542.9794921875        0.4521799014673942      0.15772682482235242\n",
       "payment_method_id     1424.7645263671875     0.14181219269311277     0.04946612355390849\n",
       "registered_init_time  1399.0455322265625     0.13925228410088875     0.048573190779194995\n",
       "---                   ---                    ---                     ---\n",
       "num_25                49.531150817871094     0.004930022452205076    0.0017196624289708405\n",
       "num_985               40.490257263183594     0.004030148181637477    0.00140577339724838\n",
       "gender                8.253388404846191      0.0008214909096757717   0.0002865477929981116\n",
       "registered_via        3.5224080085754395     0.000350598568403105    0.00012229380121060417\n",
       "is_discount           0.016964491456747055   1.6885398863340792e-06  5.889868921486653e-07"
      ]
     },
     "metadata": {},
     "output_type": "display_data"
    },
    {
     "name": "stdout",
     "output_type": "stream",
     "text": [
      "\n",
      "See the whole table with table.as_data_frame()\n"
     ]
    },
    {
     "data": {
      "text/plain": [
       "<bound method ModelBase.varimp of >"
      ]
     },
     "execution_count": 214,
     "metadata": {},
     "output_type": "execute_result"
    }
   ],
   "source": [
    "best_gbm.varimp"
   ]
  },
  {
   "cell_type": "markdown",
   "metadata": {},
   "source": [
    "Podemos ver como todas estas variables estan presentes en la tabla de \"user_log\". Sin embargo, cuando estas variables no aparecen en una observación es más complicado predecir si un usuario va a renovar o no su suscripción.\n",
    "\n",
    "Se tiene una herramienta para la predicción de si un cliente va a abandonar o no el servicio.\n",
    "\n",
    "Para contestar la pregunta de que debe de hacer KKBox para que los clientes renueven su suscripción es importante ver las variables explicativas. Hay variables que no aportan mucho en terminos explicativos, por ejemplo, \"is cancel\" es importante, pero eso es bastante obvio, si el cliente cancela el servicio ya sabemos que no va a renovar su suscripción; de igual manera si se tiene el servicio en \"auto renew\" es probable que el cliente renueve el servicio. Las variables más explicativas son variables del servicio no caracteristicas de los clientes. Por lo que KKBox tiene que asegurarse que su servicio sigue siendo deseable."
   ]
  },
  {
   "cell_type": "code",
   "execution_count": null,
   "metadata": {},
   "outputs": [],
   "source": []
  }
 ],
 "metadata": {
  "kernelspec": {
   "display_name": "Python 3",
   "language": "python",
   "name": "python3"
  },
  "language_info": {
   "codemirror_mode": {
    "name": "ipython",
    "version": 3
   },
   "file_extension": ".py",
   "mimetype": "text/x-python",
   "name": "python",
   "nbconvert_exporter": "python",
   "pygments_lexer": "ipython3",
   "version": "3.6.7"
  }
 },
 "nbformat": 4,
 "nbformat_minor": 2
}
